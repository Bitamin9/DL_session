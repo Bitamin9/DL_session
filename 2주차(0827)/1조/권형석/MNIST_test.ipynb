{
 "cells": [
  {
   "cell_type": "code",
   "execution_count": 2,
   "metadata": {
    "collapsed": false,
    "jupyter": {
     "outputs_hidden": false
    },
    "pycharm": {
     "name": "#%%\n"
    }
   },
   "outputs": [],
   "source": [
    "from __future__ import print_function\n",
    "\n",
    "import torch\n",
    "import torch.nn as nn\n",
    "import torch.nn.functional as F\n",
    "from torchvision import datasets, transforms"
   ]
  },
  {
   "cell_type": "markdown",
   "metadata": {
    "pycharm": {
     "name": "#%% md\n"
    }
   },
   "source": [
    "1. 데이터 확인"
   ]
  },
  {
   "cell_type": "code",
   "execution_count": 3,
   "metadata": {
    "collapsed": false,
    "jupyter": {
     "outputs_hidden": false
    },
    "pycharm": {
     "name": "#%%\n"
    }
   },
   "outputs": [
    {
     "name": "stdout",
     "output_type": "stream",
     "text": [
      "Downloading http://yann.lecun.com/exdb/mnist/train-images-idx3-ubyte.gz\n",
      "Downloading http://yann.lecun.com/exdb/mnist/train-images-idx3-ubyte.gz to ../data/MNIST/raw/train-images-idx3-ubyte.gz\n"
     ]
    },
    {
     "data": {
      "application/vnd.jupyter.widget-view+json": {
       "model_id": "e559ade259144cfaa215b59a4de42ef4",
       "version_major": 2,
       "version_minor": 0
      },
      "text/plain": [
       "  0%|          | 0/9912422 [00:00<?, ?it/s]"
      ]
     },
     "metadata": {},
     "output_type": "display_data"
    },
    {
     "name": "stdout",
     "output_type": "stream",
     "text": [
      "Extracting ../data/MNIST/raw/train-images-idx3-ubyte.gz to ../data/MNIST/raw\n",
      "\n",
      "Downloading http://yann.lecun.com/exdb/mnist/train-labels-idx1-ubyte.gz\n",
      "Downloading http://yann.lecun.com/exdb/mnist/train-labels-idx1-ubyte.gz to ../data/MNIST/raw/train-labels-idx1-ubyte.gz\n"
     ]
    },
    {
     "data": {
      "application/vnd.jupyter.widget-view+json": {
       "model_id": "1b0aae3c15f44ce492613e357b0f3572",
       "version_major": 2,
       "version_minor": 0
      },
      "text/plain": [
       "  0%|          | 0/28881 [00:00<?, ?it/s]"
      ]
     },
     "metadata": {},
     "output_type": "display_data"
    },
    {
     "name": "stdout",
     "output_type": "stream",
     "text": [
      "Extracting ../data/MNIST/raw/train-labels-idx1-ubyte.gz to ../data/MNIST/raw\n",
      "\n",
      "Downloading http://yann.lecun.com/exdb/mnist/t10k-images-idx3-ubyte.gz\n",
      "Downloading http://yann.lecun.com/exdb/mnist/t10k-images-idx3-ubyte.gz to ../data/MNIST/raw/t10k-images-idx3-ubyte.gz\n"
     ]
    },
    {
     "data": {
      "application/vnd.jupyter.widget-view+json": {
       "model_id": "98d66905fda8439785013bfcc429192b",
       "version_major": 2,
       "version_minor": 0
      },
      "text/plain": [
       "  0%|          | 0/1648877 [00:00<?, ?it/s]"
      ]
     },
     "metadata": {},
     "output_type": "display_data"
    },
    {
     "name": "stdout",
     "output_type": "stream",
     "text": [
      "Extracting ../data/MNIST/raw/t10k-images-idx3-ubyte.gz to ../data/MNIST/raw\n",
      "\n",
      "Downloading http://yann.lecun.com/exdb/mnist/t10k-labels-idx1-ubyte.gz\n",
      "Downloading http://yann.lecun.com/exdb/mnist/t10k-labels-idx1-ubyte.gz to ../data/MNIST/raw/t10k-labels-idx1-ubyte.gz\n"
     ]
    },
    {
     "data": {
      "application/vnd.jupyter.widget-view+json": {
       "model_id": "862e73206ed343c2a874c88c5468900b",
       "version_major": 2,
       "version_minor": 0
      },
      "text/plain": [
       "  0%|          | 0/4542 [00:00<?, ?it/s]"
      ]
     },
     "metadata": {},
     "output_type": "display_data"
    },
    {
     "name": "stdout",
     "output_type": "stream",
     "text": [
      "Extracting ../data/MNIST/raw/t10k-labels-idx1-ubyte.gz to ../data/MNIST/raw\n",
      "\n",
      "number of training data:  60000\n",
      "number of test data  10000\n"
     ]
    }
   ],
   "source": [
    "#MNIST dataset\n",
    "\n",
    "train_dset = datasets.MNIST('../data', train=True, download=True,transform=transforms.ToTensor())\n",
    "test_dset = datasets.MNIST('../data', train=False,transform=transforms.ToTensor(), download=True)\n",
    "\n",
    "print('number of training data: ', len(train_dset))\n",
    "print('number of test data ', len(test_dset))"
   ]
  },
  {
   "cell_type": "code",
   "execution_count": 9,
   "metadata": {
    "collapsed": false,
    "jupyter": {
     "outputs_hidden": false
    },
    "pycharm": {
     "name": "#%%\n"
    }
   },
   "outputs": [
    {
     "name": "stdout",
     "output_type": "stream",
     "text": [
      "Image\n",
      "=========================================\n",
      "Shape of image\t:  torch.Size([1, 28, 28])\n",
      "10'th row of this image\t: tensor([0.0000, 0.0000, 0.0000, 0.0000, 0.0000, 0.0000, 0.0000, 0.0000, 0.3490,\n",
      "        0.9922, 0.9922, 0.9922, 0.9922, 0.9922, 0.9922, 0.8627, 0.1451, 0.0118,\n",
      "        0.2392, 0.8745, 0.9922, 0.9922, 0.2980, 0.0000, 0.0000, 0.0000, 0.0000,\n",
      "        0.0000])\n",
      "Label\n",
      "=========================================\n",
      "label:  3\n"
     ]
    },
    {
     "data": {
      "text/plain": [
       "<function matplotlib.pyplot.show(close=None, block=None)>"
      ]
     },
     "execution_count": 9,
     "metadata": {},
     "output_type": "execute_result"
    },
    {
     "data": {
      "image/png": "[encoded data removed]",
      "text/plain": [
       "<Figure size 432x288 with 1 Axes>"
      ]
     },
     "metadata": {
      "needs_background": "light"
     },
     "output_type": "display_data"
    }
   ],
   "source": [
    "#데이터 확인\n",
    "\n",
    "\"\"\"\n",
    "\n",
    "TODO: train_dset[*] 의 숫자값을 바꾸어 데이터를 다른 걸 출력해보자.\n",
    "\n",
    "\"\"\"\n",
    "image, label = train_dset[12345]\n",
    "\n",
    "print('Image')\n",
    "print('=========================================')\n",
    "print('Shape of image\\t: ', image.shape)\n",
    "print('10\\'th row of this image\\t:', image[0][9])\n",
    "\n",
    "print('Label')\n",
    "print('=========================================')\n",
    "print('label: ', label)\n",
    "\n",
    "from matplotlib import pyplot as plt\n",
    "plt.imshow(image.squeeze().numpy(), cmap='gray')\n",
    "plt.show"
   ]
  },
  {
   "cell_type": "markdown",
   "metadata": {
    "pycharm": {
     "name": "#%% md\n"
    }
   },
   "source": [
    "2. Training and Test"
   ]
  },
  {
   "cell_type": "code",
   "execution_count": 11,
   "metadata": {
    "collapsed": false,
    "jupyter": {
     "outputs_hidden": false
    },
    "pycharm": {
     "name": "#%%\n"
    }
   },
   "outputs": [],
   "source": [
    "\"\"\"\n",
    "TODO: batch_size 를 바꾸어보자\n",
    "\"\"\"\n",
    "train_loader = torch.utils.data.DataLoader(train_dset, batch_size = 100, shuffle=True)\n",
    "test_loader = torch.utils.data.DataLoader(test_dset, batch_size = 100, shuffle=False)"
   ]
  },
  {
   "cell_type": "code",
   "execution_count": 12,
   "metadata": {
    "collapsed": false,
    "jupyter": {
     "outputs_hidden": false
    },
    "pycharm": {
     "name": "#%%\n"
    }
   },
   "outputs": [],
   "source": [
    "#Training\n",
    "def train(model, train_loader, optimizer, i_epoch, device):\n",
    "    model.train()\n",
    "    for i, (image, target) in enumerate(train_loader):\n",
    "        image = image.to(device)\n",
    "        output = model(image)\n",
    "        loss = F.cross_entropy(output, target)\n",
    "\n",
    "        model.zero_grad()\n",
    "        loss.backward()\n",
    "        optimizer.step()\n",
    "\n",
    "\n",
    "         #러닝 커브 그리기\n",
    "        loss_value.append(loss.detach().numpy())\n",
    "\n",
    "        #100번쨰 마다 loss 출력\n",
    "        if i%100==0:\n",
    "            print(\"epoch: {}, iteration: {}, loss: {}\".format(i_epoch, i, loss.item()))"
   ]
  },
  {
   "cell_type": "code",
   "execution_count": 13,
   "metadata": {
    "collapsed": false,
    "jupyter": {
     "outputs_hidden": false
    },
    "pycharm": {
     "name": "#%%\n"
    }
   },
   "outputs": [],
   "source": [
    "#Test\n",
    "def test(model, test_loader, i_epoch, device):\n",
    "    model.eval()\n",
    "    accurate = 0\n",
    "    test_loss = 0\n",
    "\n",
    "    with torch.no_grad():\n",
    "        for i, (image, target) in enumerate(test_loader):\n",
    "            image = image.to(device)\n",
    "            output = model(image)\n",
    "            test_loss += F.nll_loss(output, target, reduction='sum').item()\n",
    "            prediction = torch.argmax(output, dim=1)\n",
    "            accurate += prediction.eq(target.view_as(prediction)).sum().item()\n",
    "\n",
    "\n",
    "    accuracy = accurate / len(test_loader.dataset)\n",
    "    #러닝커브 그리기\n",
    "    accuracy_value.append(accuracy)\n",
    "    print(\"epoch: {}, accuracy: {}\".format(i_epoch, accuracy))\n"
   ]
  },
  {
   "cell_type": "markdown",
   "metadata": {
    "pycharm": {
     "name": "#%% md\n"
    }
   },
   "source": [
    "3. Model"
   ]
  },
  {
   "cell_type": "code",
   "execution_count": 15,
   "metadata": {
    "collapsed": false,
    "jupyter": {
     "outputs_hidden": false
    },
    "pycharm": {
     "name": "#%%\n"
    }
   },
   "outputs": [],
   "source": [
    "\"\"\"\n",
    "TODO: 모델 Customization! 레이어 개수나 레이어 차원, 활성화 함수를 바꾸어보자.\n",
    "\n",
    "데이터의 형태를 주의하면서 바꾸어 볼 것~\n",
    "\n",
    "\"\"\"\n",
    "\n",
    "class net(nn.Module):\n",
    "    def __init__(self):\n",
    "        super(net, self).__init__()\n",
    "\n",
    "        self.fc = nn.Sequential(\n",
    "            nn.Linear(28 * 28, 128),\n",
    "            nn.ReLU(),\n",
    "            nn.Linear(128, 128),\n",
    "            nn.ReLU(),\n",
    "            nn.Linear(128, 10),\n",
    "            nn.Sigmoid()\n",
    "           )\n",
    "\n",
    "    def forward(self, x):\n",
    "        x = x.view(-1, 28 * 28)\n",
    "        return self.fc(x)"
   ]
  },
  {
   "cell_type": "markdown",
   "metadata": {
    "pycharm": {
     "name": "#%% md\n"
    }
   },
   "source": [
    "4. Evaluation"
   ]
  },
  {
   "cell_type": "code",
   "execution_count": 16,
   "metadata": {
    "collapsed": false,
    "jupyter": {
     "outputs_hidden": false
    },
    "pycharm": {
     "name": "#%%\n"
    }
   },
   "outputs": [],
   "source": [
    "loss_value = []\n",
    "accuracy_value = []\n",
    "model = net()\n",
    "\n",
    "\"\"\"\n",
    "\n",
    "TODO: 학습률을 바꾸어보고, Optimizer 을 바꾸어보자 (선택)\n",
    "\n",
    "\"\"\"\n",
    "optimizer = torch.optim.Adam(model.parameters(), lr=1e-3)"
   ]
  },
  {
   "cell_type": "code",
   "execution_count": 17,
   "metadata": {
    "collapsed": false,
    "jupyter": {
     "outputs_hidden": false
    },
    "pycharm": {
     "is_executing": true,
     "name": "#%%\n"
    }
   },
   "outputs": [
    {
     "name": "stdout",
     "output_type": "stream",
     "text": [
      "epoch: 0, iteration: 0, loss: 2.30379581451416\n",
      "epoch: 0, iteration: 100, loss: 1.5826096534729004\n",
      "epoch: 0, iteration: 200, loss: 1.543182373046875\n",
      "epoch: 0, iteration: 300, loss: 1.5787458419799805\n",
      "epoch: 0, iteration: 400, loss: 1.5371160507202148\n",
      "epoch: 0, iteration: 500, loss: 1.5196455717086792\n",
      "epoch: 0, accuracy: 0.9341\n",
      "epoch: 1, iteration: 0, loss: 1.5108788013458252\n",
      "epoch: 1, iteration: 100, loss: 1.509456992149353\n",
      "epoch: 1, iteration: 200, loss: 1.5269774198532104\n",
      "epoch: 1, iteration: 300, loss: 1.5047041177749634\n",
      "epoch: 1, iteration: 400, loss: 1.559707760810852\n",
      "epoch: 1, iteration: 500, loss: 1.5271261930465698\n",
      "epoch: 1, accuracy: 0.9525\n",
      "epoch: 2, iteration: 0, loss: 1.5234732627868652\n",
      "epoch: 2, iteration: 100, loss: 1.5021415948867798\n",
      "epoch: 2, iteration: 200, loss: 1.5086076259613037\n",
      "epoch: 2, iteration: 300, loss: 1.5066865682601929\n",
      "epoch: 2, iteration: 400, loss: 1.480258822441101\n",
      "epoch: 2, iteration: 500, loss: 1.4971842765808105\n",
      "epoch: 2, accuracy: 0.9607\n",
      "epoch: 3, iteration: 0, loss: 1.4716212749481201\n",
      "epoch: 3, iteration: 100, loss: 1.4886530637741089\n",
      "epoch: 3, iteration: 200, loss: 1.482377052307129\n",
      "epoch: 3, iteration: 300, loss: 1.499199390411377\n",
      "epoch: 3, iteration: 400, loss: 1.499062180519104\n",
      "epoch: 3, iteration: 500, loss: 1.4802639484405518\n",
      "epoch: 3, accuracy: 0.9661\n",
      "epoch: 4, iteration: 0, loss: 1.4835705757141113\n",
      "epoch: 4, iteration: 100, loss: 1.4946125745773315\n",
      "epoch: 4, iteration: 200, loss: 1.4728169441223145\n",
      "epoch: 4, iteration: 300, loss: 1.4791427850723267\n",
      "epoch: 4, iteration: 400, loss: 1.4915897846221924\n",
      "epoch: 4, iteration: 500, loss: 1.5097187757492065\n",
      "epoch: 4, accuracy: 0.9705\n",
      "epoch: 5, iteration: 0, loss: 1.5024936199188232\n",
      "epoch: 5, iteration: 100, loss: 1.4749068021774292\n",
      "epoch: 5, iteration: 200, loss: 1.502770185470581\n",
      "epoch: 5, iteration: 300, loss: 1.482354760169983\n",
      "epoch: 5, iteration: 400, loss: 1.4812605381011963\n",
      "epoch: 5, iteration: 500, loss: 1.4826610088348389\n",
      "epoch: 5, accuracy: 0.9722\n",
      "epoch: 6, iteration: 0, loss: 1.4830734729766846\n",
      "epoch: 6, iteration: 100, loss: 1.4749748706817627\n",
      "epoch: 6, iteration: 200, loss: 1.487157940864563\n",
      "epoch: 6, iteration: 300, loss: 1.4833203554153442\n",
      "epoch: 6, iteration: 400, loss: 1.4704092741012573\n",
      "epoch: 6, iteration: 500, loss: 1.466993808746338\n",
      "epoch: 6, accuracy: 0.9736\n",
      "epoch: 7, iteration: 0, loss: 1.4843913316726685\n",
      "epoch: 7, iteration: 100, loss: 1.4916759729385376\n",
      "epoch: 7, iteration: 200, loss: 1.4736100435256958\n",
      "epoch: 7, iteration: 300, loss: 1.4826931953430176\n",
      "epoch: 7, iteration: 400, loss: 1.4816906452178955\n",
      "epoch: 7, iteration: 500, loss: 1.486512303352356\n",
      "epoch: 7, accuracy: 0.9765\n",
      "epoch: 8, iteration: 0, loss: 1.463010311126709\n",
      "epoch: 8, iteration: 100, loss: 1.4668736457824707\n",
      "epoch: 8, iteration: 200, loss: 1.4678531885147095\n",
      "epoch: 8, iteration: 300, loss: 1.4638746976852417\n",
      "epoch: 8, iteration: 400, loss: 1.464963436126709\n",
      "epoch: 8, iteration: 500, loss: 1.480210542678833\n",
      "epoch: 8, accuracy: 0.9744\n",
      "epoch: 9, iteration: 0, loss: 1.4663269519805908\n",
      "epoch: 9, iteration: 100, loss: 1.4691858291625977\n",
      "epoch: 9, iteration: 200, loss: 1.46828293800354\n",
      "epoch: 9, iteration: 300, loss: 1.4828331470489502\n",
      "epoch: 9, iteration: 400, loss: 1.4917434453964233\n",
      "epoch: 9, iteration: 500, loss: 1.466551661491394\n",
      "epoch: 9, accuracy: 0.977\n",
      "epoch: 10, iteration: 0, loss: 1.4617444276809692\n",
      "epoch: 10, iteration: 100, loss: 1.4642746448516846\n",
      "epoch: 10, iteration: 200, loss: 1.4748482704162598\n",
      "epoch: 10, iteration: 300, loss: 1.4773277044296265\n",
      "epoch: 10, iteration: 400, loss: 1.485870361328125\n",
      "epoch: 10, iteration: 500, loss: 1.4723716974258423\n",
      "epoch: 10, accuracy: 0.9773\n",
      "epoch: 11, iteration: 0, loss: 1.4667487144470215\n",
      "epoch: 11, iteration: 100, loss: 1.4710818529129028\n",
      "epoch: 11, iteration: 200, loss: 1.474753737449646\n",
      "epoch: 11, iteration: 300, loss: 1.462651014328003\n",
      "epoch: 11, iteration: 400, loss: 1.4749261140823364\n",
      "epoch: 11, iteration: 500, loss: 1.474584937095642\n",
      "epoch: 11, accuracy: 0.9796\n",
      "epoch: 12, iteration: 0, loss: 1.4635528326034546\n",
      "epoch: 12, iteration: 100, loss: 1.464287519454956\n",
      "epoch: 12, iteration: 200, loss: 1.4715783596038818\n",
      "epoch: 12, iteration: 300, loss: 1.477726936340332\n",
      "epoch: 12, iteration: 400, loss: 1.4617953300476074\n",
      "epoch: 12, iteration: 500, loss: 1.4634292125701904\n",
      "epoch: 12, accuracy: 0.978\n",
      "epoch: 13, iteration: 0, loss: 1.475317358970642\n",
      "epoch: 13, iteration: 100, loss: 1.4722681045532227\n",
      "epoch: 13, iteration: 200, loss: 1.4642807245254517\n",
      "epoch: 13, iteration: 300, loss: 1.4669185876846313\n",
      "epoch: 13, iteration: 400, loss: 1.4731860160827637\n",
      "epoch: 13, iteration: 500, loss: 1.471627950668335\n",
      "epoch: 13, accuracy: 0.9784\n",
      "epoch: 14, iteration: 0, loss: 1.4778910875320435\n",
      "epoch: 14, iteration: 100, loss: 1.4619717597961426\n",
      "epoch: 14, iteration: 200, loss: 1.4728212356567383\n",
      "epoch: 14, iteration: 300, loss: 1.4716366529464722\n",
      "epoch: 14, iteration: 400, loss: 1.4698666334152222\n",
      "epoch: 14, iteration: 500, loss: 1.4635636806488037\n",
      "epoch: 14, accuracy: 0.9805\n"
     ]
    },
    {
     "data": {
      "text/plain": [
       "'\\n print(\\'=========================================\\')\\n    print(\"Model\\'s state_dict for epoch :\", i_epoch)\\n    for param_tensor in model.state_dict():\\n     print(param_tensor, \"\\t\", model.state_dict()[param_tensor].size())\\n\\n    print(\"Optimizer\\'s state_dict:\")\\n     for var_name in optimizer.state_dict():\\n      print(var_name, \"\\t\", optimizer.state_dict()[var_name])\\n\\n    print(\\'=========================================\\')\\n'"
      ]
     },
     "execution_count": 17,
     "metadata": {},
     "output_type": "execute_result"
    }
   ],
   "source": [
    "device = torch.device('cuda' if torch.cuda.is_available() else 'cpu')\n",
    "\n",
    "\"\"\"\n",
    "TODO: 학습횟수를 자유자재로 바꾸어보자.\n",
    "\"\"\"\n",
    "\n",
    "for i_epoch in range(15):\n",
    "    train(model, train_loader, optimizer, i_epoch, device)\n",
    "    test(model, test_loader, i_epoch, device)\n",
    "    torch.save(model.state_dict(), \"mnist_test.pt\")\n",
    "\n",
    "\"\"\"\n",
    " print('=========================================')\n",
    "    print(\"Model's state_dict for epoch :\", i_epoch)\n",
    "    for param_tensor in model.state_dict():\n",
    "     print(param_tensor, \"\\t\", model.state_dict()[param_tensor].size())\n",
    "\n",
    "    print(\"Optimizer's state_dict:\")\n",
    "     for var_name in optimizer.state_dict():\n",
    "      print(var_name, \"\\t\", optimizer.state_dict()[var_name])\n",
    "\n",
    "    print('=========================================')\n",
    "\"\"\""
   ]
  },
  {
   "cell_type": "code",
   "execution_count": 18,
   "metadata": {
    "collapsed": false,
    "jupyter": {
     "outputs_hidden": false
    },
    "pycharm": {
     "name": "#%%\n"
    }
   },
   "outputs": [
    {
     "data": {
      "text/plain": [
       "<matplotlib.legend.Legend at 0x7fdaf91b4430>"
      ]
     },
     "execution_count": 18,
     "metadata": {},
     "output_type": "execute_result"
    },
    {
     "data": {
      "image/png": "[encoded data removed]",
      "text/plain": [
       "<Figure size 432x288 with 1 Axes>"
      ]
     },
     "metadata": {
      "needs_background": "light"
     },
     "output_type": "display_data"
    }
   ],
   "source": [
    "#그래프 확인\n",
    "plt.plot(loss_value, label='Training Loss')\n",
    "\n",
    "plt.title('Training Loss')\n",
    "plt.legend()"
   ]
  },
  {
   "cell_type": "code",
   "execution_count": 19,
   "metadata": {
    "collapsed": false,
    "jupyter": {
     "outputs_hidden": false
    },
    "pycharm": {
     "name": "#%%\n"
    }
   },
   "outputs": [
    {
     "data": {
      "text/plain": [
       "Text(0.5, 0, 'Epoch')"
      ]
     },
     "execution_count": 19,
     "metadata": {},
     "output_type": "execute_result"
    },
    {
     "data": {
      "image/png": "[encoded data removed]",
      "text/plain": [
       "<Figure size 432x288 with 1 Axes>"
      ]
     },
     "metadata": {
      "needs_background": "light"
     },
     "output_type": "display_data"
    }
   ],
   "source": [
    "plt.plot(accuracy_value, label='Accuracy')\n",
    "plt.title('Accuracy')\n",
    "plt.xlabel('Epoch')"
   ]
  }
 ],
 "metadata": {
  "kernelspec": {
   "display_name": "Python 3 (ipykernel)",
   "language": "python",
   "name": "python3"
  },
  "language_info": {
   "codemirror_mode": {
    "name": "ipython",
    "version": 3
   },
   "file_extension": ".py",
   "mimetype": "text/x-python",
   "name": "python",
   "nbconvert_exporter": "python",
   "pygments_lexer": "ipython3",
   "version": "3.9.7"
  }
 },
 "nbformat": 4,
 "nbformat_minor": 4
}
