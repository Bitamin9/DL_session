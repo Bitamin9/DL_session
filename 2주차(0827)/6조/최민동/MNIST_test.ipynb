{
 "cells": [
  {
   "cell_type": "code",
   "execution_count": 1,
   "metadata": {
    "collapsed": false,
    "pycharm": {
     "name": "#%%\n"
    }
   },
   "outputs": [],
   "source": [
    "from __future__ import print_function\n",
    "\n",
    "import torch\n",
    "import torch.nn as nn\n",
    "import torch.nn.functional as F\n",
    "from torchvision import datasets, transforms"
   ]
  },
  {
   "cell_type": "markdown",
   "metadata": {
    "collapsed": false,
    "pycharm": {
     "name": "#%% md\n"
    }
   },
   "source": [
    "1. 데이터 확인"
   ]
  },
  {
   "cell_type": "code",
   "execution_count": 2,
   "metadata": {
    "collapsed": false,
    "pycharm": {
     "name": "#%%\n"
    }
   },
   "outputs": [
    {
     "name": "stdout",
     "output_type": "stream",
     "text": [
      "Downloading http://yann.lecun.com/exdb/mnist/train-images-idx3-ubyte.gz\n",
      "Downloading http://yann.lecun.com/exdb/mnist/train-images-idx3-ubyte.gz to ../data/MNIST/raw/train-images-idx3-ubyte.gz\n"
     ]
    },
    {
     "name": "stderr",
     "output_type": "stream",
     "text": [
      "9913344it [00:13, 720291.46it/s]                              \n"
     ]
    },
    {
     "name": "stdout",
     "output_type": "stream",
     "text": [
      "Extracting ../data/MNIST/raw/train-images-idx3-ubyte.gz to ../data/MNIST/raw\n",
      "\n",
      "Downloading http://yann.lecun.com/exdb/mnist/train-labels-idx1-ubyte.gz\n",
      "Downloading http://yann.lecun.com/exdb/mnist/train-labels-idx1-ubyte.gz to ../data/MNIST/raw/train-labels-idx1-ubyte.gz\n"
     ]
    },
    {
     "name": "stderr",
     "output_type": "stream",
     "text": [
      "29696it [00:00, 9468910.72it/s]          "
     ]
    },
    {
     "name": "stdout",
     "output_type": "stream",
     "text": [
      "Extracting ../data/MNIST/raw/train-labels-idx1-ubyte.gz to ../data/MNIST/raw\n",
      "\n",
      "Downloading http://yann.lecun.com/exdb/mnist/t10k-images-idx3-ubyte.gz\n"
     ]
    },
    {
     "name": "stderr",
     "output_type": "stream",
     "text": [
      "\n"
     ]
    },
    {
     "name": "stdout",
     "output_type": "stream",
     "text": [
      "Downloading http://yann.lecun.com/exdb/mnist/t10k-images-idx3-ubyte.gz to ../data/MNIST/raw/t10k-images-idx3-ubyte.gz\n"
     ]
    },
    {
     "name": "stderr",
     "output_type": "stream",
     "text": [
      "1649664it [00:00, 2885551.71it/s]                             \n"
     ]
    },
    {
     "name": "stdout",
     "output_type": "stream",
     "text": [
      "Extracting ../data/MNIST/raw/t10k-images-idx3-ubyte.gz to ../data/MNIST/raw\n",
      "\n",
      "Downloading http://yann.lecun.com/exdb/mnist/t10k-labels-idx1-ubyte.gz\n",
      "Downloading http://yann.lecun.com/exdb/mnist/t10k-labels-idx1-ubyte.gz to ../data/MNIST/raw/t10k-labels-idx1-ubyte.gz\n"
     ]
    },
    {
     "name": "stderr",
     "output_type": "stream",
     "text": [
      "5120it [00:00, 736271.69it/s]           "
     ]
    },
    {
     "name": "stdout",
     "output_type": "stream",
     "text": [
      "Extracting ../data/MNIST/raw/t10k-labels-idx1-ubyte.gz to ../data/MNIST/raw\n",
      "\n",
      "number of training data:  60000\n",
      "number of test data  10000\n"
     ]
    },
    {
     "name": "stderr",
     "output_type": "stream",
     "text": [
      "\n"
     ]
    }
   ],
   "source": [
    "#MNIST dataset\n",
    "\n",
    "train_dset = datasets.MNIST('../data', train=True, download=True,transform=transforms.ToTensor())\n",
    "test_dset = datasets.MNIST('../data', train=False,transform=transforms.ToTensor(), download=True)\n",
    "\n",
    "print('number of training data: ', len(train_dset))\n",
    "print('number of test data ', len(test_dset))"
   ]
  },
  {
   "cell_type": "code",
   "execution_count": 5,
   "metadata": {
    "collapsed": false,
    "pycharm": {
     "name": "#%%\n"
    }
   },
   "outputs": [
    {
     "name": "stdout",
     "output_type": "stream",
     "text": [
      "Image\n",
      "=========================================\n",
      "Shape of image\t:  torch.Size([1, 28, 28])\n",
      "10'th row of this image\t: tensor([0.0000, 0.0000, 0.0000, 0.0000, 0.8706, 0.6392, 0.0000, 0.0000, 0.0000,\n",
      "        0.0000, 0.0000, 0.0000, 0.0000, 0.0000, 0.0000, 0.0000, 0.0000, 0.0000,\n",
      "        0.0000, 0.7176, 0.9961, 0.4902, 0.0000, 0.0000, 0.0000, 0.0000, 0.0000,\n",
      "        0.0000])\n",
      "Label\n",
      "=========================================\n",
      "label:  4\n"
     ]
    },
    {
     "data": {
      "text/plain": [
       "<function matplotlib.pyplot.show(close=None, block=None)>"
      ]
     },
     "execution_count": 5,
     "metadata": {},
     "output_type": "execute_result"
    },
    {
     "data": {
      "image/png": "[encoded data removed]",
      "text/plain": [
       "<Figure size 432x288 with 1 Axes>"
      ]
     },
     "metadata": {
      "needs_background": "light"
     },
     "output_type": "display_data"
    }
   ],
   "source": [
    "#데이터 확인\n",
    "\n",
    "\"\"\"\n",
    "\n",
    "TODO: train_dset[*] 의 숫자값을 바꾸어 데이터를 다른 걸 출력해보자.\n",
    "\n",
    "\"\"\"\n",
    "image, label = train_dset[2]\n",
    "\n",
    "print('Image')\n",
    "print('=========================================')\n",
    "print('Shape of image\\t: ', image.shape)\n",
    "print('10\\'th row of this image\\t:', image[0][9])\n",
    "\n",
    "print('Label')\n",
    "print('=========================================')\n",
    "print('label: ', label)\n",
    "\n",
    "from matplotlib import pyplot as plt\n",
    "plt.imshow(image.squeeze().numpy(), cmap='gray')\n",
    "plt.show"
   ]
  },
  {
   "cell_type": "markdown",
   "metadata": {
    "collapsed": false,
    "pycharm": {
     "name": "#%% md\n"
    }
   },
   "source": [
    "2. Training and Test"
   ]
  },
  {
   "cell_type": "code",
   "execution_count": 6,
   "metadata": {
    "collapsed": false,
    "pycharm": {
     "name": "#%%\n"
    }
   },
   "outputs": [],
   "source": [
    "\"\"\"\n",
    "TODO: batch_size 를 바꾸어보자\n",
    "\"\"\"\n",
    "train_loader = torch.utils.data.DataLoader(train_dset, batch_size = 32, shuffle=True)\n",
    "test_loader = torch.utils.data.DataLoader(test_dset, batch_size = 32, shuffle=False)"
   ]
  },
  {
   "cell_type": "code",
   "execution_count": 23,
   "metadata": {
    "collapsed": false,
    "pycharm": {
     "name": "#%%\n"
    }
   },
   "outputs": [],
   "source": [
    "#Training\n",
    "def train(model, train_loader, optimizer, i_epoch, device):\n",
    "    model.train()\n",
    "    for i, (image, target) in enumerate(train_loader):\n",
    "        image = image.to(device)\n",
    "        output = model(image)\n",
    "        loss = F.cross_entropy(output, target)\n",
    "\n",
    "        model.zero_grad()\n",
    "        loss.backward()\n",
    "        optimizer.step()\n",
    "\n",
    "         #러닝 커브 그리기\n",
    "        loss_value.append(loss.detach().numpy())\n",
    "\n",
    "        #100번쨰 마다 loss 출력\n",
    "        if i%100==0:\n",
    "            print(\"epoch: {}, iteration: {}, loss: {}\".format(i_epoch, i, loss.item()))"
   ]
  },
  {
   "cell_type": "code",
   "execution_count": 24,
   "metadata": {
    "collapsed": false,
    "pycharm": {
     "name": "#%%\n"
    }
   },
   "outputs": [],
   "source": [
    "#Test\n",
    "def test(model, test_loader, i_epoch, device):\n",
    "    model.eval()\n",
    "    accurate = 0\n",
    "    test_loss = 0\n",
    "\n",
    "    with torch.no_grad():\n",
    "        for i, (image, target) in enumerate(test_loader):\n",
    "            image = image.to(device)\n",
    "            output = model(image)\n",
    "            test_loss += F.nll_loss(output, target, reduction='sum').item()\n",
    "            prediction = torch.argmax(output, dim=1)\n",
    "            accurate += prediction.eq(target.view_as(prediction)).sum().item()\n",
    "\n",
    "    accuracy = accurate / len(test_loader.dataset)\n",
    "    #러닝커브 그리기\n",
    "    accuracy_value.append(accuracy)\n",
    "    print(\"epoch: {}, accuracy: {}\".format(i_epoch, accuracy))"
   ]
  },
  {
   "cell_type": "markdown",
   "metadata": {
    "collapsed": false,
    "pycharm": {
     "name": "#%% md\n"
    }
   },
   "source": [
    "3. Model"
   ]
  },
  {
   "cell_type": "code",
   "execution_count": 25,
   "metadata": {
    "collapsed": false,
    "pycharm": {
     "name": "#%%\n"
    }
   },
   "outputs": [],
   "source": [
    "\"\"\"\n",
    "TODO: 모델 Customization! 레이어 개수나 레이어 차원, 활성화 함수를 바꾸어보자.\n",
    "\n",
    "데이터의 형태를 주의하면서 바꾸어 볼 것~\n",
    "\n",
    "\"\"\"\n",
    "\n",
    "class net(nn.Module):\n",
    "    def __init__(self):\n",
    "        super(net, self).__init__()\n",
    "\n",
    "        self.fc = nn.Sequential(\n",
    "            nn.Linear(28 * 28, 1024),\n",
    "            nn.ReLU(),\n",
    "            nn.Linear(1024, 1024),\n",
    "            nn.ReLU(),\n",
    "            nn.Linear(1024, 1024),\n",
    "            nn.ReLU(),\n",
    "            nn.Linear(1024, 1024),\n",
    "            nn.ReLU(),\n",
    "            nn.Linear(1024, 1024),\n",
    "            nn.ReLU(),\n",
    "            nn.Linear(1024, 10),\n",
    "            nn.Sigmoid()\n",
    "           )\n",
    "\n",
    "    def forward(self, x):\n",
    "        x = x.view(-1, 28 * 28)\n",
    "        return self.fc(x)"
   ]
  },
  {
   "cell_type": "markdown",
   "metadata": {
    "collapsed": false,
    "pycharm": {
     "name": "#%% md\n"
    }
   },
   "source": [
    "4. Evaluation"
   ]
  },
  {
   "cell_type": "code",
   "execution_count": 26,
   "metadata": {
    "collapsed": false,
    "pycharm": {
     "name": "#%%\n"
    }
   },
   "outputs": [],
   "source": [
    "loss_value = []\n",
    "accuracy_value = []\n",
    "model = net()\n",
    "\n",
    "\"\"\"\n",
    "\n",
    "TODO: 학습률을 바꾸어보고, Optimizer 을 바꾸어보자 (선택)\n",
    "\n",
    "\"\"\"\n",
    "optimizer = torch.optim.Adam(model.parameters(), lr=1e-4)"
   ]
  },
  {
   "cell_type": "code",
   "execution_count": 27,
   "metadata": {
    "collapsed": false,
    "pycharm": {
     "is_executing": true,
     "name": "#%%\n"
    }
   },
   "outputs": [
    {
     "name": "stdout",
     "output_type": "stream",
     "text": [
      "epoch: 0, iteration: 0, loss: 2.3047008514404297\n",
      "epoch: 0, iteration: 100, loss: 1.8402541875839233\n",
      "epoch: 0, iteration: 200, loss: 1.646343469619751\n",
      "epoch: 0, iteration: 300, loss: 1.6189005374908447\n",
      "epoch: 0, iteration: 400, loss: 1.684920310974121\n",
      "epoch: 0, iteration: 500, loss: 1.5790789127349854\n",
      "epoch: 0, iteration: 600, loss: 1.5049678087234497\n",
      "epoch: 0, iteration: 700, loss: 1.5075467824935913\n",
      "epoch: 0, iteration: 800, loss: 1.5569720268249512\n",
      "epoch: 0, iteration: 900, loss: 1.4794453382492065\n",
      "epoch: 0, iteration: 1000, loss: 1.4785233736038208\n",
      "epoch: 0, iteration: 1100, loss: 1.4755431413650513\n",
      "epoch: 0, iteration: 1200, loss: 1.552133321762085\n",
      "epoch: 0, iteration: 1300, loss: 1.5038264989852905\n",
      "epoch: 0, iteration: 1400, loss: 1.534450650215149\n",
      "epoch: 0, iteration: 1500, loss: 1.5353302955627441\n",
      "epoch: 0, iteration: 1600, loss: 1.4820560216903687\n",
      "epoch: 0, iteration: 1700, loss: 1.6033210754394531\n",
      "epoch: 0, iteration: 1800, loss: 1.4733160734176636\n",
      "epoch: 0, accuracy: 0.9386\n",
      "epoch: 1, iteration: 0, loss: 1.5558849573135376\n",
      "epoch: 1, iteration: 100, loss: 1.4981251955032349\n",
      "epoch: 1, iteration: 200, loss: 1.529661774635315\n",
      "epoch: 1, iteration: 300, loss: 1.4639863967895508\n",
      "epoch: 1, iteration: 400, loss: 1.4971513748168945\n",
      "epoch: 1, iteration: 500, loss: 1.4728273153305054\n",
      "epoch: 1, iteration: 600, loss: 1.476326823234558\n",
      "epoch: 1, iteration: 700, loss: 1.4880378246307373\n",
      "epoch: 1, iteration: 800, loss: 1.5045331716537476\n",
      "epoch: 1, iteration: 900, loss: 1.4971981048583984\n",
      "epoch: 1, iteration: 1000, loss: 1.57891047000885\n",
      "epoch: 1, iteration: 1100, loss: 1.5055174827575684\n",
      "epoch: 1, iteration: 1200, loss: 1.5145584344863892\n",
      "epoch: 1, iteration: 1300, loss: 1.471070647239685\n",
      "epoch: 1, iteration: 1400, loss: 1.5179811716079712\n",
      "epoch: 1, iteration: 1500, loss: 1.5045666694641113\n",
      "epoch: 1, iteration: 1600, loss: 1.4862726926803589\n",
      "epoch: 1, iteration: 1700, loss: 1.5263893604278564\n",
      "epoch: 1, iteration: 1800, loss: 1.4978760480880737\n",
      "epoch: 1, accuracy: 0.9582\n",
      "epoch: 2, iteration: 0, loss: 1.5259138345718384\n",
      "epoch: 2, iteration: 100, loss: 1.467010736465454\n",
      "epoch: 2, iteration: 200, loss: 1.4615176916122437\n",
      "epoch: 2, iteration: 300, loss: 1.4773887395858765\n",
      "epoch: 2, iteration: 400, loss: 1.4667747020721436\n",
      "epoch: 2, iteration: 500, loss: 1.4798120260238647\n",
      "epoch: 2, iteration: 600, loss: 1.4620325565338135\n",
      "epoch: 2, iteration: 700, loss: 1.5282496213912964\n",
      "epoch: 2, iteration: 800, loss: 1.4649016857147217\n",
      "epoch: 2, iteration: 900, loss: 1.5067142248153687\n",
      "epoch: 2, iteration: 1000, loss: 1.5292835235595703\n",
      "epoch: 2, iteration: 1100, loss: 1.512656331062317\n",
      "epoch: 2, iteration: 1200, loss: 1.4657444953918457\n",
      "epoch: 2, iteration: 1300, loss: 1.5007946491241455\n",
      "epoch: 2, iteration: 1400, loss: 1.4657206535339355\n",
      "epoch: 2, iteration: 1500, loss: 1.4740042686462402\n",
      "epoch: 2, iteration: 1600, loss: 1.5640523433685303\n",
      "epoch: 2, iteration: 1700, loss: 1.4640876054763794\n",
      "epoch: 2, iteration: 1800, loss: 1.492401361465454\n",
      "epoch: 2, accuracy: 0.9645\n",
      "epoch: 3, iteration: 0, loss: 1.4727524518966675\n",
      "epoch: 3, iteration: 100, loss: 1.4653692245483398\n",
      "epoch: 3, iteration: 200, loss: 1.4648888111114502\n",
      "epoch: 3, iteration: 300, loss: 1.4911530017852783\n",
      "epoch: 3, iteration: 400, loss: 1.4935157299041748\n",
      "epoch: 3, iteration: 500, loss: 1.4685325622558594\n",
      "epoch: 3, iteration: 600, loss: 1.4983394145965576\n",
      "epoch: 3, iteration: 700, loss: 1.4963116645812988\n",
      "epoch: 3, iteration: 800, loss: 1.4767512083053589\n",
      "epoch: 3, iteration: 900, loss: 1.4792492389678955\n",
      "epoch: 3, iteration: 1000, loss: 1.49673330783844\n",
      "epoch: 3, iteration: 1100, loss: 1.4969666004180908\n",
      "epoch: 3, iteration: 1200, loss: 1.4742168188095093\n",
      "epoch: 3, iteration: 1300, loss: 1.4929447174072266\n",
      "epoch: 3, iteration: 1400, loss: 1.4617096185684204\n",
      "epoch: 3, iteration: 1500, loss: 1.4744839668273926\n",
      "epoch: 3, iteration: 1600, loss: 1.4633764028549194\n",
      "epoch: 3, iteration: 1700, loss: 1.4633527994155884\n",
      "epoch: 3, iteration: 1800, loss: 1.466957449913025\n",
      "epoch: 3, accuracy: 0.9722\n",
      "epoch: 4, iteration: 0, loss: 1.5050091743469238\n",
      "epoch: 4, iteration: 100, loss: 1.4629671573638916\n",
      "epoch: 4, iteration: 200, loss: 1.4959893226623535\n",
      "epoch: 4, iteration: 300, loss: 1.4655877351760864\n",
      "epoch: 4, iteration: 400, loss: 1.4935405254364014\n",
      "epoch: 4, iteration: 500, loss: 1.4611979722976685\n",
      "epoch: 4, iteration: 600, loss: 1.4930527210235596\n",
      "epoch: 4, iteration: 700, loss: 1.4960800409317017\n",
      "epoch: 4, iteration: 800, loss: 1.4743916988372803\n",
      "epoch: 4, iteration: 900, loss: 1.4688786268234253\n",
      "epoch: 4, iteration: 1000, loss: 1.4627231359481812\n",
      "epoch: 4, iteration: 1100, loss: 1.5094754695892334\n",
      "epoch: 4, iteration: 1200, loss: 1.4725548028945923\n",
      "epoch: 4, iteration: 1300, loss: 1.4636619091033936\n",
      "epoch: 4, iteration: 1400, loss: 1.4652372598648071\n",
      "epoch: 4, iteration: 1500, loss: 1.4755432605743408\n",
      "epoch: 4, iteration: 1600, loss: 1.478856086730957\n",
      "epoch: 4, iteration: 1700, loss: 1.4849061965942383\n",
      "epoch: 4, iteration: 1800, loss: 1.464076280593872\n",
      "epoch: 4, accuracy: 0.9694\n",
      "epoch: 5, iteration: 0, loss: 1.4722918272018433\n",
      "epoch: 5, iteration: 100, loss: 1.461474061012268\n",
      "epoch: 5, iteration: 200, loss: 1.4941760301589966\n",
      "epoch: 5, iteration: 300, loss: 1.4620088338851929\n",
      "epoch: 5, iteration: 400, loss: 1.4939590692520142\n",
      "epoch: 5, iteration: 500, loss: 1.4614202976226807\n",
      "epoch: 5, iteration: 600, loss: 1.468837022781372\n",
      "epoch: 5, iteration: 700, loss: 1.4870460033416748\n",
      "epoch: 5, iteration: 800, loss: 1.4611541032791138\n",
      "epoch: 5, iteration: 900, loss: 1.4712135791778564\n",
      "epoch: 5, iteration: 1000, loss: 1.4973342418670654\n",
      "epoch: 5, iteration: 1100, loss: 1.4923584461212158\n",
      "epoch: 5, iteration: 1200, loss: 1.5039520263671875\n",
      "epoch: 5, iteration: 1300, loss: 1.4674959182739258\n",
      "epoch: 5, iteration: 1400, loss: 1.461153268814087\n",
      "epoch: 5, iteration: 1500, loss: 1.4612343311309814\n",
      "epoch: 5, iteration: 1600, loss: 1.4955966472625732\n",
      "epoch: 5, iteration: 1700, loss: 1.4613183736801147\n",
      "epoch: 5, iteration: 1800, loss: 1.5629206895828247\n",
      "epoch: 5, accuracy: 0.972\n",
      "epoch: 6, iteration: 0, loss: 1.4656614065170288\n",
      "epoch: 6, iteration: 100, loss: 1.4708255529403687\n",
      "epoch: 6, iteration: 200, loss: 1.4644335508346558\n",
      "epoch: 6, iteration: 300, loss: 1.4678192138671875\n",
      "epoch: 6, iteration: 400, loss: 1.4649524688720703\n",
      "epoch: 6, iteration: 500, loss: 1.4650291204452515\n",
      "epoch: 6, iteration: 600, loss: 1.4619195461273193\n",
      "epoch: 6, iteration: 700, loss: 1.4611515998840332\n",
      "epoch: 6, iteration: 800, loss: 1.4649180173873901\n",
      "epoch: 6, iteration: 900, loss: 1.4970463514328003\n",
      "epoch: 6, iteration: 1000, loss: 1.4719961881637573\n",
      "epoch: 6, iteration: 1100, loss: 1.4655845165252686\n",
      "epoch: 6, iteration: 1200, loss: 1.4614120721817017\n",
      "epoch: 6, iteration: 1300, loss: 1.4612609148025513\n",
      "epoch: 6, iteration: 1400, loss: 1.4654130935668945\n",
      "epoch: 6, iteration: 1500, loss: 1.465628743171692\n",
      "epoch: 6, iteration: 1600, loss: 1.4611566066741943\n",
      "epoch: 6, iteration: 1700, loss: 1.463038444519043\n",
      "epoch: 6, iteration: 1800, loss: 1.471656084060669\n",
      "epoch: 6, accuracy: 0.9763\n",
      "epoch: 7, iteration: 0, loss: 1.4697682857513428\n",
      "epoch: 7, iteration: 100, loss: 1.461188793182373\n",
      "epoch: 7, iteration: 200, loss: 1.4617936611175537\n",
      "epoch: 7, iteration: 300, loss: 1.4742711782455444\n",
      "epoch: 7, iteration: 400, loss: 1.4611504077911377\n",
      "epoch: 7, iteration: 500, loss: 1.4654350280761719\n",
      "epoch: 7, iteration: 600, loss: 1.4815757274627686\n",
      "epoch: 7, iteration: 700, loss: 1.4643819332122803\n",
      "epoch: 7, iteration: 800, loss: 1.4611507654190063\n",
      "epoch: 7, iteration: 900, loss: 1.4670398235321045\n",
      "epoch: 7, iteration: 1000, loss: 1.4669921398162842\n",
      "epoch: 7, iteration: 1100, loss: 1.4715485572814941\n",
      "epoch: 7, iteration: 1200, loss: 1.4700427055358887\n",
      "epoch: 7, iteration: 1300, loss: 1.49784255027771\n",
      "epoch: 7, iteration: 1400, loss: 1.4966192245483398\n",
      "epoch: 7, iteration: 1500, loss: 1.47369384765625\n",
      "epoch: 7, iteration: 1600, loss: 1.4611518383026123\n",
      "epoch: 7, iteration: 1700, loss: 1.5046309232711792\n",
      "epoch: 7, iteration: 1800, loss: 1.474448800086975\n",
      "epoch: 7, accuracy: 0.9728\n",
      "epoch: 8, iteration: 0, loss: 1.4771184921264648\n",
      "epoch: 8, iteration: 100, loss: 1.4970965385437012\n",
      "epoch: 8, iteration: 200, loss: 1.4724462032318115\n",
      "epoch: 8, iteration: 300, loss: 1.463681697845459\n",
      "epoch: 8, iteration: 400, loss: 1.464054822921753\n",
      "epoch: 8, iteration: 500, loss: 1.4611504077911377\n",
      "epoch: 8, iteration: 600, loss: 1.4611843824386597\n",
      "epoch: 8, iteration: 700, loss: 1.5264126062393188\n",
      "epoch: 8, iteration: 800, loss: 1.4696979522705078\n",
      "epoch: 8, iteration: 900, loss: 1.5521320104599\n",
      "epoch: 8, iteration: 1000, loss: 1.4943221807479858\n",
      "epoch: 8, iteration: 1100, loss: 1.4920306205749512\n",
      "epoch: 8, iteration: 1200, loss: 1.4623953104019165\n",
      "epoch: 8, iteration: 1300, loss: 1.4664733409881592\n",
      "epoch: 8, iteration: 1400, loss: 1.4817993640899658\n",
      "epoch: 8, iteration: 1500, loss: 1.4966835975646973\n",
      "epoch: 8, iteration: 1600, loss: 1.461169719696045\n",
      "epoch: 8, iteration: 1700, loss: 1.4967055320739746\n",
      "epoch: 8, iteration: 1800, loss: 1.4647831916809082\n",
      "epoch: 8, accuracy: 0.9733\n",
      "epoch: 9, iteration: 0, loss: 1.5032172203063965\n",
      "epoch: 9, iteration: 100, loss: 1.522256851196289\n",
      "epoch: 9, iteration: 200, loss: 1.4712573289871216\n",
      "epoch: 9, iteration: 300, loss: 1.462715744972229\n",
      "epoch: 9, iteration: 400, loss: 1.4611502885818481\n",
      "epoch: 9, iteration: 500, loss: 1.4668807983398438\n",
      "epoch: 9, iteration: 600, loss: 1.461150884628296\n",
      "epoch: 9, iteration: 700, loss: 1.461208701133728\n",
      "epoch: 9, iteration: 800, loss: 1.4962505102157593\n",
      "epoch: 9, iteration: 900, loss: 1.4654603004455566\n",
      "epoch: 9, iteration: 1000, loss: 1.4700090885162354\n",
      "epoch: 9, iteration: 1100, loss: 1.4705355167388916\n",
      "epoch: 9, iteration: 1200, loss: 1.4611501693725586\n",
      "epoch: 9, iteration: 1300, loss: 1.4611501693725586\n",
      "epoch: 9, iteration: 1400, loss: 1.4611976146697998\n",
      "epoch: 9, iteration: 1500, loss: 1.4808307886123657\n",
      "epoch: 9, iteration: 1600, loss: 1.4665379524230957\n",
      "epoch: 9, iteration: 1700, loss: 1.4702750444412231\n",
      "epoch: 9, iteration: 1800, loss: 1.485496997833252\n",
      "epoch: 9, accuracy: 0.9743\n"
     ]
    },
    {
     "data": {
      "text/plain": [
       "'\\n print(\\'=========================================\\')\\n    print(\"Model\\'s state_dict for epoch :\", i_epoch)\\n    for param_tensor in model.state_dict():\\n     print(param_tensor, \"\\t\", model.state_dict()[param_tensor].size())\\n\\n    print(\"Optimizer\\'s state_dict:\")\\n     for var_name in optimizer.state_dict():\\n      print(var_name, \"\\t\", optimizer.state_dict()[var_name])\\n\\n    print(\\'=========================================\\')\\n'"
      ]
     },
     "execution_count": 27,
     "metadata": {},
     "output_type": "execute_result"
    }
   ],
   "source": [
    "device = torch.device('cuda' if torch.cuda.is_available() else 'cpu')\n",
    "\n",
    "\"\"\"\n",
    "TODO: 학습횟수를 자유자재로 바꾸어보자.\n",
    "\"\"\"\n",
    "\n",
    "for i_epoch in range(10):\n",
    "    train(model, train_loader, optimizer, i_epoch, device)\n",
    "    test(model, test_loader, i_epoch, device)\n",
    "    torch.save(model.state_dict(), \"mnist_test.pt\")\n",
    "\n",
    "\"\"\"\n",
    " print('=========================================')\n",
    "    print(\"Model's state_dict for epoch :\", i_epoch)\n",
    "    for param_tensor in model.state_dict():\n",
    "     print(param_tensor, \"\\t\", model.state_dict()[param_tensor].size())\n",
    "\n",
    "    print(\"Optimizer's state_dict:\")\n",
    "     for var_name in optimizer.state_dict():\n",
    "      print(var_name, \"\\t\", optimizer.state_dict()[var_name])\n",
    "\n",
    "    print('=========================================')\n",
    "\"\"\""
   ]
  },
  {
   "cell_type": "code",
   "execution_count": 28,
   "metadata": {
    "collapsed": false,
    "pycharm": {
     "name": "#%%\n"
    }
   },
   "outputs": [
    {
     "data": {
      "text/plain": [
       "<matplotlib.legend.Legend at 0x13396da80>"
      ]
     },
     "execution_count": 28,
     "metadata": {},
     "output_type": "execute_result"
    },
    {
     "data": {
      "image/png": "[encoded data removed]",
      "text/plain": [
       "<Figure size 432x288 with 1 Axes>"
      ]
     },
     "metadata": {
      "needs_background": "light"
     },
     "output_type": "display_data"
    }
   ],
   "source": [
    "#그래프 확인\n",
    "plt.plot(loss_value, label='Training Loss')\n",
    "\n",
    "plt.title('Training Loss')\n",
    "plt.legend()"
   ]
  },
  {
   "cell_type": "code",
   "execution_count": 29,
   "metadata": {
    "collapsed": false,
    "pycharm": {
     "name": "#%%\n"
    }
   },
   "outputs": [
    {
     "data": {
      "text/plain": [
       "Text(0.5, 0, 'Epoch')"
      ]
     },
     "execution_count": 29,
     "metadata": {},
     "output_type": "execute_result"
    },
    {
     "data": {
      "image/png": "[encoded data removed]",
      "text/plain": [
       "<Figure size 432x288 with 1 Axes>"
      ]
     },
     "metadata": {
      "needs_background": "light"
     },
     "output_type": "display_data"
    }
   ],
   "source": [
    "plt.plot(accuracy_value, label='Accuracy')\n",
    "plt.title('Accuracy')\n",
    "plt.xlabel('Epoch')"
   ]
  },
  {
   "cell_type": "code",
   "execution_count": null,
   "metadata": {},
   "outputs": [],
   "source": []
  }
 ],
 "metadata": {
  "kernelspec": {
   "display_name": "Python 3.10.1 64-bit",
   "language": "python",
   "name": "python3"
  },
  "language_info": {
   "codemirror_mode": {
    "name": "ipython",
    "version": 3
   },
   "file_extension": ".py",
   "mimetype": "text/x-python",
   "name": "python",
   "nbconvert_exporter": "python",
   "pygments_lexer": "ipython3",
   "version": "3.10.1"
  },
  "vscode": {
   "interpreter": {
    "hash": "aee8b7b246df8f9039afb4144a1f6fd8d2ca17a180786b69acc140d282b71a49"
   }
  }
 },
 "nbformat": 4,
 "nbformat_minor": 0
}
