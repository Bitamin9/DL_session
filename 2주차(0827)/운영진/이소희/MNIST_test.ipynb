{
 "cells": [
  {
   "cell_type": "code",
   "execution_count": 2,
   "metadata": {
    "collapsed": false,
    "pycharm": {
     "name": "#%%\n"
    }
   },
   "outputs": [],
   "source": [
    "from __future__ import print_function\n",
    "import torchvision\n",
    "import torch\n",
    "import torch.nn as nn\n",
    "import torch.nn.functional as F\n",
    "from torchvision import datasets, transforms"
   ]
  },
  {
   "cell_type": "markdown",
   "metadata": {
    "collapsed": false,
    "pycharm": {
     "name": "#%% md\n"
    }
   },
   "source": [
    "1. 데이터 확인"
   ]
  },
  {
   "cell_type": "code",
   "execution_count": 3,
   "metadata": {
    "collapsed": false,
    "pycharm": {
     "name": "#%%\n"
    }
   },
   "outputs": [
    {
     "name": "stdout",
     "output_type": "stream",
     "text": [
      "Downloading http://yann.lecun.com/exdb/mnist/train-images-idx3-ubyte.gz\n",
      "Downloading http://yann.lecun.com/exdb/mnist/train-images-idx3-ubyte.gz to ../data\\MNIST\\raw\\train-images-idx3-ubyte.gz\n"
     ]
    },
    {
     "name": "stderr",
     "output_type": "stream",
     "text": [
      "100.0%\n"
     ]
    },
    {
     "name": "stdout",
     "output_type": "stream",
     "text": [
      "Extracting ../data\\MNIST\\raw\\train-images-idx3-ubyte.gz to ../data\\MNIST\\raw\n",
      "\n",
      "Downloading http://yann.lecun.com/exdb/mnist/train-labels-idx1-ubyte.gz\n",
      "Downloading http://yann.lecun.com/exdb/mnist/train-labels-idx1-ubyte.gz to ../data\\MNIST\\raw\\train-labels-idx1-ubyte.gz\n"
     ]
    },
    {
     "name": "stderr",
     "output_type": "stream",
     "text": [
      "100.0%\n"
     ]
    },
    {
     "name": "stdout",
     "output_type": "stream",
     "text": [
      "Extracting ../data\\MNIST\\raw\\train-labels-idx1-ubyte.gz to ../data\\MNIST\\raw\n",
      "\n",
      "Downloading http://yann.lecun.com/exdb/mnist/t10k-images-idx3-ubyte.gz\n",
      "Downloading http://yann.lecun.com/exdb/mnist/t10k-images-idx3-ubyte.gz to ../data\\MNIST\\raw\\t10k-images-idx3-ubyte.gz\n"
     ]
    },
    {
     "name": "stderr",
     "output_type": "stream",
     "text": [
      "100.0%\n"
     ]
    },
    {
     "name": "stdout",
     "output_type": "stream",
     "text": [
      "Extracting ../data\\MNIST\\raw\\t10k-images-idx3-ubyte.gz to ../data\\MNIST\\raw\n",
      "\n",
      "Downloading http://yann.lecun.com/exdb/mnist/t10k-labels-idx1-ubyte.gz\n",
      "Downloading http://yann.lecun.com/exdb/mnist/t10k-labels-idx1-ubyte.gz to ../data\\MNIST\\raw\\t10k-labels-idx1-ubyte.gz\n"
     ]
    },
    {
     "name": "stderr",
     "output_type": "stream",
     "text": [
      "100.0%"
     ]
    },
    {
     "name": "stdout",
     "output_type": "stream",
     "text": [
      "Extracting ../data\\MNIST\\raw\\t10k-labels-idx1-ubyte.gz to ../data\\MNIST\\raw\n",
      "\n",
      "number of training data:  60000\n",
      "number of test data  10000\n"
     ]
    },
    {
     "name": "stderr",
     "output_type": "stream",
     "text": [
      "\n"
     ]
    }
   ],
   "source": [
    "#MNIST dataset\n",
    "\n",
    "train_dset = datasets.MNIST('../data', train=True, download=True,transform=transforms.ToTensor())\n",
    "test_dset = datasets.MNIST('../data', train=False,transform=transforms.ToTensor(), download=True)\n",
    "\n",
    "print('number of training data: ', len(train_dset))\n",
    "print('number of test data ', len(test_dset))"
   ]
  },
  {
   "cell_type": "code",
   "execution_count": 4,
   "metadata": {
    "collapsed": false,
    "pycharm": {
     "name": "#%%\n"
    }
   },
   "outputs": [
    {
     "name": "stdout",
     "output_type": "stream",
     "text": [
      "Image\n",
      "=========================================\n",
      "Shape of image\t:  torch.Size([1, 28, 28])\n",
      "10'th row of this image\t: tensor([0.0000, 0.0000, 0.0000, 0.0000, 0.0000, 0.0000, 0.0000, 0.0000, 0.0000,\n",
      "        0.0000, 0.0000, 0.0000, 0.3294, 0.8078, 0.9961, 0.9961, 0.9961, 0.9961,\n",
      "        0.1608, 0.0000, 0.0000, 0.0000, 0.0000, 0.0000, 0.0000, 0.0000, 0.0000,\n",
      "        0.0000])\n",
      "Label\n",
      "=========================================\n",
      "label:  3\n"
     ]
    },
    {
     "data": {
      "text/plain": [
       "<function matplotlib.pyplot.show(close=None, block=None)>"
      ]
     },
     "execution_count": 4,
     "metadata": {},
     "output_type": "execute_result"
    },
    {
     "data": {
      "image/png": "[encoded data removed]",
      "text/plain": [
       "<Figure size 432x288 with 1 Axes>"
      ]
     },
     "metadata": {
      "needs_background": "light"
     },
     "output_type": "display_data"
    }
   ],
   "source": [
    "#데이터 확인\n",
    "\n",
    "\"\"\"\n",
    "\n",
    "TODO: train_dset[*] 의 숫자값을 바꾸어 데이터를 다른 걸 출력해보자.\n",
    "\n",
    "\"\"\"\n",
    "image, label = train_dset[10]\n",
    "\n",
    "print('Image')\n",
    "print('=========================================')\n",
    "print('Shape of image\\t: ', image.shape)\n",
    "print('10\\'th row of this image\\t:', image[0][9])\n",
    "\n",
    "print('Label')\n",
    "print('=========================================')\n",
    "print('label: ', label)\n",
    "\n",
    "from matplotlib import pyplot as plt\n",
    "plt.imshow(image.squeeze().numpy(), cmap='gray')\n",
    "plt.show"
   ]
  },
  {
   "cell_type": "markdown",
   "metadata": {
    "collapsed": false,
    "pycharm": {
     "name": "#%% md\n"
    }
   },
   "source": [
    "2. Training and Test"
   ]
  },
  {
   "cell_type": "code",
   "execution_count": 5,
   "metadata": {
    "collapsed": false,
    "pycharm": {
     "name": "#%%\n"
    }
   },
   "outputs": [],
   "source": [
    "\"\"\"\n",
    "TODO: batch_size 를 바꾸어보자\n",
    "\"\"\"\n",
    "train_loader = torch.utils.data.DataLoader(train_dset, batch_size = 50, shuffle=True)\n",
    "test_loader = torch.utils.data.DataLoader(test_dset, batch_size = 50, shuffle=False)"
   ]
  },
  {
   "cell_type": "code",
   "execution_count": 7,
   "metadata": {
    "collapsed": false,
    "pycharm": {
     "name": "#%%\n"
    }
   },
   "outputs": [],
   "source": [
    "#Training\n",
    "def train(model, train_loader, optimizer, i_epoch, device):\n",
    "    model.train()\n",
    "    for i, (image, target) in enumerate(train_loader):\n",
    "        image = image.to(device)\n",
    "        output = model(image)\n",
    "        loss = F.cross_entropy(output, target)\n",
    "\n",
    "        model.zero_grad()\n",
    "        loss.backward()\n",
    "        optimizer.step()\n",
    "\n",
    "\n",
    "         #러닝 커브 그리기\n",
    "        loss_value.append(loss.detach().numpy())\n",
    "\n",
    "        #100번쨰 마다 loss 출력\n",
    "        if i%100==0:\n",
    "            print(\"epoch: {}, iteration: {}, loss: {}\".format(i_epoch, i, loss.item()))"
   ]
  },
  {
   "cell_type": "code",
   "execution_count": 8,
   "metadata": {
    "collapsed": false,
    "pycharm": {
     "name": "#%%\n"
    }
   },
   "outputs": [],
   "source": [
    "#Test\n",
    "def test(model, test_loader, i_epoch, device):\n",
    "    model.eval()\n",
    "    accurate = 0\n",
    "    test_loss = 0\n",
    "\n",
    "    with torch.no_grad():\n",
    "        for i, (image, target) in enumerate(test_loader):\n",
    "            image = image.to(device)\n",
    "            output = model(image)\n",
    "            test_loss += F.nll_loss(output, target, reduction='sum').item()\n",
    "            prediction = torch.argmax(output, dim=1)\n",
    "            accurate += prediction.eq(target.view_as(prediction)).sum().item()\n",
    "\n",
    "\n",
    "    accuracy = accurate / len(test_loader.dataset)\n",
    "    #러닝커브 그리기\n",
    "    accuracy_value.append(accuracy)\n",
    "    print(\"epoch: {}, accuracy: {}\".format(i_epoch, accuracy))\n"
   ]
  },
  {
   "cell_type": "markdown",
   "metadata": {
    "collapsed": false,
    "pycharm": {
     "name": "#%% md\n"
    }
   },
   "source": [
    "3. Model"
   ]
  },
  {
   "cell_type": "code",
   "execution_count": 9,
   "metadata": {
    "collapsed": false,
    "pycharm": {
     "name": "#%%\n"
    }
   },
   "outputs": [],
   "source": [
    "\"\"\"\n",
    "TODO: 모델 Customization! 레이어 개수나 레이어 차원, 활성화 함수를 바꾸어보자.\n",
    "\n",
    "데이터의 형태를 주의하면서 바꾸어 볼 것~\n",
    "\n",
    "\"\"\"\n",
    "\n",
    "class net(nn.Module):\n",
    "    def __init__(self):\n",
    "        super(net, self).__init__()\n",
    "\n",
    "        self.fc = nn.Sequential(\n",
    "            nn.Linear(28 * 28, 512),\n",
    "            nn.ReLU(),\n",
    "            nn.Linear(512, 512),\n",
    "            nn.ReLU(),\n",
    "            nn.Linear(512, 512),\n",
    "            nn.ReLU(),\n",
    "            nn.Linear(512, 10),\n",
    "            nn.Sigmoid(),\n",
    "           )\n",
    "\n",
    "    def forward(self, x):\n",
    "        x = x.view(-1, 28 * 28)\n",
    "        return self.fc(x)"
   ]
  },
  {
   "cell_type": "markdown",
   "metadata": {
    "collapsed": false,
    "pycharm": {
     "name": "#%% md\n"
    }
   },
   "source": [
    "4. Evaluation"
   ]
  },
  {
   "cell_type": "code",
   "execution_count": 10,
   "metadata": {
    "collapsed": false,
    "pycharm": {
     "name": "#%%\n"
    }
   },
   "outputs": [],
   "source": [
    "loss_value = []\n",
    "accuracy_value = []\n",
    "model = net()\n",
    "\n",
    "\"\"\"\n",
    "\n",
    "TODO: 학습률을 바꾸어보고, Optimizer 을 바꾸어보자 (선택)\n",
    "\n",
    "\"\"\"\n",
    "optimizer = torch.optim.Adam(model.parameters(), lr=1e-4)"
   ]
  },
  {
   "cell_type": "code",
   "execution_count": 11,
   "metadata": {
    "collapsed": false,
    "pycharm": {
     "is_executing": true,
     "name": "#%%\n"
    }
   },
   "outputs": [
    {
     "name": "stdout",
     "output_type": "stream",
     "text": [
      "epoch: 0, iteration: 0, loss: 2.3026795387268066\n",
      "epoch: 0, iteration: 100, loss: 1.874475359916687\n",
      "epoch: 0, iteration: 200, loss: 1.6414358615875244\n",
      "epoch: 0, iteration: 300, loss: 1.6264687776565552\n",
      "epoch: 0, iteration: 400, loss: 1.6219192743301392\n",
      "epoch: 0, iteration: 500, loss: 1.6175537109375\n",
      "epoch: 0, iteration: 600, loss: 1.6651465892791748\n",
      "epoch: 0, iteration: 700, loss: 1.5421440601348877\n",
      "epoch: 0, iteration: 800, loss: 1.5121911764144897\n",
      "epoch: 0, iteration: 900, loss: 1.5467877388000488\n",
      "epoch: 0, iteration: 1000, loss: 1.5669796466827393\n",
      "epoch: 0, iteration: 1100, loss: 1.524574637413025\n",
      "epoch: 0, accuracy: 0.8615\n",
      "epoch: 1, iteration: 0, loss: 1.5292139053344727\n",
      "epoch: 1, iteration: 100, loss: 1.5942686796188354\n",
      "epoch: 1, iteration: 200, loss: 1.5807420015335083\n",
      "epoch: 1, iteration: 300, loss: 1.538751244544983\n",
      "epoch: 1, iteration: 400, loss: 1.5503867864608765\n",
      "epoch: 1, iteration: 500, loss: 1.4877533912658691\n",
      "epoch: 1, iteration: 600, loss: 1.5954591035842896\n",
      "epoch: 1, iteration: 700, loss: 1.5154328346252441\n",
      "epoch: 1, iteration: 800, loss: 1.5080088376998901\n",
      "epoch: 1, iteration: 900, loss: 1.5066039562225342\n",
      "epoch: 1, iteration: 1000, loss: 1.5243815183639526\n",
      "epoch: 1, iteration: 1100, loss: 1.516980767250061\n",
      "epoch: 1, accuracy: 0.9382\n",
      "epoch: 2, iteration: 0, loss: 1.4847519397735596\n",
      "epoch: 2, iteration: 100, loss: 1.4931601285934448\n",
      "epoch: 2, iteration: 200, loss: 1.4891568422317505\n",
      "epoch: 2, iteration: 300, loss: 1.5040419101715088\n",
      "epoch: 2, iteration: 400, loss: 1.504768967628479\n",
      "epoch: 2, iteration: 500, loss: 1.493417501449585\n",
      "epoch: 2, iteration: 600, loss: 1.5520985126495361\n",
      "epoch: 2, iteration: 700, loss: 1.5210515260696411\n",
      "epoch: 2, iteration: 800, loss: 1.4796253442764282\n",
      "epoch: 2, iteration: 900, loss: 1.5093963146209717\n",
      "epoch: 2, iteration: 1000, loss: 1.4912939071655273\n",
      "epoch: 2, iteration: 1100, loss: 1.5032583475112915\n",
      "epoch: 2, accuracy: 0.953\n",
      "epoch: 3, iteration: 0, loss: 1.5285013914108276\n",
      "epoch: 3, iteration: 100, loss: 1.5112687349319458\n",
      "epoch: 3, iteration: 200, loss: 1.498628854751587\n",
      "epoch: 3, iteration: 300, loss: 1.489045262336731\n",
      "epoch: 3, iteration: 400, loss: 1.490005612373352\n",
      "epoch: 3, iteration: 500, loss: 1.4704185724258423\n",
      "epoch: 3, iteration: 600, loss: 1.4980446100234985\n",
      "epoch: 3, iteration: 700, loss: 1.5164425373077393\n",
      "epoch: 3, iteration: 800, loss: 1.4739015102386475\n",
      "epoch: 3, iteration: 900, loss: 1.4894299507141113\n",
      "epoch: 3, iteration: 1000, loss: 1.4979406595230103\n",
      "epoch: 3, iteration: 1100, loss: 1.4682769775390625\n",
      "epoch: 3, accuracy: 0.9593\n",
      "epoch: 4, iteration: 0, loss: 1.4898560047149658\n",
      "epoch: 4, iteration: 100, loss: 1.4782942533493042\n",
      "epoch: 4, iteration: 200, loss: 1.5129514932632446\n",
      "epoch: 4, iteration: 300, loss: 1.4728394746780396\n",
      "epoch: 4, iteration: 400, loss: 1.510619044303894\n",
      "epoch: 4, iteration: 500, loss: 1.4760258197784424\n",
      "epoch: 4, iteration: 600, loss: 1.502087116241455\n",
      "epoch: 4, iteration: 700, loss: 1.5318447351455688\n",
      "epoch: 4, iteration: 800, loss: 1.4861987829208374\n",
      "epoch: 4, iteration: 900, loss: 1.4939460754394531\n",
      "epoch: 4, iteration: 1000, loss: 1.4879034757614136\n",
      "epoch: 4, iteration: 1100, loss: 1.4790267944335938\n",
      "epoch: 4, accuracy: 0.9633\n",
      "epoch: 5, iteration: 0, loss: 1.4763487577438354\n",
      "epoch: 5, iteration: 100, loss: 1.4839328527450562\n",
      "epoch: 5, iteration: 200, loss: 1.508087158203125\n",
      "epoch: 5, iteration: 300, loss: 1.4710488319396973\n",
      "epoch: 5, iteration: 400, loss: 1.4866855144500732\n",
      "epoch: 5, iteration: 500, loss: 1.4728877544403076\n",
      "epoch: 5, iteration: 600, loss: 1.4957195520401\n",
      "epoch: 5, iteration: 700, loss: 1.464840054512024\n",
      "epoch: 5, iteration: 800, loss: 1.498416781425476\n",
      "epoch: 5, iteration: 900, loss: 1.5166850090026855\n",
      "epoch: 5, iteration: 1000, loss: 1.4849328994750977\n",
      "epoch: 5, iteration: 1100, loss: 1.4706408977508545\n",
      "epoch: 5, accuracy: 0.9687\n",
      "epoch: 6, iteration: 0, loss: 1.5052464008331299\n",
      "epoch: 6, iteration: 100, loss: 1.4900811910629272\n",
      "epoch: 6, iteration: 200, loss: 1.4977850914001465\n",
      "epoch: 6, iteration: 300, loss: 1.4847006797790527\n",
      "epoch: 6, iteration: 400, loss: 1.497739315032959\n",
      "epoch: 6, iteration: 500, loss: 1.4972562789916992\n",
      "epoch: 6, iteration: 600, loss: 1.4636927843093872\n",
      "epoch: 6, iteration: 700, loss: 1.461922287940979\n",
      "epoch: 6, iteration: 800, loss: 1.4685885906219482\n",
      "epoch: 6, iteration: 900, loss: 1.4680640697479248\n",
      "epoch: 6, iteration: 1000, loss: 1.4882714748382568\n",
      "epoch: 6, iteration: 1100, loss: 1.4770703315734863\n",
      "epoch: 6, accuracy: 0.9706\n",
      "epoch: 7, iteration: 0, loss: 1.4922590255737305\n",
      "epoch: 7, iteration: 100, loss: 1.5133111476898193\n",
      "epoch: 7, iteration: 200, loss: 1.4876025915145874\n",
      "epoch: 7, iteration: 300, loss: 1.4673291444778442\n",
      "epoch: 7, iteration: 400, loss: 1.4776716232299805\n",
      "epoch: 7, iteration: 500, loss: 1.4711816310882568\n",
      "epoch: 7, iteration: 600, loss: 1.4915680885314941\n",
      "epoch: 7, iteration: 700, loss: 1.4739394187927246\n",
      "epoch: 7, iteration: 800, loss: 1.4871525764465332\n",
      "epoch: 7, iteration: 900, loss: 1.47466242313385\n",
      "epoch: 7, iteration: 1000, loss: 1.4979232549667358\n",
      "epoch: 7, iteration: 1100, loss: 1.5066298246383667\n",
      "epoch: 7, accuracy: 0.9704\n",
      "epoch: 8, iteration: 0, loss: 1.4824813604354858\n",
      "epoch: 8, iteration: 100, loss: 1.4935188293457031\n",
      "epoch: 8, iteration: 200, loss: 1.4889953136444092\n",
      "epoch: 8, iteration: 300, loss: 1.4614251852035522\n",
      "epoch: 8, iteration: 400, loss: 1.472938895225525\n",
      "epoch: 8, iteration: 500, loss: 1.4693849086761475\n",
      "epoch: 8, iteration: 600, loss: 1.4866232872009277\n",
      "epoch: 8, iteration: 700, loss: 1.4883027076721191\n",
      "epoch: 8, iteration: 800, loss: 1.4838932752609253\n",
      "epoch: 8, iteration: 900, loss: 1.497624397277832\n",
      "epoch: 8, iteration: 1000, loss: 1.4659913778305054\n",
      "epoch: 8, iteration: 1100, loss: 1.472812294960022\n",
      "epoch: 8, accuracy: 0.9738\n",
      "epoch: 9, iteration: 0, loss: 1.4726780652999878\n",
      "epoch: 9, iteration: 100, loss: 1.5034408569335938\n",
      "epoch: 9, iteration: 200, loss: 1.4687614440917969\n",
      "epoch: 9, iteration: 300, loss: 1.4723204374313354\n",
      "epoch: 9, iteration: 400, loss: 1.4783746004104614\n",
      "epoch: 9, iteration: 500, loss: 1.4883050918579102\n",
      "epoch: 9, iteration: 600, loss: 1.4832699298858643\n",
      "epoch: 9, iteration: 700, loss: 1.4621102809906006\n",
      "epoch: 9, iteration: 800, loss: 1.4662054777145386\n",
      "epoch: 9, iteration: 900, loss: 1.461543321609497\n",
      "epoch: 9, iteration: 1000, loss: 1.4897407293319702\n",
      "epoch: 9, iteration: 1100, loss: 1.4840065240859985\n",
      "epoch: 9, accuracy: 0.9748\n",
      "epoch: 10, iteration: 0, loss: 1.4648724794387817\n",
      "epoch: 10, iteration: 100, loss: 1.5039985179901123\n",
      "epoch: 10, iteration: 200, loss: 1.4650657176971436\n",
      "epoch: 10, iteration: 300, loss: 1.4653395414352417\n",
      "epoch: 10, iteration: 400, loss: 1.4813188314437866\n",
      "epoch: 10, iteration: 500, loss: 1.5227128267288208\n",
      "epoch: 10, iteration: 600, loss: 1.4680880308151245\n",
      "epoch: 10, iteration: 700, loss: 1.4683207273483276\n",
      "epoch: 10, iteration: 800, loss: 1.4619472026824951\n",
      "epoch: 10, iteration: 900, loss: 1.4814449548721313\n",
      "epoch: 10, iteration: 1000, loss: 1.4702720642089844\n",
      "epoch: 10, iteration: 1100, loss: 1.4741158485412598\n",
      "epoch: 10, accuracy: 0.9764\n",
      "epoch: 11, iteration: 0, loss: 1.4840010404586792\n",
      "epoch: 11, iteration: 100, loss: 1.481796383857727\n",
      "epoch: 11, iteration: 200, loss: 1.4731510877609253\n",
      "epoch: 11, iteration: 300, loss: 1.4651893377304077\n",
      "epoch: 11, iteration: 400, loss: 1.4650981426239014\n",
      "epoch: 11, iteration: 500, loss: 1.4795843362808228\n",
      "epoch: 11, iteration: 600, loss: 1.4828786849975586\n",
      "epoch: 11, iteration: 700, loss: 1.476148247718811\n",
      "epoch: 11, iteration: 800, loss: 1.4622828960418701\n",
      "epoch: 11, iteration: 900, loss: 1.4662607908248901\n",
      "epoch: 11, iteration: 1000, loss: 1.4805288314819336\n",
      "epoch: 11, iteration: 1100, loss: 1.4685776233673096\n",
      "epoch: 11, accuracy: 0.9761\n",
      "epoch: 12, iteration: 0, loss: 1.4662398099899292\n",
      "epoch: 12, iteration: 100, loss: 1.4693031311035156\n",
      "epoch: 12, iteration: 200, loss: 1.4738948345184326\n",
      "epoch: 12, iteration: 300, loss: 1.466016411781311\n",
      "epoch: 12, iteration: 400, loss: 1.5173112154006958\n",
      "epoch: 12, iteration: 500, loss: 1.4806252717971802\n",
      "epoch: 12, iteration: 600, loss: 1.4617266654968262\n",
      "epoch: 12, iteration: 700, loss: 1.4783703088760376\n",
      "epoch: 12, iteration: 800, loss: 1.4648878574371338\n",
      "epoch: 12, iteration: 900, loss: 1.4779996871948242\n",
      "epoch: 12, iteration: 1000, loss: 1.5035459995269775\n",
      "epoch: 12, iteration: 1100, loss: 1.4670518636703491\n",
      "epoch: 12, accuracy: 0.976\n",
      "epoch: 13, iteration: 0, loss: 1.4662559032440186\n",
      "epoch: 13, iteration: 100, loss: 1.464023232460022\n",
      "epoch: 13, iteration: 200, loss: 1.4649102687835693\n",
      "epoch: 13, iteration: 300, loss: 1.4845995903015137\n",
      "epoch: 13, iteration: 400, loss: 1.4620590209960938\n",
      "epoch: 13, iteration: 500, loss: 1.4619708061218262\n",
      "epoch: 13, iteration: 600, loss: 1.4623444080352783\n",
      "epoch: 13, iteration: 700, loss: 1.4913617372512817\n",
      "epoch: 13, iteration: 800, loss: 1.4630513191223145\n",
      "epoch: 13, iteration: 900, loss: 1.4623085260391235\n",
      "epoch: 13, iteration: 1000, loss: 1.4629286527633667\n",
      "epoch: 13, iteration: 1100, loss: 1.4614593982696533\n",
      "epoch: 13, accuracy: 0.9782\n",
      "epoch: 14, iteration: 0, loss: 1.4666703939437866\n",
      "epoch: 14, iteration: 100, loss: 1.5203742980957031\n",
      "epoch: 14, iteration: 200, loss: 1.4613456726074219\n",
      "epoch: 14, iteration: 300, loss: 1.472862720489502\n",
      "epoch: 14, iteration: 400, loss: 1.4827935695648193\n",
      "epoch: 14, iteration: 500, loss: 1.462620735168457\n",
      "epoch: 14, iteration: 600, loss: 1.4611903429031372\n",
      "epoch: 14, iteration: 700, loss: 1.4630202054977417\n",
      "epoch: 14, iteration: 800, loss: 1.4656985998153687\n",
      "epoch: 14, iteration: 900, loss: 1.4799895286560059\n",
      "epoch: 14, iteration: 1000, loss: 1.4663782119750977\n",
      "epoch: 14, iteration: 1100, loss: 1.4843130111694336\n",
      "epoch: 14, accuracy: 0.9773\n",
      "epoch: 15, iteration: 0, loss: 1.4621484279632568\n",
      "epoch: 15, iteration: 100, loss: 1.4649477005004883\n",
      "epoch: 15, iteration: 200, loss: 1.4635381698608398\n",
      "epoch: 15, iteration: 300, loss: 1.4819506406784058\n",
      "epoch: 15, iteration: 400, loss: 1.5025153160095215\n",
      "epoch: 15, iteration: 500, loss: 1.4618911743164062\n",
      "epoch: 15, iteration: 600, loss: 1.4681062698364258\n",
      "epoch: 15, iteration: 700, loss: 1.4667716026306152\n",
      "epoch: 15, iteration: 800, loss: 1.4612356424331665\n",
      "epoch: 15, iteration: 900, loss: 1.4650269746780396\n",
      "epoch: 15, iteration: 1000, loss: 1.485339641571045\n",
      "epoch: 15, iteration: 1100, loss: 1.463788628578186\n",
      "epoch: 15, accuracy: 0.9806\n",
      "epoch: 16, iteration: 0, loss: 1.4677002429962158\n",
      "epoch: 16, iteration: 100, loss: 1.4659863710403442\n",
      "epoch: 16, iteration: 200, loss: 1.4624334573745728\n",
      "epoch: 16, iteration: 300, loss: 1.4816323518753052\n",
      "epoch: 16, iteration: 400, loss: 1.4625953435897827\n",
      "epoch: 16, iteration: 500, loss: 1.4812737703323364\n",
      "epoch: 16, iteration: 600, loss: 1.4635260105133057\n",
      "epoch: 16, iteration: 700, loss: 1.4820173978805542\n",
      "epoch: 16, iteration: 800, loss: 1.4612131118774414\n",
      "epoch: 16, iteration: 900, loss: 1.464826226234436\n",
      "epoch: 16, iteration: 1000, loss: 1.4613778591156006\n",
      "epoch: 16, iteration: 1100, loss: 1.4626880884170532\n",
      "epoch: 16, accuracy: 0.9781\n",
      "epoch: 17, iteration: 0, loss: 1.4621429443359375\n",
      "epoch: 17, iteration: 100, loss: 1.462161898612976\n",
      "epoch: 17, iteration: 200, loss: 1.467151165008545\n",
      "epoch: 17, iteration: 300, loss: 1.4614441394805908\n",
      "epoch: 17, iteration: 400, loss: 1.4643218517303467\n",
      "epoch: 17, iteration: 500, loss: 1.4612956047058105\n",
      "epoch: 17, iteration: 600, loss: 1.4615435600280762\n",
      "epoch: 17, iteration: 700, loss: 1.4632694721221924\n",
      "epoch: 17, iteration: 800, loss: 1.4627288579940796\n",
      "epoch: 17, iteration: 900, loss: 1.4614993333816528\n",
      "epoch: 17, iteration: 1000, loss: 1.4676593542099\n",
      "epoch: 17, iteration: 1100, loss: 1.461397647857666\n",
      "epoch: 17, accuracy: 0.9808\n",
      "epoch: 18, iteration: 0, loss: 1.4674708843231201\n",
      "epoch: 18, iteration: 100, loss: 1.4613828659057617\n",
      "epoch: 18, iteration: 200, loss: 1.4612562656402588\n",
      "epoch: 18, iteration: 300, loss: 1.468132495880127\n",
      "epoch: 18, iteration: 400, loss: 1.4626518487930298\n",
      "epoch: 18, iteration: 500, loss: 1.461899757385254\n",
      "epoch: 18, iteration: 600, loss: 1.4616940021514893\n",
      "epoch: 18, iteration: 700, loss: 1.4637501239776611\n",
      "epoch: 18, iteration: 800, loss: 1.4611965417861938\n",
      "epoch: 18, iteration: 900, loss: 1.4817620515823364\n",
      "epoch: 18, iteration: 1000, loss: 1.4613345861434937\n",
      "epoch: 18, iteration: 1100, loss: 1.4639462232589722\n",
      "epoch: 18, accuracy: 0.9788\n",
      "epoch: 19, iteration: 0, loss: 1.461822509765625\n",
      "epoch: 19, iteration: 100, loss: 1.4618273973464966\n",
      "epoch: 19, iteration: 200, loss: 1.4612469673156738\n",
      "epoch: 19, iteration: 300, loss: 1.4639567136764526\n",
      "epoch: 19, iteration: 400, loss: 1.466792106628418\n",
      "epoch: 19, iteration: 500, loss: 1.46160089969635\n",
      "epoch: 19, iteration: 600, loss: 1.4809314012527466\n",
      "epoch: 19, iteration: 700, loss: 1.481264591217041\n",
      "epoch: 19, iteration: 800, loss: 1.4611639976501465\n",
      "epoch: 19, iteration: 900, loss: 1.4613218307495117\n",
      "epoch: 19, iteration: 1000, loss: 1.4611598253250122\n",
      "epoch: 19, iteration: 1100, loss: 1.4646496772766113\n",
      "epoch: 19, accuracy: 0.9803\n",
      "epoch: 20, iteration: 0, loss: 1.4611716270446777\n",
      "epoch: 20, iteration: 100, loss: 1.4613256454467773\n",
      "epoch: 20, iteration: 200, loss: 1.4611526727676392\n",
      "epoch: 20, iteration: 300, loss: 1.480558156967163\n",
      "epoch: 20, iteration: 400, loss: 1.463941216468811\n",
      "epoch: 20, iteration: 500, loss: 1.4632235765457153\n",
      "epoch: 20, iteration: 600, loss: 1.4814049005508423\n",
      "epoch: 20, iteration: 700, loss: 1.483761191368103\n",
      "epoch: 20, iteration: 800, loss: 1.462321162223816\n",
      "epoch: 20, iteration: 900, loss: 1.4613206386566162\n",
      "epoch: 20, iteration: 1000, loss: 1.4825913906097412\n",
      "epoch: 20, iteration: 1100, loss: 1.4639523029327393\n",
      "epoch: 20, accuracy: 0.9798\n",
      "epoch: 21, iteration: 0, loss: 1.4613226652145386\n",
      "epoch: 21, iteration: 100, loss: 1.4666800498962402\n",
      "epoch: 21, iteration: 200, loss: 1.4631531238555908\n",
      "epoch: 21, iteration: 300, loss: 1.4780770540237427\n",
      "epoch: 21, iteration: 400, loss: 1.4614335298538208\n",
      "epoch: 21, iteration: 500, loss: 1.461281418800354\n",
      "epoch: 21, iteration: 600, loss: 1.4612438678741455\n",
      "epoch: 21, iteration: 700, loss: 1.461323857307434\n",
      "epoch: 21, iteration: 800, loss: 1.4822452068328857\n",
      "epoch: 21, iteration: 900, loss: 1.4612518548965454\n",
      "epoch: 21, iteration: 1000, loss: 1.4656996726989746\n",
      "epoch: 21, iteration: 1100, loss: 1.4611567258834839\n",
      "epoch: 21, accuracy: 0.9806\n",
      "epoch: 22, iteration: 0, loss: 1.4617135524749756\n",
      "epoch: 22, iteration: 100, loss: 1.4614155292510986\n",
      "epoch: 22, iteration: 200, loss: 1.4611896276474\n",
      "epoch: 22, iteration: 300, loss: 1.4614142179489136\n",
      "epoch: 22, iteration: 400, loss: 1.4618401527404785\n",
      "epoch: 22, iteration: 500, loss: 1.4611868858337402\n",
      "epoch: 22, iteration: 600, loss: 1.461151123046875\n",
      "epoch: 22, iteration: 700, loss: 1.4612350463867188\n",
      "epoch: 22, iteration: 800, loss: 1.468735694885254\n",
      "epoch: 22, iteration: 900, loss: 1.4642354249954224\n",
      "epoch: 22, iteration: 1000, loss: 1.4630017280578613\n",
      "epoch: 22, iteration: 1100, loss: 1.4813003540039062\n",
      "epoch: 22, accuracy: 0.9805\n",
      "epoch: 23, iteration: 0, loss: 1.4635987281799316\n",
      "epoch: 23, iteration: 100, loss: 1.4613964557647705\n",
      "epoch: 23, iteration: 200, loss: 1.4611560106277466\n",
      "epoch: 23, iteration: 300, loss: 1.4613577127456665\n",
      "epoch: 23, iteration: 400, loss: 1.4611552953720093\n",
      "epoch: 23, iteration: 500, loss: 1.4789271354675293\n",
      "epoch: 23, iteration: 600, loss: 1.4632468223571777\n",
      "epoch: 23, iteration: 700, loss: 1.4615015983581543\n",
      "epoch: 23, iteration: 800, loss: 1.46120023727417\n",
      "epoch: 23, iteration: 900, loss: 1.4615920782089233\n",
      "epoch: 23, iteration: 1000, loss: 1.4611810445785522\n",
      "epoch: 23, iteration: 1100, loss: 1.4612125158309937\n",
      "epoch: 23, accuracy: 0.9798\n",
      "epoch: 24, iteration: 0, loss: 1.4611800909042358\n",
      "epoch: 24, iteration: 100, loss: 1.4611643552780151\n",
      "epoch: 24, iteration: 200, loss: 1.4614399671554565\n",
      "epoch: 24, iteration: 300, loss: 1.4611812829971313\n",
      "epoch: 24, iteration: 400, loss: 1.4611821174621582\n",
      "epoch: 24, iteration: 500, loss: 1.4611538648605347\n",
      "epoch: 24, iteration: 600, loss: 1.4634884595870972\n",
      "epoch: 24, iteration: 700, loss: 1.4613553285598755\n",
      "epoch: 24, iteration: 800, loss: 1.4611825942993164\n",
      "epoch: 24, iteration: 900, loss: 1.4635335206985474\n",
      "epoch: 24, iteration: 1000, loss: 1.461173415184021\n",
      "epoch: 24, iteration: 1100, loss: 1.4611713886260986\n",
      "epoch: 24, accuracy: 0.9811\n",
      "epoch: 25, iteration: 0, loss: 1.4613860845565796\n",
      "epoch: 25, iteration: 100, loss: 1.4611603021621704\n",
      "epoch: 25, iteration: 200, loss: 1.4619345664978027\n",
      "epoch: 25, iteration: 300, loss: 1.4618452787399292\n",
      "epoch: 25, iteration: 400, loss: 1.4612213373184204\n",
      "epoch: 25, iteration: 500, loss: 1.461196780204773\n",
      "epoch: 25, iteration: 600, loss: 1.4611576795578003\n",
      "epoch: 25, iteration: 700, loss: 1.462988257408142\n",
      "epoch: 25, iteration: 800, loss: 1.4613898992538452\n",
      "epoch: 25, iteration: 900, loss: 1.4651190042495728\n",
      "epoch: 25, iteration: 1000, loss: 1.461159110069275\n",
      "epoch: 25, iteration: 1100, loss: 1.4611709117889404\n",
      "epoch: 25, accuracy: 0.9757\n",
      "epoch: 26, iteration: 0, loss: 1.463024616241455\n",
      "epoch: 26, iteration: 100, loss: 1.4611586332321167\n",
      "epoch: 26, iteration: 200, loss: 1.4612246751785278\n",
      "epoch: 26, iteration: 300, loss: 1.4611575603485107\n",
      "epoch: 26, iteration: 400, loss: 1.4612338542938232\n",
      "epoch: 26, iteration: 500, loss: 1.480866551399231\n",
      "epoch: 26, iteration: 600, loss: 1.4611667394638062\n",
      "epoch: 26, iteration: 700, loss: 1.4617871046066284\n",
      "epoch: 26, iteration: 800, loss: 1.4795565605163574\n",
      "epoch: 26, iteration: 900, loss: 1.461176872253418\n",
      "epoch: 26, iteration: 1000, loss: 1.4612082242965698\n",
      "epoch: 26, iteration: 1100, loss: 1.461189866065979\n",
      "epoch: 26, accuracy: 0.98\n",
      "epoch: 27, iteration: 0, loss: 1.4621665477752686\n",
      "epoch: 27, iteration: 100, loss: 1.461151123046875\n",
      "epoch: 27, iteration: 200, loss: 1.4612852334976196\n",
      "epoch: 27, iteration: 300, loss: 1.461179256439209\n",
      "epoch: 27, iteration: 400, loss: 1.4618686437606812\n",
      "epoch: 27, iteration: 500, loss: 1.4611586332321167\n",
      "epoch: 27, iteration: 600, loss: 1.4613255262374878\n",
      "epoch: 27, iteration: 700, loss: 1.461228370666504\n",
      "epoch: 27, iteration: 800, loss: 1.463423490524292\n",
      "epoch: 27, iteration: 900, loss: 1.4611912965774536\n",
      "epoch: 27, iteration: 1000, loss: 1.4611594676971436\n",
      "epoch: 27, iteration: 1100, loss: 1.4611611366271973\n",
      "epoch: 27, accuracy: 0.9818\n",
      "epoch: 28, iteration: 0, loss: 1.4621713161468506\n",
      "epoch: 28, iteration: 100, loss: 1.4612796306610107\n",
      "epoch: 28, iteration: 200, loss: 1.4810906648635864\n",
      "epoch: 28, iteration: 300, loss: 1.4611660242080688\n",
      "epoch: 28, iteration: 400, loss: 1.4617195129394531\n",
      "epoch: 28, iteration: 500, loss: 1.4612514972686768\n",
      "epoch: 28, iteration: 600, loss: 1.4812226295471191\n",
      "epoch: 28, iteration: 700, loss: 1.4611663818359375\n",
      "epoch: 28, iteration: 800, loss: 1.4613699913024902\n",
      "epoch: 28, iteration: 900, loss: 1.461159110069275\n",
      "epoch: 28, iteration: 1000, loss: 1.4628406763076782\n",
      "epoch: 28, iteration: 1100, loss: 1.4613134860992432\n",
      "epoch: 28, accuracy: 0.9806\n",
      "epoch: 29, iteration: 0, loss: 1.4611514806747437\n",
      "epoch: 29, iteration: 100, loss: 1.4611504077911377\n",
      "epoch: 29, iteration: 200, loss: 1.4611531496047974\n",
      "epoch: 29, iteration: 300, loss: 1.4611533880233765\n",
      "epoch: 29, iteration: 400, loss: 1.461183786392212\n",
      "epoch: 29, iteration: 500, loss: 1.4611698389053345\n",
      "epoch: 29, iteration: 600, loss: 1.483253002166748\n",
      "epoch: 29, iteration: 700, loss: 1.4843685626983643\n",
      "epoch: 29, iteration: 800, loss: 1.4611560106277466\n",
      "epoch: 29, iteration: 900, loss: 1.461155652999878\n",
      "epoch: 29, iteration: 1000, loss: 1.4784011840820312\n",
      "epoch: 29, iteration: 1100, loss: 1.4615365266799927\n",
      "epoch: 29, accuracy: 0.9714\n"
     ]
    },
    {
     "data": {
      "text/plain": [
       "'\\n print(\\'=========================================\\')\\n    print(\"Model\\'s state_dict for epoch :\", i_epoch)\\n    for param_tensor in model.state_dict():\\n     print(param_tensor, \"\\t\", model.state_dict()[param_tensor].size())\\n\\n    print(\"Optimizer\\'s state_dict:\")\\n     for var_name in optimizer.state_dict():\\n      print(var_name, \"\\t\", optimizer.state_dict()[var_name])\\n\\n    print(\\'=========================================\\')\\n'"
      ]
     },
     "execution_count": 11,
     "metadata": {},
     "output_type": "execute_result"
    }
   ],
   "source": [
    "device = torch.device('cuda' if torch.cuda.is_available() else 'cpu')\n",
    "\n",
    "\"\"\"\n",
    "TODO: 학습횟수를 자유자재로 바꾸어보자.\n",
    "\"\"\"\n",
    "\n",
    "for i_epoch in range(30):\n",
    "    train(model, train_loader, optimizer, i_epoch, device)\n",
    "    test(model, test_loader, i_epoch, device)\n",
    "    torch.save(model.state_dict(), \"mnist_test.pt\")\n",
    "\n",
    "\"\"\"\n",
    " print('=========================================')\n",
    "    print(\"Model's state_dict for epoch :\", i_epoch)\n",
    "    for param_tensor in model.state_dict():\n",
    "     print(param_tensor, \"\\t\", model.state_dict()[param_tensor].size())\n",
    "\n",
    "    print(\"Optimizer's state_dict:\")\n",
    "     for var_name in optimizer.state_dict():\n",
    "      print(var_name, \"\\t\", optimizer.state_dict()[var_name])\n",
    "\n",
    "    print('=========================================')\n",
    "\"\"\""
   ]
  },
  {
   "cell_type": "code",
   "execution_count": 12,
   "metadata": {
    "collapsed": false,
    "pycharm": {
     "name": "#%%\n"
    }
   },
   "outputs": [
    {
     "data": {
      "text/plain": [
       "<matplotlib.legend.Legend at 0x1d3960ab340>"
      ]
     },
     "execution_count": 12,
     "metadata": {},
     "output_type": "execute_result"
    },
    {
     "data": {
      "image/png": "[encoded data removed]",
      "text/plain": [
       "<Figure size 432x288 with 1 Axes>"
      ]
     },
     "metadata": {
      "needs_background": "light"
     },
     "output_type": "display_data"
    }
   ],
   "source": [
    "#그래프 확인\n",
    "plt.plot(loss_value, label='Training Loss')\n",
    "\n",
    "plt.title('Training Loss')\n",
    "plt.legend()"
   ]
  },
  {
   "cell_type": "code",
   "execution_count": 13,
   "metadata": {
    "collapsed": false,
    "pycharm": {
     "name": "#%%\n"
    }
   },
   "outputs": [
    {
     "data": {
      "text/plain": [
       "Text(0.5, 0, 'Epoch')"
      ]
     },
     "execution_count": 13,
     "metadata": {},
     "output_type": "execute_result"
    },
    {
     "data": {
      "image/png": "[encoded data removed]",
      "text/plain": [
       "<Figure size 432x288 with 1 Axes>"
      ]
     },
     "metadata": {
      "needs_background": "light"
     },
     "output_type": "display_data"
    }
   ],
   "source": [
    "plt.plot(accuracy_value, label='Accuracy')\n",
    "plt.title('Accuracy')\n",
    "plt.xlabel('Epoch')"
   ]
  }
 ],
 "metadata": {
  "kernelspec": {
   "display_name": "Python 3.9.8 64-bit",
   "language": "python",
   "name": "python3"
  },
  "language_info": {
   "codemirror_mode": {
    "name": "ipython",
    "version": 3
   },
   "file_extension": ".py",
   "mimetype": "text/x-python",
   "name": "python",
   "nbconvert_exporter": "python",
   "pygments_lexer": "ipython3",
   "version": "3.9.8"
  },
  "vscode": {
   "interpreter": {
    "hash": "bb5871374aa815611ff090ac9fb6f4b5f2e2a999b21408b6453922aa9cb06e2a"
   }
  }
 },
 "nbformat": 4,
 "nbformat_minor": 0
}
