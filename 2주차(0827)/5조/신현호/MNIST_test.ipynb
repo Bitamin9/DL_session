{
 "cells": [
  {
   "cell_type": "code",
   "execution_count": 1,
   "metadata": {
    "pycharm": {
     "name": "#%%\n"
    }
   },
   "outputs": [],
   "source": [
    "from __future__ import print_function\n",
    "\n",
    "import torch\n",
    "import torch.nn as nn\n",
    "import torch.nn.functional as F\n",
    "from torchvision import datasets, transforms"
   ]
  },
  {
   "cell_type": "markdown",
   "metadata": {
    "pycharm": {
     "name": "#%% md\n"
    }
   },
   "source": [
    "1. 데이터 확인"
   ]
  },
  {
   "cell_type": "code",
   "execution_count": 2,
   "metadata": {
    "pycharm": {
     "name": "#%%\n"
    }
   },
   "outputs": [
    {
     "name": "stdout",
     "output_type": "stream",
     "text": [
      "Downloading http://yann.lecun.com/exdb/mnist/train-images-idx3-ubyte.gz\n",
      "Downloading http://yann.lecun.com/exdb/mnist/train-images-idx3-ubyte.gz to ../data/MNIST/raw/train-images-idx3-ubyte.gz\n"
     ]
    },
    {
     "data": {
      "application/vnd.jupyter.widget-view+json": {
       "model_id": "6d0c60f258844de79b29849213f201b2",
       "version_major": 2,
       "version_minor": 0
      },
      "text/plain": [
       "  0%|          | 0/9912422 [00:00<?, ?it/s]"
      ]
     },
     "metadata": {},
     "output_type": "display_data"
    },
    {
     "name": "stdout",
     "output_type": "stream",
     "text": [
      "Extracting ../data/MNIST/raw/train-images-idx3-ubyte.gz to ../data/MNIST/raw\n",
      "\n",
      "Downloading http://yann.lecun.com/exdb/mnist/train-labels-idx1-ubyte.gz\n",
      "Downloading http://yann.lecun.com/exdb/mnist/train-labels-idx1-ubyte.gz to ../data/MNIST/raw/train-labels-idx1-ubyte.gz\n"
     ]
    },
    {
     "data": {
      "application/vnd.jupyter.widget-view+json": {
       "model_id": "8d79c6749e384585b806e5774e59cefd",
       "version_major": 2,
       "version_minor": 0
      },
      "text/plain": [
       "  0%|          | 0/28881 [00:00<?, ?it/s]"
      ]
     },
     "metadata": {},
     "output_type": "display_data"
    },
    {
     "name": "stdout",
     "output_type": "stream",
     "text": [
      "Extracting ../data/MNIST/raw/train-labels-idx1-ubyte.gz to ../data/MNIST/raw\n",
      "\n",
      "Downloading http://yann.lecun.com/exdb/mnist/t10k-images-idx3-ubyte.gz\n",
      "Downloading http://yann.lecun.com/exdb/mnist/t10k-images-idx3-ubyte.gz to ../data/MNIST/raw/t10k-images-idx3-ubyte.gz\n"
     ]
    },
    {
     "data": {
      "application/vnd.jupyter.widget-view+json": {
       "model_id": "b8e5c52d9d984eaf9831f2fcfee9d8b0",
       "version_major": 2,
       "version_minor": 0
      },
      "text/plain": [
       "  0%|          | 0/1648877 [00:00<?, ?it/s]"
      ]
     },
     "metadata": {},
     "output_type": "display_data"
    },
    {
     "name": "stdout",
     "output_type": "stream",
     "text": [
      "Extracting ../data/MNIST/raw/t10k-images-idx3-ubyte.gz to ../data/MNIST/raw\n",
      "\n",
      "Downloading http://yann.lecun.com/exdb/mnist/t10k-labels-idx1-ubyte.gz\n",
      "Downloading http://yann.lecun.com/exdb/mnist/t10k-labels-idx1-ubyte.gz to ../data/MNIST/raw/t10k-labels-idx1-ubyte.gz\n"
     ]
    },
    {
     "data": {
      "application/vnd.jupyter.widget-view+json": {
       "model_id": "c09a8905d1044469babbba9b4aaf6929",
       "version_major": 2,
       "version_minor": 0
      },
      "text/plain": [
       "  0%|          | 0/4542 [00:00<?, ?it/s]"
      ]
     },
     "metadata": {},
     "output_type": "display_data"
    },
    {
     "name": "stdout",
     "output_type": "stream",
     "text": [
      "Extracting ../data/MNIST/raw/t10k-labels-idx1-ubyte.gz to ../data/MNIST/raw\n",
      "\n",
      "number of training data:  60000\n",
      "number of test data  10000\n"
     ]
    }
   ],
   "source": [
    "#MNIST dataset\n",
    "\n",
    "train_dset = datasets.MNIST('../data', train=True, download=True,transform=transforms.ToTensor())\n",
    "test_dset = datasets.MNIST('../data', train=False,transform=transforms.ToTensor(), download=True)\n",
    "\n",
    "print('number of training data: ', len(train_dset))\n",
    "print('number of test data ', len(test_dset))"
   ]
  },
  {
   "cell_type": "code",
   "execution_count": 5,
   "metadata": {
    "pycharm": {
     "name": "#%%\n"
    }
   },
   "outputs": [
    {
     "name": "stdout",
     "output_type": "stream",
     "text": [
      "Image\n",
      "=========================================\n",
      "Shape of image\t:  torch.Size([1, 28, 28])\n",
      "10'th row of this image\t: tensor([0.0000, 0.0000, 0.0000, 0.3882, 0.9882, 0.9882, 0.9882, 0.7098, 0.0667,\n",
      "        0.0000, 0.0000, 0.0000, 0.0000, 0.0000, 0.0000, 0.0000, 0.1922, 0.9882,\n",
      "        0.9882, 0.9882, 0.4784, 0.0000, 0.0000, 0.0000, 0.0000, 0.0000, 0.0000,\n",
      "        0.0000])\n",
      "Label\n",
      "=========================================\n",
      "label:  4\n"
     ]
    },
    {
     "data": {
      "text/plain": [
       "<function matplotlib.pyplot.show(close=None, block=None)>"
      ]
     },
     "execution_count": 5,
     "metadata": {},
     "output_type": "execute_result"
    },
    {
     "data": {
      "image/png": "[encoded data removed]",
      "text/plain": [
       "<Figure size 432x288 with 1 Axes>"
      ]
     },
     "metadata": {
      "needs_background": "light"
     },
     "output_type": "display_data"
    }
   ],
   "source": [
    "#데이터 확인\n",
    "\n",
    "\"\"\"\n",
    "\n",
    "TODO: train_dset[*] 의 숫자값을 바꾸어 데이터를 다른 걸 출력해보자.\n",
    "\n",
    "\"\"\"\n",
    "image, label = train_dset[20]\n",
    "\n",
    "print('Image')\n",
    "print('=========================================')\n",
    "print('Shape of image\\t: ', image.shape)\n",
    "print('10\\'th row of this image\\t:', image[0][9])\n",
    "\n",
    "print('Label')\n",
    "print('=========================================')\n",
    "print('label: ', label)\n",
    "\n",
    "from matplotlib import pyplot as plt\n",
    "plt.imshow(image.squeeze().numpy(), cmap='gray')\n",
    "plt.show"
   ]
  },
  {
   "cell_type": "markdown",
   "metadata": {
    "pycharm": {
     "name": "#%% md\n"
    }
   },
   "source": [
    "2. Training and Test"
   ]
  },
  {
   "cell_type": "code",
   "execution_count": 33,
   "metadata": {
    "pycharm": {
     "name": "#%%\n"
    }
   },
   "outputs": [],
   "source": [
    "\"\"\"\n",
    "TODO: batch_size 를 바꾸어보자\n",
    "\"\"\"\n",
    "train_loader = torch.utils.data.DataLoader(train_dset, batch_size = 128, shuffle=True)\n",
    "test_loader = torch.utils.data.DataLoader(test_dset, batch_size = 128, shuffle=False)"
   ]
  },
  {
   "cell_type": "code",
   "execution_count": 34,
   "metadata": {
    "pycharm": {
     "name": "#%%\n"
    }
   },
   "outputs": [],
   "source": [
    "#Training\n",
    "def train(model, train_loader, optimizer, i_epoch, device):\n",
    "    model.train()\n",
    "    for i, (image, target) in enumerate(train_loader):\n",
    "        image = image.to(device)\n",
    "        output = model(image)\n",
    "        loss = F.cross_entropy(output, target)\n",
    "\n",
    "        model.zero_grad()\n",
    "        loss.backward()\n",
    "        optimizer.step()\n",
    "\n",
    "\n",
    "         #러닝 커브 그리기\n",
    "        loss_value.append(loss.detach().numpy())\n",
    "\n",
    "        #100번쨰 마다 loss 출력\n",
    "        if i%100==0:\n",
    "            print(\"epoch: {}, iteration: {}, loss: {}\".format(i_epoch, i, loss.item()))"
   ]
  },
  {
   "cell_type": "code",
   "execution_count": 35,
   "metadata": {
    "pycharm": {
     "name": "#%%\n"
    }
   },
   "outputs": [],
   "source": [
    "#Test\n",
    "def test(model, test_loader, i_epoch, device):\n",
    "    model.eval()\n",
    "    accurate = 0\n",
    "    test_loss = 0\n",
    "\n",
    "    with torch.no_grad():\n",
    "        for i, (image, target) in enumerate(test_loader):\n",
    "            image = image.to(device)\n",
    "            output = model(image)\n",
    "            test_loss += F.nll_loss(output, target, reduction='sum').item()\n",
    "            prediction = torch.argmax(output, dim=1)\n",
    "            accurate += prediction.eq(target.view_as(prediction)).sum().item()\n",
    "\n",
    "\n",
    "    accuracy = accurate / len(test_loader.dataset)\n",
    "    #러닝커브 그리기\n",
    "    accuracy_value.append(accuracy)\n",
    "    print(\"epoch: {}, accuracy: {}\".format(i_epoch, accuracy))\n"
   ]
  },
  {
   "cell_type": "markdown",
   "metadata": {
    "pycharm": {
     "name": "#%% md\n"
    }
   },
   "source": [
    "3. Model"
   ]
  },
  {
   "cell_type": "code",
   "execution_count": 36,
   "metadata": {
    "pycharm": {
     "name": "#%%\n"
    }
   },
   "outputs": [],
   "source": [
    "\"\"\"\n",
    "TODO: 모델 Customization! 레이어 개수나 레이어 차원, 활성화 함수를 바꾸어보자.\n",
    "\n",
    "데이터의 형태를 주의하면서 바꾸어 볼 것~\n",
    "\n",
    "\"\"\"\n",
    "\n",
    "class net(nn.Module):\n",
    "    def __init__(self):\n",
    "        super(net, self).__init__()\n",
    "\n",
    "        self.fc = nn.Sequential(\n",
    "            nn.Linear(28 * 28, 64),\n",
    "            nn.Dropout(.2),\n",
    "            nn.ReLU(),\n",
    "            nn.Linear(64, 128),\n",
    "            nn.Dropout(.2),\n",
    "            nn.ReLU(),\n",
    "            nn.Linear(128, 64),\n",
    "            nn.Dropout(.2),\n",
    "            nn.ReLU(),\n",
    "            nn.Linear(64, 10),\n",
    "            nn.Sigmoid()\n",
    "           )\n",
    "\n",
    "    def forward(self, x):\n",
    "        x = x.view(-1, 28 * 28)\n",
    "        return self.fc(x)"
   ]
  },
  {
   "cell_type": "markdown",
   "metadata": {
    "pycharm": {
     "name": "#%% md\n"
    }
   },
   "source": [
    "4. Evaluation"
   ]
  },
  {
   "cell_type": "code",
   "execution_count": 37,
   "metadata": {
    "pycharm": {
     "name": "#%%\n"
    }
   },
   "outputs": [],
   "source": [
    "loss_value = []\n",
    "accuracy_value = []\n",
    "model = net()\n",
    "\n",
    "\"\"\"\n",
    "\n",
    "TODO: 학습률을 바꾸어보고, Optimizer 을 바꾸어보자 (선택)\n",
    "\n",
    "\"\"\"\n",
    "optimizer = torch.optim.Adam(model.parameters(), lr=1e-4)"
   ]
  },
  {
   "cell_type": "code",
   "execution_count": 38,
   "metadata": {
    "pycharm": {
     "is_executing": true,
     "name": "#%%\n"
    }
   },
   "outputs": [
    {
     "name": "stdout",
     "output_type": "stream",
     "text": [
      "epoch: 0, iteration: 0, loss: 2.3024563789367676\n",
      "epoch: 0, iteration: 100, loss: 2.2696433067321777\n",
      "epoch: 0, iteration: 200, loss: 2.103860378265381\n",
      "epoch: 0, iteration: 300, loss: 1.9316470623016357\n",
      "epoch: 0, iteration: 400, loss: 1.8525385856628418\n",
      "epoch: 0, accuracy: 0.7491\n",
      "epoch: 1, iteration: 0, loss: 1.8081647157669067\n",
      "epoch: 1, iteration: 100, loss: 1.7843326330184937\n",
      "epoch: 1, iteration: 200, loss: 1.7586901187896729\n",
      "epoch: 1, iteration: 300, loss: 1.7449380159378052\n",
      "epoch: 1, iteration: 400, loss: 1.733272910118103\n",
      "epoch: 1, accuracy: 0.8094\n",
      "epoch: 2, iteration: 0, loss: 1.6832538843154907\n",
      "epoch: 2, iteration: 100, loss: 1.7043025493621826\n",
      "epoch: 2, iteration: 200, loss: 1.6533929109573364\n",
      "epoch: 2, iteration: 300, loss: 1.672236442565918\n",
      "epoch: 2, iteration: 400, loss: 1.6763144731521606\n",
      "epoch: 2, accuracy: 0.8345\n",
      "epoch: 3, iteration: 0, loss: 1.643166184425354\n",
      "epoch: 3, iteration: 100, loss: 1.65207040309906\n",
      "epoch: 3, iteration: 200, loss: 1.6390447616577148\n",
      "epoch: 3, iteration: 300, loss: 1.6219255924224854\n",
      "epoch: 3, iteration: 400, loss: 1.6411396265029907\n",
      "epoch: 3, accuracy: 0.8571\n",
      "epoch: 4, iteration: 0, loss: 1.630814552307129\n",
      "epoch: 4, iteration: 100, loss: 1.6085282564163208\n",
      "epoch: 4, iteration: 200, loss: 1.5780115127563477\n",
      "epoch: 4, iteration: 300, loss: 1.632305383682251\n",
      "epoch: 4, iteration: 400, loss: 1.5943970680236816\n",
      "epoch: 4, accuracy: 0.8774\n",
      "epoch: 5, iteration: 0, loss: 1.6293745040893555\n",
      "epoch: 5, iteration: 100, loss: 1.5937957763671875\n",
      "epoch: 5, iteration: 200, loss: 1.603680968284607\n",
      "epoch: 5, iteration: 300, loss: 1.6113555431365967\n",
      "epoch: 5, iteration: 400, loss: 1.5933202505111694\n",
      "epoch: 5, accuracy: 0.8792\n",
      "epoch: 6, iteration: 0, loss: 1.612503170967102\n",
      "epoch: 6, iteration: 100, loss: 1.6199687719345093\n",
      "epoch: 6, iteration: 200, loss: 1.5939815044403076\n",
      "epoch: 6, iteration: 300, loss: 1.5818042755126953\n",
      "epoch: 6, iteration: 400, loss: 1.5854575634002686\n",
      "epoch: 6, accuracy: 0.8872\n",
      "epoch: 7, iteration: 0, loss: 1.5738465785980225\n",
      "epoch: 7, iteration: 100, loss: 1.572841763496399\n",
      "epoch: 7, iteration: 200, loss: 1.5812914371490479\n",
      "epoch: 7, iteration: 300, loss: 1.5426011085510254\n",
      "epoch: 7, iteration: 400, loss: 1.5809471607208252\n",
      "epoch: 7, accuracy: 0.8901\n",
      "epoch: 8, iteration: 0, loss: 1.5991262197494507\n",
      "epoch: 8, iteration: 100, loss: 1.5932316780090332\n",
      "epoch: 8, iteration: 200, loss: 1.5983232259750366\n",
      "epoch: 8, iteration: 300, loss: 1.5597248077392578\n",
      "epoch: 8, iteration: 400, loss: 1.56046724319458\n",
      "epoch: 8, accuracy: 0.8887\n",
      "epoch: 9, iteration: 0, loss: 1.5728754997253418\n",
      "epoch: 9, iteration: 100, loss: 1.5523961782455444\n",
      "epoch: 9, iteration: 200, loss: 1.5857125520706177\n",
      "epoch: 9, iteration: 300, loss: 1.576696515083313\n",
      "epoch: 9, iteration: 400, loss: 1.5766602754592896\n",
      "epoch: 9, accuracy: 0.8952\n",
      "epoch: 10, iteration: 0, loss: 1.5345581769943237\n",
      "epoch: 10, iteration: 100, loss: 1.5593218803405762\n",
      "epoch: 10, iteration: 200, loss: 1.5442540645599365\n",
      "epoch: 10, iteration: 300, loss: 1.5503166913986206\n",
      "epoch: 10, iteration: 400, loss: 1.5617828369140625\n",
      "epoch: 10, accuracy: 0.9008\n",
      "epoch: 11, iteration: 0, loss: 1.5239558219909668\n",
      "epoch: 11, iteration: 100, loss: 1.5576679706573486\n",
      "epoch: 11, iteration: 200, loss: 1.5824602842330933\n",
      "epoch: 11, iteration: 300, loss: 1.5577187538146973\n",
      "epoch: 11, iteration: 400, loss: 1.5656321048736572\n",
      "epoch: 11, accuracy: 0.9132\n",
      "epoch: 12, iteration: 0, loss: 1.5750160217285156\n",
      "epoch: 12, iteration: 100, loss: 1.5521306991577148\n",
      "epoch: 12, iteration: 200, loss: 1.5518157482147217\n",
      "epoch: 12, iteration: 300, loss: 1.5256856679916382\n",
      "epoch: 12, iteration: 400, loss: 1.5344246625900269\n",
      "epoch: 12, accuracy: 0.9245\n",
      "epoch: 13, iteration: 0, loss: 1.516875982284546\n",
      "epoch: 13, iteration: 100, loss: 1.5535584688186646\n",
      "epoch: 13, iteration: 200, loss: 1.5277609825134277\n",
      "epoch: 13, iteration: 300, loss: 1.5413143634796143\n",
      "epoch: 13, iteration: 400, loss: 1.5609362125396729\n",
      "epoch: 13, accuracy: 0.9305\n",
      "epoch: 14, iteration: 0, loss: 1.52251398563385\n",
      "epoch: 14, iteration: 100, loss: 1.5221294164657593\n",
      "epoch: 14, iteration: 200, loss: 1.5451147556304932\n",
      "epoch: 14, iteration: 300, loss: 1.5570151805877686\n",
      "epoch: 14, iteration: 400, loss: 1.4913077354431152\n",
      "epoch: 14, accuracy: 0.9352\n",
      "epoch: 15, iteration: 0, loss: 1.5322438478469849\n",
      "epoch: 15, iteration: 100, loss: 1.5472314357757568\n",
      "epoch: 15, iteration: 200, loss: 1.5473798513412476\n",
      "epoch: 15, iteration: 300, loss: 1.5772708654403687\n",
      "epoch: 15, iteration: 400, loss: 1.552437424659729\n",
      "epoch: 15, accuracy: 0.9375\n",
      "epoch: 16, iteration: 0, loss: 1.5862672328948975\n",
      "epoch: 16, iteration: 100, loss: 1.5482940673828125\n",
      "epoch: 16, iteration: 200, loss: 1.531883716583252\n",
      "epoch: 16, iteration: 300, loss: 1.5314135551452637\n",
      "epoch: 16, iteration: 400, loss: 1.5060961246490479\n",
      "epoch: 16, accuracy: 0.9389\n",
      "epoch: 17, iteration: 0, loss: 1.5263795852661133\n",
      "epoch: 17, iteration: 100, loss: 1.5453780889511108\n",
      "epoch: 17, iteration: 200, loss: 1.528466820716858\n",
      "epoch: 17, iteration: 300, loss: 1.5369693040847778\n",
      "epoch: 17, iteration: 400, loss: 1.5193363428115845\n",
      "epoch: 17, accuracy: 0.9404\n",
      "epoch: 18, iteration: 0, loss: 1.5383182764053345\n",
      "epoch: 18, iteration: 100, loss: 1.5225235223770142\n",
      "epoch: 18, iteration: 200, loss: 1.5150853395462036\n",
      "epoch: 18, iteration: 300, loss: 1.5151519775390625\n",
      "epoch: 18, iteration: 400, loss: 1.5341724157333374\n",
      "epoch: 18, accuracy: 0.941\n",
      "epoch: 19, iteration: 0, loss: 1.525392770767212\n",
      "epoch: 19, iteration: 100, loss: 1.5575659275054932\n",
      "epoch: 19, iteration: 200, loss: 1.515006184577942\n",
      "epoch: 19, iteration: 300, loss: 1.5257623195648193\n",
      "epoch: 19, iteration: 400, loss: 1.5527926683425903\n",
      "epoch: 19, accuracy: 0.9441\n",
      "epoch: 20, iteration: 0, loss: 1.5167980194091797\n",
      "epoch: 20, iteration: 100, loss: 1.5161014795303345\n",
      "epoch: 20, iteration: 200, loss: 1.5332190990447998\n",
      "epoch: 20, iteration: 300, loss: 1.5241206884384155\n",
      "epoch: 20, iteration: 400, loss: 1.5189679861068726\n",
      "epoch: 20, accuracy: 0.9459\n",
      "epoch: 21, iteration: 0, loss: 1.5320552587509155\n",
      "epoch: 21, iteration: 100, loss: 1.5355088710784912\n",
      "epoch: 21, iteration: 200, loss: 1.5182782411575317\n",
      "epoch: 21, iteration: 300, loss: 1.5312718152999878\n",
      "epoch: 21, iteration: 400, loss: 1.5117160081863403\n",
      "epoch: 21, accuracy: 0.9463\n",
      "epoch: 22, iteration: 0, loss: 1.516952395439148\n",
      "epoch: 22, iteration: 100, loss: 1.5493321418762207\n",
      "epoch: 22, iteration: 200, loss: 1.4919835329055786\n",
      "epoch: 22, iteration: 300, loss: 1.5008655786514282\n",
      "epoch: 22, iteration: 400, loss: 1.5189584493637085\n",
      "epoch: 22, accuracy: 0.9477\n",
      "epoch: 23, iteration: 0, loss: 1.5293186902999878\n",
      "epoch: 23, iteration: 100, loss: 1.531170129776001\n",
      "epoch: 23, iteration: 200, loss: 1.540079951286316\n",
      "epoch: 23, iteration: 300, loss: 1.4977788925170898\n",
      "epoch: 23, iteration: 400, loss: 1.5354812145233154\n",
      "epoch: 23, accuracy: 0.9494\n",
      "epoch: 24, iteration: 0, loss: 1.519995093345642\n",
      "epoch: 24, iteration: 100, loss: 1.5030649900436401\n",
      "epoch: 24, iteration: 200, loss: 1.5228638648986816\n",
      "epoch: 24, iteration: 300, loss: 1.531800627708435\n",
      "epoch: 24, iteration: 400, loss: 1.5119470357894897\n",
      "epoch: 24, accuracy: 0.9494\n",
      "epoch: 25, iteration: 0, loss: 1.5372695922851562\n",
      "epoch: 25, iteration: 100, loss: 1.516405463218689\n",
      "epoch: 25, iteration: 200, loss: 1.51436185836792\n",
      "epoch: 25, iteration: 300, loss: 1.4992332458496094\n",
      "epoch: 25, iteration: 400, loss: 1.50205397605896\n",
      "epoch: 25, accuracy: 0.9509\n",
      "epoch: 26, iteration: 0, loss: 1.5266116857528687\n",
      "epoch: 26, iteration: 100, loss: 1.5148335695266724\n",
      "epoch: 26, iteration: 200, loss: 1.52627432346344\n",
      "epoch: 26, iteration: 300, loss: 1.4947906732559204\n",
      "epoch: 26, iteration: 400, loss: 1.5457572937011719\n",
      "epoch: 26, accuracy: 0.9526\n",
      "epoch: 27, iteration: 0, loss: 1.5084164142608643\n",
      "epoch: 27, iteration: 100, loss: 1.5042003393173218\n",
      "epoch: 27, iteration: 200, loss: 1.5160359144210815\n",
      "epoch: 27, iteration: 300, loss: 1.4854345321655273\n",
      "epoch: 27, iteration: 400, loss: 1.5113201141357422\n",
      "epoch: 27, accuracy: 0.9533\n",
      "epoch: 28, iteration: 0, loss: 1.496652364730835\n",
      "epoch: 28, iteration: 100, loss: 1.524928092956543\n",
      "epoch: 28, iteration: 200, loss: 1.5066413879394531\n",
      "epoch: 28, iteration: 300, loss: 1.4968870878219604\n",
      "epoch: 28, iteration: 400, loss: 1.5010006427764893\n",
      "epoch: 28, accuracy: 0.9537\n",
      "epoch: 29, iteration: 0, loss: 1.5230884552001953\n"
     ]
    },
    {
     "name": "stdout",
     "output_type": "stream",
     "text": [
      "epoch: 29, iteration: 100, loss: 1.495234727859497\n",
      "epoch: 29, iteration: 200, loss: 1.4963164329528809\n",
      "epoch: 29, iteration: 300, loss: 1.5425695180892944\n",
      "epoch: 29, iteration: 400, loss: 1.5073062181472778\n",
      "epoch: 29, accuracy: 0.955\n"
     ]
    },
    {
     "data": {
      "text/plain": [
       "'\\n print(\\'=========================================\\')\\n    print(\"Model\\'s state_dict for epoch :\", i_epoch)\\n    for param_tensor in model.state_dict():\\n     print(param_tensor, \"\\t\", model.state_dict()[param_tensor].size())\\n\\n    print(\"Optimizer\\'s state_dict:\")\\n     for var_name in optimizer.state_dict():\\n      print(var_name, \"\\t\", optimizer.state_dict()[var_name])\\n\\n    print(\\'=========================================\\')\\n'"
      ]
     },
     "execution_count": 38,
     "metadata": {},
     "output_type": "execute_result"
    }
   ],
   "source": [
    "device = torch.device('cuda' if torch.cuda.is_available() else 'cpu')\n",
    "\n",
    "\"\"\"\n",
    "TODO: 학습횟수를 자유자재로 바꾸어보자.\n",
    "\"\"\"\n",
    "\n",
    "for i_epoch in range(30):\n",
    "    train(model, train_loader, optimizer, i_epoch, device)\n",
    "    test(model, test_loader, i_epoch, device)\n",
    "    torch.save(model.state_dict(), \"mnist_test.pt\")\n",
    "\n",
    "\"\"\"\n",
    " print('=========================================')\n",
    "    print(\"Model's state_dict for epoch :\", i_epoch)\n",
    "    for param_tensor in model.state_dict():\n",
    "     print(param_tensor, \"\\t\", model.state_dict()[param_tensor].size())\n",
    "\n",
    "    print(\"Optimizer's state_dict:\")\n",
    "     for var_name in optimizer.state_dict():\n",
    "      print(var_name, \"\\t\", optimizer.state_dict()[var_name])\n",
    "\n",
    "    print('=========================================')\n",
    "\"\"\""
   ]
  },
  {
   "cell_type": "code",
   "execution_count": 39,
   "metadata": {
    "pycharm": {
     "name": "#%%\n"
    }
   },
   "outputs": [
    {
     "data": {
      "text/plain": [
       "<matplotlib.legend.Legend at 0x7f9fc3354be0>"
      ]
     },
     "execution_count": 39,
     "metadata": {},
     "output_type": "execute_result"
    },
    {
     "data": {
      "image/png": "[encoded data removed]",
      "text/plain": [
       "<Figure size 432x288 with 1 Axes>"
      ]
     },
     "metadata": {
      "needs_background": "light"
     },
     "output_type": "display_data"
    }
   ],
   "source": [
    "#그래프 확인\n",
    "plt.plot(loss_value, label='Training Loss')\n",
    "\n",
    "plt.title('Training Loss')\n",
    "plt.legend()"
   ]
  },
  {
   "cell_type": "code",
   "execution_count": 40,
   "metadata": {
    "pycharm": {
     "name": "#%%\n"
    }
   },
   "outputs": [
    {
     "data": {
      "text/plain": [
       "Text(0.5, 0, 'Epoch')"
      ]
     },
     "execution_count": 40,
     "metadata": {},
     "output_type": "execute_result"
    },
    {
     "data": {
      "image/png": "[encoded data removed]",
      "text/plain": [
       "<Figure size 432x288 with 1 Axes>"
      ]
     },
     "metadata": {
      "needs_background": "light"
     },
     "output_type": "display_data"
    }
   ],
   "source": [
    "plt.plot(accuracy_value, label='Accuracy')\n",
    "plt.title('Accuracy')\n",
    "plt.xlabel('Epoch')"
   ]
  }
 ],
 "metadata": {
  "kernelspec": {
   "display_name": "Python 3 (ipykernel)",
   "language": "python",
   "name": "python3"
  },
  "language_info": {
   "codemirror_mode": {
    "name": "ipython",
    "version": 3
   },
   "file_extension": ".py",
   "mimetype": "text/x-python",
   "name": "python",
   "nbconvert_exporter": "python",
   "pygments_lexer": "ipython3",
   "version": "3.9.7"
  }
 },
 "nbformat": 4,
 "nbformat_minor": 1
}
