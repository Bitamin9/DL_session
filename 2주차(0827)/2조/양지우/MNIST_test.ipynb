{
 "cells": [
  {
   "cell_type": "code",
   "execution_count": 1,
   "metadata": {
    "pycharm": {
     "name": "#%%\n"
    }
   },
   "outputs": [],
   "source": [
    "from __future__ import print_function\n",
    "\n",
    "import torch\n",
    "import torch.nn as nn\n",
    "import torch.nn.functional as F\n",
    "from torchvision import datasets, transforms"
   ]
  },
  {
   "cell_type": "markdown",
   "metadata": {
    "pycharm": {
     "name": "#%% md\n"
    }
   },
   "source": [
    "1. 데이터 확인"
   ]
  },
  {
   "cell_type": "code",
   "execution_count": 2,
   "metadata": {
    "pycharm": {
     "name": "#%%\n"
    }
   },
   "outputs": [
    {
     "name": "stdout",
     "output_type": "stream",
     "text": [
      "Downloading http://yann.lecun.com/exdb/mnist/train-images-idx3-ubyte.gz\n",
      "Downloading http://yann.lecun.com/exdb/mnist/train-images-idx3-ubyte.gz to ../data\\MNIST\\raw\\train-images-idx3-ubyte.gz\n"
     ]
    },
    {
     "data": {
      "application/vnd.jupyter.widget-view+json": {
       "model_id": "ce1a01782825477380e0605d69abedfc",
       "version_major": 2,
       "version_minor": 0
      },
      "text/plain": [
       "  0%|          | 0/9912422 [00:00<?, ?it/s]"
      ]
     },
     "metadata": {},
     "output_type": "display_data"
    },
    {
     "name": "stdout",
     "output_type": "stream",
     "text": [
      "Extracting ../data\\MNIST\\raw\\train-images-idx3-ubyte.gz to ../data\\MNIST\\raw\n",
      "\n",
      "Downloading http://yann.lecun.com/exdb/mnist/train-labels-idx1-ubyte.gz\n",
      "Downloading http://yann.lecun.com/exdb/mnist/train-labels-idx1-ubyte.gz to ../data\\MNIST\\raw\\train-labels-idx1-ubyte.gz\n"
     ]
    },
    {
     "data": {
      "application/vnd.jupyter.widget-view+json": {
       "model_id": "dc5a8c00f63247639674c74ded80d8af",
       "version_major": 2,
       "version_minor": 0
      },
      "text/plain": [
       "  0%|          | 0/28881 [00:00<?, ?it/s]"
      ]
     },
     "metadata": {},
     "output_type": "display_data"
    },
    {
     "name": "stdout",
     "output_type": "stream",
     "text": [
      "Extracting ../data\\MNIST\\raw\\train-labels-idx1-ubyte.gz to ../data\\MNIST\\raw\n",
      "\n",
      "Downloading http://yann.lecun.com/exdb/mnist/t10k-images-idx3-ubyte.gz\n",
      "Downloading http://yann.lecun.com/exdb/mnist/t10k-images-idx3-ubyte.gz to ../data\\MNIST\\raw\\t10k-images-idx3-ubyte.gz\n"
     ]
    },
    {
     "data": {
      "application/vnd.jupyter.widget-view+json": {
       "model_id": "b1c40f78f8d042418e0b2bc5063680da",
       "version_major": 2,
       "version_minor": 0
      },
      "text/plain": [
       "  0%|          | 0/1648877 [00:00<?, ?it/s]"
      ]
     },
     "metadata": {},
     "output_type": "display_data"
    },
    {
     "name": "stdout",
     "output_type": "stream",
     "text": [
      "Extracting ../data\\MNIST\\raw\\t10k-images-idx3-ubyte.gz to ../data\\MNIST\\raw\n",
      "\n",
      "Downloading http://yann.lecun.com/exdb/mnist/t10k-labels-idx1-ubyte.gz\n",
      "Downloading http://yann.lecun.com/exdb/mnist/t10k-labels-idx1-ubyte.gz to ../data\\MNIST\\raw\\t10k-labels-idx1-ubyte.gz\n"
     ]
    },
    {
     "data": {
      "application/vnd.jupyter.widget-view+json": {
       "model_id": "151561e47fb140089dfb510c7a40ac08",
       "version_major": 2,
       "version_minor": 0
      },
      "text/plain": [
       "  0%|          | 0/4542 [00:00<?, ?it/s]"
      ]
     },
     "metadata": {},
     "output_type": "display_data"
    },
    {
     "name": "stdout",
     "output_type": "stream",
     "text": [
      "Extracting ../data\\MNIST\\raw\\t10k-labels-idx1-ubyte.gz to ../data\\MNIST\\raw\n",
      "\n",
      "number of training data:  60000\n",
      "number of test data  10000\n"
     ]
    }
   ],
   "source": [
    "#MNIST dataset\n",
    "\n",
    "train_dset = datasets.MNIST('../data', train=True, download=True,transform=transforms.ToTensor())\n",
    "test_dset = datasets.MNIST('../data', train=False,transform=transforms.ToTensor(), download=True)\n",
    "\n",
    "print('number of training data: ', len(train_dset))\n",
    "print('number of test data ', len(test_dset))"
   ]
  },
  {
   "cell_type": "code",
   "execution_count": 3,
   "metadata": {
    "pycharm": {
     "name": "#%%\n"
    }
   },
   "outputs": [
    {
     "name": "stdout",
     "output_type": "stream",
     "text": [
      "Image\n",
      "=========================================\n",
      "Shape of image\t:  torch.Size([1, 28, 28])\n",
      "10'th row of this image\t: tensor([0.0000, 0.0000, 0.0000, 0.0000, 0.0000, 0.0000, 0.0000, 0.0000, 0.0000,\n",
      "        0.0000, 0.0000, 0.0000, 0.0000, 0.0000, 0.1647, 0.9961, 0.6941, 0.0000,\n",
      "        0.0000, 0.0000, 0.0000, 0.0000, 0.0000, 0.0000, 0.0000, 0.0000, 0.0000,\n",
      "        0.0000])\n",
      "Label\n",
      "=========================================\n",
      "label:  2\n"
     ]
    },
    {
     "data": {
      "text/plain": [
       "<function matplotlib.pyplot.show(close=None, block=None)>"
      ]
     },
     "execution_count": 3,
     "metadata": {},
     "output_type": "execute_result"
    },
    {
     "data": {
      "image/png": "[encoded data removed]",
      "text/plain": [
       "<Figure size 432x288 with 1 Axes>"
      ]
     },
     "metadata": {
      "needs_background": "light"
     },
     "output_type": "display_data"
    }
   ],
   "source": [
    "#데이터 확인\n",
    "\n",
    "\"\"\"\n",
    "\n",
    "TODO: train_dset[*] 의 숫자값을 바꾸어 데이터를 다른 걸 출력해보자.\n",
    "\n",
    "\"\"\"\n",
    "image, label = train_dset[1270]\n",
    "\n",
    "print('Image')\n",
    "print('=========================================')\n",
    "print('Shape of image\\t: ', image.shape)\n",
    "print('10\\'th row of this image\\t:', image[0][9])\n",
    "\n",
    "print('Label')\n",
    "print('=========================================')\n",
    "print('label: ', label)\n",
    "\n",
    "from matplotlib import pyplot as plt\n",
    "plt.imshow(image.squeeze().numpy(), cmap='gray')\n",
    "plt.show"
   ]
  },
  {
   "cell_type": "markdown",
   "metadata": {
    "pycharm": {
     "name": "#%% md\n"
    }
   },
   "source": [
    "2. Training and Test"
   ]
  },
  {
   "cell_type": "code",
   "execution_count": 4,
   "metadata": {
    "pycharm": {
     "name": "#%%\n"
    }
   },
   "outputs": [],
   "source": [
    "\"\"\"\n",
    "TODO: batch_size 를 바꾸어보자\n",
    "\"\"\"\n",
    "train_loader = torch.utils.data.DataLoader(train_dset, batch_size = 64, shuffle=True)\n",
    "test_loader = torch.utils.data.DataLoader(test_dset, batch_size = 64, shuffle=False)"
   ]
  },
  {
   "cell_type": "code",
   "execution_count": 5,
   "metadata": {
    "pycharm": {
     "name": "#%%\n"
    }
   },
   "outputs": [],
   "source": [
    "#Training\n",
    "def train(model, train_loader, optimizer, i_epoch, device):\n",
    "    model.train()\n",
    "    for i, (image, target) in enumerate(train_loader):\n",
    "        image = image.to(device)\n",
    "        output = model(image)\n",
    "        loss = F.cross_entropy(output, target)\n",
    "\n",
    "        model.zero_grad()\n",
    "        loss.backward()\n",
    "        optimizer.step()\n",
    "\n",
    "\n",
    "         #러닝 커브 그리기\n",
    "        loss_value.append(loss.detach().numpy())\n",
    "\n",
    "        #100번쨰 마다 loss 출력\n",
    "        if i%100==0:\n",
    "            print(\"epoch: {}, iteration: {}, loss: {}\".format(i_epoch, i, loss.item()))"
   ]
  },
  {
   "cell_type": "code",
   "execution_count": 6,
   "metadata": {
    "pycharm": {
     "name": "#%%\n"
    }
   },
   "outputs": [],
   "source": [
    "#Test\n",
    "def test(model, test_loader, i_epoch, device):\n",
    "    model.eval()\n",
    "    accurate = 0\n",
    "    test_loss = 0\n",
    "\n",
    "    with torch.no_grad():\n",
    "        for i, (image, target) in enumerate(test_loader):\n",
    "            image = image.to(device)\n",
    "            output = model(image)\n",
    "            test_loss += F.nll_loss(output, target, reduction='sum').item()\n",
    "            prediction = torch.argmax(output, dim=1)\n",
    "            accurate += prediction.eq(target.view_as(prediction)).sum().item()\n",
    "\n",
    "\n",
    "    accuracy = accurate / len(test_loader.dataset)\n",
    "    #러닝커브 그리기\n",
    "    accuracy_value.append(accuracy)\n",
    "    print(\"epoch: {}, accuracy: {}\".format(i_epoch, accuracy))\n"
   ]
  },
  {
   "cell_type": "markdown",
   "metadata": {
    "pycharm": {
     "name": "#%% md\n"
    }
   },
   "source": [
    "3. Model"
   ]
  },
  {
   "cell_type": "code",
   "execution_count": 7,
   "metadata": {
    "pycharm": {
     "name": "#%%\n"
    }
   },
   "outputs": [],
   "source": [
    "\"\"\"\n",
    "TODO: 모델 Customization! 레이어 개수나 레이어 차원, 활성화 함수를 바꾸어보자.\n",
    "\n",
    "데이터의 형태를 주의하면서 바꾸어 볼 것~\n",
    "\n",
    "\"\"\"\n",
    "\n",
    "class net(nn.Module):\n",
    "    def __init__(self):\n",
    "        super(net, self).__init__()\n",
    "\n",
    "        self.fc = nn.Sequential(\n",
    "            nn.Linear(28 * 28, 256),\n",
    "            nn.ReLU(),\n",
    "            nn.Linear(256, 128),\n",
    "            nn.LeakyReLU(),\n",
    "            nn.Linear(128, 64),\n",
    "            nn.LeakyReLU(),\n",
    "            nn.Linear(64, 10),            \n",
    "            nn.Sigmoid()\n",
    "           )\n",
    "\n",
    "    def forward(self, x):\n",
    "        x = x.view(-1, 28 * 28)\n",
    "        return self.fc(x)"
   ]
  },
  {
   "cell_type": "markdown",
   "metadata": {
    "pycharm": {
     "name": "#%% md\n"
    }
   },
   "source": [
    "4. Evaluation"
   ]
  },
  {
   "cell_type": "code",
   "execution_count": 8,
   "metadata": {
    "pycharm": {
     "name": "#%%\n"
    }
   },
   "outputs": [],
   "source": [
    "loss_value = []\n",
    "accuracy_value = []\n",
    "model = net()\n",
    "\n",
    "\"\"\"\n",
    "\n",
    "TODO: 학습률을 바꾸어보고, Optimizer 을 바꾸어보자 (선택)\n",
    "\n",
    "\"\"\"\n",
    "optimizer = torch.optim.Adam(model.parameters(), lr=1e-4)"
   ]
  },
  {
   "cell_type": "code",
   "execution_count": 12,
   "metadata": {
    "pycharm": {
     "is_executing": true,
     "name": "#%%\n"
    }
   },
   "outputs": [
    {
     "name": "stdout",
     "output_type": "stream",
     "text": [
      "epoch: 0, iteration: 0, loss: 1.4774104356765747\n",
      "epoch: 0, iteration: 100, loss: 1.4629727602005005\n",
      "epoch: 0, iteration: 200, loss: 1.4650540351867676\n",
      "epoch: 0, iteration: 300, loss: 1.467317819595337\n",
      "epoch: 0, iteration: 400, loss: 1.4623982906341553\n",
      "epoch: 0, iteration: 500, loss: 1.4619736671447754\n",
      "epoch: 0, iteration: 600, loss: 1.461674451828003\n",
      "epoch: 0, iteration: 700, loss: 1.4627563953399658\n",
      "epoch: 0, iteration: 800, loss: 1.475244402885437\n",
      "epoch: 0, iteration: 900, loss: 1.4753735065460205\n",
      "epoch: 0, accuracy: 0.9755\n",
      "epoch: 1, iteration: 0, loss: 1.4632657766342163\n",
      "epoch: 1, iteration: 100, loss: 1.463928461074829\n",
      "epoch: 1, iteration: 200, loss: 1.4913749694824219\n",
      "epoch: 1, iteration: 300, loss: 1.4652256965637207\n",
      "epoch: 1, iteration: 400, loss: 1.4826087951660156\n",
      "epoch: 1, iteration: 500, loss: 1.4681527614593506\n",
      "epoch: 1, iteration: 600, loss: 1.4616864919662476\n",
      "epoch: 1, iteration: 700, loss: 1.4734249114990234\n",
      "epoch: 1, iteration: 800, loss: 1.4649388790130615\n",
      "epoch: 1, iteration: 900, loss: 1.478432536125183\n",
      "epoch: 1, accuracy: 0.973\n",
      "epoch: 2, iteration: 0, loss: 1.4802782535552979\n",
      "epoch: 2, iteration: 100, loss: 1.46275794506073\n",
      "epoch: 2, iteration: 200, loss: 1.465164065361023\n",
      "epoch: 2, iteration: 300, loss: 1.4623258113861084\n",
      "epoch: 2, iteration: 400, loss: 1.4649639129638672\n",
      "epoch: 2, iteration: 500, loss: 1.464365839958191\n",
      "epoch: 2, iteration: 600, loss: 1.4939228296279907\n",
      "epoch: 2, iteration: 700, loss: 1.463374137878418\n",
      "epoch: 2, iteration: 800, loss: 1.4630661010742188\n",
      "epoch: 2, iteration: 900, loss: 1.4627519845962524\n",
      "epoch: 2, accuracy: 0.9742\n",
      "epoch: 3, iteration: 0, loss: 1.475926399230957\n",
      "epoch: 3, iteration: 100, loss: 1.4619853496551514\n",
      "epoch: 3, iteration: 200, loss: 1.49685800075531\n",
      "epoch: 3, iteration: 300, loss: 1.4685261249542236\n",
      "epoch: 3, iteration: 400, loss: 1.4648010730743408\n",
      "epoch: 3, iteration: 500, loss: 1.468717098236084\n",
      "epoch: 3, iteration: 600, loss: 1.4639723300933838\n",
      "epoch: 3, iteration: 700, loss: 1.4652130603790283\n",
      "epoch: 3, iteration: 800, loss: 1.4667772054672241\n",
      "epoch: 3, iteration: 900, loss: 1.4629288911819458\n",
      "epoch: 3, accuracy: 0.9757\n",
      "epoch: 4, iteration: 0, loss: 1.4661930799484253\n",
      "epoch: 4, iteration: 100, loss: 1.4630327224731445\n",
      "epoch: 4, iteration: 200, loss: 1.4615308046340942\n",
      "epoch: 4, iteration: 300, loss: 1.4724922180175781\n",
      "epoch: 4, iteration: 400, loss: 1.4781992435455322\n",
      "epoch: 4, iteration: 500, loss: 1.4643391370773315\n",
      "epoch: 4, iteration: 600, loss: 1.479311227798462\n",
      "epoch: 4, iteration: 700, loss: 1.4680256843566895\n",
      "epoch: 4, iteration: 800, loss: 1.4634243249893188\n",
      "epoch: 4, iteration: 900, loss: 1.482819676399231\n",
      "epoch: 4, accuracy: 0.9758\n",
      "epoch: 5, iteration: 0, loss: 1.479042649269104\n",
      "epoch: 5, iteration: 100, loss: 1.4644386768341064\n",
      "epoch: 5, iteration: 200, loss: 1.4640052318572998\n",
      "epoch: 5, iteration: 300, loss: 1.4770294427871704\n",
      "epoch: 5, iteration: 400, loss: 1.468277096748352\n",
      "epoch: 5, iteration: 500, loss: 1.4612064361572266\n",
      "epoch: 5, iteration: 600, loss: 1.477041244506836\n",
      "epoch: 5, iteration: 700, loss: 1.4958808422088623\n",
      "epoch: 5, iteration: 800, loss: 1.4617457389831543\n",
      "epoch: 5, iteration: 900, loss: 1.4651871919631958\n",
      "epoch: 5, accuracy: 0.9755\n",
      "epoch: 6, iteration: 0, loss: 1.461233139038086\n",
      "epoch: 6, iteration: 100, loss: 1.4755451679229736\n",
      "epoch: 6, iteration: 200, loss: 1.4638926982879639\n",
      "epoch: 6, iteration: 300, loss: 1.461472988128662\n",
      "epoch: 6, iteration: 400, loss: 1.4616183042526245\n",
      "epoch: 6, iteration: 500, loss: 1.4747051000595093\n",
      "epoch: 6, iteration: 600, loss: 1.4919878244400024\n",
      "epoch: 6, iteration: 700, loss: 1.464456558227539\n",
      "epoch: 6, iteration: 800, loss: 1.4624356031417847\n",
      "epoch: 6, iteration: 900, loss: 1.4684274196624756\n",
      "epoch: 6, accuracy: 0.9759\n",
      "epoch: 7, iteration: 0, loss: 1.4773775339126587\n",
      "epoch: 7, iteration: 100, loss: 1.4642947912216187\n",
      "epoch: 7, iteration: 200, loss: 1.463926076889038\n",
      "epoch: 7, iteration: 300, loss: 1.4659284353256226\n",
      "epoch: 7, iteration: 400, loss: 1.4675519466400146\n",
      "epoch: 7, iteration: 500, loss: 1.462151288986206\n",
      "epoch: 7, iteration: 600, loss: 1.4619468450546265\n",
      "epoch: 7, iteration: 700, loss: 1.4795656204223633\n",
      "epoch: 7, iteration: 800, loss: 1.4759241342544556\n",
      "epoch: 7, iteration: 900, loss: 1.4613208770751953\n",
      "epoch: 7, accuracy: 0.9762\n",
      "epoch: 8, iteration: 0, loss: 1.4640367031097412\n",
      "epoch: 8, iteration: 100, loss: 1.4616612195968628\n",
      "epoch: 8, iteration: 200, loss: 1.4771414995193481\n",
      "epoch: 8, iteration: 300, loss: 1.4663366079330444\n",
      "epoch: 8, iteration: 400, loss: 1.4775208234786987\n",
      "epoch: 8, iteration: 500, loss: 1.462866187095642\n",
      "epoch: 8, iteration: 600, loss: 1.4770443439483643\n",
      "epoch: 8, iteration: 700, loss: 1.4614523649215698\n",
      "epoch: 8, iteration: 800, loss: 1.4664045572280884\n",
      "epoch: 8, iteration: 900, loss: 1.4648005962371826\n",
      "epoch: 8, accuracy: 0.977\n",
      "epoch: 9, iteration: 0, loss: 1.4644150733947754\n",
      "epoch: 9, iteration: 100, loss: 1.4794073104858398\n",
      "epoch: 9, iteration: 200, loss: 1.4879566431045532\n",
      "epoch: 9, iteration: 300, loss: 1.463597059249878\n",
      "epoch: 9, iteration: 400, loss: 1.4792968034744263\n",
      "epoch: 9, iteration: 500, loss: 1.4615107774734497\n",
      "epoch: 9, iteration: 600, loss: 1.4612054824829102\n",
      "epoch: 9, iteration: 700, loss: 1.4666571617126465\n",
      "epoch: 9, iteration: 800, loss: 1.4639338254928589\n",
      "epoch: 9, iteration: 900, loss: 1.4707982540130615\n",
      "epoch: 9, accuracy: 0.9763\n",
      "epoch: 10, iteration: 0, loss: 1.4784138202667236\n",
      "epoch: 10, iteration: 100, loss: 1.4748986959457397\n",
      "epoch: 10, iteration: 200, loss: 1.4635002613067627\n",
      "epoch: 10, iteration: 300, loss: 1.4673144817352295\n",
      "epoch: 10, iteration: 400, loss: 1.4760613441467285\n",
      "epoch: 10, iteration: 500, loss: 1.4674396514892578\n",
      "epoch: 10, iteration: 600, loss: 1.4623016119003296\n",
      "epoch: 10, iteration: 700, loss: 1.4618369340896606\n",
      "epoch: 10, iteration: 800, loss: 1.462315559387207\n",
      "epoch: 10, iteration: 900, loss: 1.461722731590271\n",
      "epoch: 10, accuracy: 0.977\n",
      "epoch: 11, iteration: 0, loss: 1.461323857307434\n",
      "epoch: 11, iteration: 100, loss: 1.4616718292236328\n",
      "epoch: 11, iteration: 200, loss: 1.464514970779419\n",
      "epoch: 11, iteration: 300, loss: 1.4934550523757935\n",
      "epoch: 11, iteration: 400, loss: 1.4640761613845825\n",
      "epoch: 11, iteration: 500, loss: 1.4750351905822754\n",
      "epoch: 11, iteration: 600, loss: 1.4614859819412231\n",
      "epoch: 11, iteration: 700, loss: 1.4623146057128906\n",
      "epoch: 11, iteration: 800, loss: 1.4818687438964844\n",
      "epoch: 11, iteration: 900, loss: 1.4634134769439697\n",
      "epoch: 11, accuracy: 0.9767\n",
      "epoch: 12, iteration: 0, loss: 1.4622066020965576\n",
      "epoch: 12, iteration: 100, loss: 1.4613105058670044\n",
      "epoch: 12, iteration: 200, loss: 1.4771485328674316\n",
      "epoch: 12, iteration: 300, loss: 1.4612466096878052\n",
      "epoch: 12, iteration: 400, loss: 1.483035922050476\n",
      "epoch: 12, iteration: 500, loss: 1.4614639282226562\n",
      "epoch: 12, iteration: 600, loss: 1.4781479835510254\n",
      "epoch: 12, iteration: 700, loss: 1.4614052772521973\n",
      "epoch: 12, iteration: 800, loss: 1.4633071422576904\n",
      "epoch: 12, iteration: 900, loss: 1.4640839099884033\n",
      "epoch: 12, accuracy: 0.977\n",
      "epoch: 13, iteration: 0, loss: 1.4655702114105225\n",
      "epoch: 13, iteration: 100, loss: 1.4613004922866821\n",
      "epoch: 13, iteration: 200, loss: 1.4626305103302002\n",
      "epoch: 13, iteration: 300, loss: 1.462934970855713\n",
      "epoch: 13, iteration: 400, loss: 1.4782332181930542\n",
      "epoch: 13, iteration: 500, loss: 1.4789037704467773\n",
      "epoch: 13, iteration: 600, loss: 1.4614914655685425\n",
      "epoch: 13, iteration: 700, loss: 1.4611859321594238\n",
      "epoch: 13, iteration: 800, loss: 1.4638891220092773\n",
      "epoch: 13, iteration: 900, loss: 1.4965988397598267\n",
      "epoch: 13, accuracy: 0.9768\n",
      "epoch: 14, iteration: 0, loss: 1.4612631797790527\n",
      "epoch: 14, iteration: 100, loss: 1.4748094081878662\n",
      "epoch: 14, iteration: 200, loss: 1.4654695987701416\n",
      "epoch: 14, iteration: 300, loss: 1.4840211868286133\n",
      "epoch: 14, iteration: 400, loss: 1.4648003578186035\n",
      "epoch: 14, iteration: 500, loss: 1.4621367454528809\n",
      "epoch: 14, iteration: 600, loss: 1.4635248184204102\n",
      "epoch: 14, iteration: 700, loss: 1.4611988067626953\n",
      "epoch: 14, iteration: 800, loss: 1.463444709777832\n",
      "epoch: 14, iteration: 900, loss: 1.4655492305755615\n",
      "epoch: 14, accuracy: 0.9771\n"
     ]
    },
    {
     "data": {
      "text/plain": [
       "'\\n print(\\'=========================================\\')\\n    print(\"Model\\'s state_dict for epoch :\", i_epoch)\\n    for param_tensor in model.state_dict():\\n     print(param_tensor, \"\\t\", model.state_dict()[param_tensor].size())\\n\\n    print(\"Optimizer\\'s state_dict:\")\\n     for var_name in optimizer.state_dict():\\n      print(var_name, \"\\t\", optimizer.state_dict()[var_name])\\n\\n    print(\\'=========================================\\')\\n'"
      ]
     },
     "execution_count": 12,
     "metadata": {},
     "output_type": "execute_result"
    }
   ],
   "source": [
    "device = torch.device('cuda' if torch.cuda.is_available() else 'cpu')\n",
    "\n",
    "\"\"\"\n",
    "TODO: 학습횟수를 자유자재로 바꾸어보자.\n",
    "\"\"\"\n",
    "\n",
    "for i_epoch in range(15):\n",
    "    train(model, train_loader, optimizer, i_epoch, device)\n",
    "    test(model, test_loader, i_epoch, device)\n",
    "    torch.save(model.state_dict(), \"mnist_test.pt\")\n",
    "\n",
    "\"\"\"\n",
    " print('=========================================')\n",
    "    print(\"Model's state_dict for epoch :\", i_epoch)\n",
    "    for param_tensor in model.state_dict():\n",
    "     print(param_tensor, \"\\t\", model.state_dict()[param_tensor].size())\n",
    "\n",
    "    print(\"Optimizer's state_dict:\")\n",
    "     for var_name in optimizer.state_dict():\n",
    "      print(var_name, \"\\t\", optimizer.state_dict()[var_name])\n",
    "\n",
    "    print('=========================================')\n",
    "\"\"\""
   ]
  },
  {
   "cell_type": "code",
   "execution_count": 19,
   "metadata": {
    "pycharm": {
     "name": "#%%\n"
    }
   },
   "outputs": [
    {
     "data": {
      "text/plain": [
       "<matplotlib.legend.Legend at 0x2aaff423760>"
      ]
     },
     "execution_count": 19,
     "metadata": {},
     "output_type": "execute_result"
    },
    {
     "data": {
      "image/png": "[encoded data removed]",
      "text/plain": [
       "<Figure size 432x288 with 1 Axes>"
      ]
     },
     "metadata": {
      "needs_background": "light"
     },
     "output_type": "display_data"
    }
   ],
   "source": [
    "#그래프 확인\n",
    "plt.plot(loss_value, label='Training Loss')\n",
    "\n",
    "plt.title('Training Loss')\n",
    "plt.legend()"
   ]
  },
  {
   "cell_type": "code",
   "execution_count": 20,
   "metadata": {
    "pycharm": {
     "name": "#%%\n"
    }
   },
   "outputs": [
    {
     "data": {
      "text/plain": [
       "Text(0.5, 0, 'Epoch')"
      ]
     },
     "execution_count": 20,
     "metadata": {},
     "output_type": "execute_result"
    },
    {
     "data": {
      "image/png": "[encoded data removed]",
      "text/plain": [
       "<Figure size 432x288 with 1 Axes>"
      ]
     },
     "metadata": {
      "needs_background": "light"
     },
     "output_type": "display_data"
    }
   ],
   "source": [
    "plt.plot(accuracy_value, label='Accuracy')\n",
    "plt.title('Accuracy')\n",
    "plt.xlabel('Epoch')"
   ]
  },
  {
   "cell_type": "code",
   "execution_count": 21,
   "metadata": {},
   "outputs": [],
   "source": [
    "torch.save(model, 'mnist_test.pt')"
   ]
  },
  {
   "cell_type": "code",
   "execution_count": null,
   "metadata": {},
   "outputs": [],
   "source": []
  }
 ],
 "metadata": {
  "kernelspec": {
   "display_name": "Python 3 (ipykernel)",
   "language": "python",
   "name": "python3"
  },
  "language_info": {
   "codemirror_mode": {
    "name": "ipython",
    "version": 3
   },
   "file_extension": ".py",
   "mimetype": "text/x-python",
   "name": "python",
   "nbconvert_exporter": "python",
   "pygments_lexer": "ipython3",
   "version": "3.9.12"
  }
 },
 "nbformat": 4,
 "nbformat_minor": 1
}
