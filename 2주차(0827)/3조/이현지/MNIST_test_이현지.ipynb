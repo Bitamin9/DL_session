{
  "cells": [
    {
      "cell_type": "code",
      "execution_count": 1,
      "outputs": [],
      "source": [
        "from __future__ import print_function\n",
        "\n",
        "import torch\n",
        "import torch.nn as nn\n",
        "import torch.nn.functional as F\n",
        "from torchvision import datasets, transforms"
      ],
      "metadata": {
        "pycharm": {
          "name": "#%%\n"
        },
        "id": "vB4Pj1_s3wP-"
      }
    },
    {
      "cell_type": "markdown",
      "source": [
        "1. 데이터 확인"
      ],
      "metadata": {
        "collapsed": false,
        "pycharm": {
          "name": "#%% md\n"
        },
        "id": "4sGn0vzh3wP_"
      }
    },
    {
      "cell_type": "code",
      "execution_count": 2,
      "outputs": [
        {
          "output_type": "stream",
          "name": "stdout",
          "text": [
            "Downloading http://yann.lecun.com/exdb/mnist/train-images-idx3-ubyte.gz\n",
            "Downloading http://yann.lecun.com/exdb/mnist/train-images-idx3-ubyte.gz to ../data/MNIST/raw/train-images-idx3-ubyte.gz\n"
          ]
        },
        {
          "output_type": "display_data",
          "data": {
            "text/plain": [
              "  0%|          | 0/9912422 [00:00<?, ?it/s]"
            ],
            "application/vnd.jupyter.widget-view+json": {
              "version_major": 2,
              "version_minor": 0,
              "model_id": "65e07976fac24d51935b777989a7e057"
            }
          },
          "metadata": {}
        },
        {
          "output_type": "stream",
          "name": "stdout",
          "text": [
            "Extracting ../data/MNIST/raw/train-images-idx3-ubyte.gz to ../data/MNIST/raw\n",
            "\n",
            "Downloading http://yann.lecun.com/exdb/mnist/train-labels-idx1-ubyte.gz\n",
            "Downloading http://yann.lecun.com/exdb/mnist/train-labels-idx1-ubyte.gz to ../data/MNIST/raw/train-labels-idx1-ubyte.gz\n"
          ]
        },
        {
          "output_type": "display_data",
          "data": {
            "text/plain": [
              "  0%|          | 0/28881 [00:00<?, ?it/s]"
            ],
            "application/vnd.jupyter.widget-view+json": {
              "version_major": 2,
              "version_minor": 0,
              "model_id": "947fc70866c04eeabe37ede13777c79f"
            }
          },
          "metadata": {}
        },
        {
          "output_type": "stream",
          "name": "stdout",
          "text": [
            "Extracting ../data/MNIST/raw/train-labels-idx1-ubyte.gz to ../data/MNIST/raw\n",
            "\n",
            "Downloading http://yann.lecun.com/exdb/mnist/t10k-images-idx3-ubyte.gz\n",
            "Downloading http://yann.lecun.com/exdb/mnist/t10k-images-idx3-ubyte.gz to ../data/MNIST/raw/t10k-images-idx3-ubyte.gz\n"
          ]
        },
        {
          "output_type": "display_data",
          "data": {
            "text/plain": [
              "  0%|          | 0/1648877 [00:00<?, ?it/s]"
            ],
            "application/vnd.jupyter.widget-view+json": {
              "version_major": 2,
              "version_minor": 0,
              "model_id": "793ab888f7a440b6b45745ad2c3c3df2"
            }
          },
          "metadata": {}
        },
        {
          "output_type": "stream",
          "name": "stdout",
          "text": [
            "Extracting ../data/MNIST/raw/t10k-images-idx3-ubyte.gz to ../data/MNIST/raw\n",
            "\n",
            "Downloading http://yann.lecun.com/exdb/mnist/t10k-labels-idx1-ubyte.gz\n",
            "Downloading http://yann.lecun.com/exdb/mnist/t10k-labels-idx1-ubyte.gz to ../data/MNIST/raw/t10k-labels-idx1-ubyte.gz\n"
          ]
        },
        {
          "output_type": "display_data",
          "data": {
            "text/plain": [
              "  0%|          | 0/4542 [00:00<?, ?it/s]"
            ],
            "application/vnd.jupyter.widget-view+json": {
              "version_major": 2,
              "version_minor": 0,
              "model_id": "31721d8e0cf543dbaaa33b59f6ce4ea0"
            }
          },
          "metadata": {}
        },
        {
          "output_type": "stream",
          "name": "stdout",
          "text": [
            "Extracting ../data/MNIST/raw/t10k-labels-idx1-ubyte.gz to ../data/MNIST/raw\n",
            "\n",
            "number of training data:  60000\n",
            "number of test data  10000\n"
          ]
        }
      ],
      "source": [
        "#MNIST dataset\n",
        "\n",
        "train_dset = datasets.MNIST('../data', train=True, download=True,transform=transforms.ToTensor())\n",
        "test_dset = datasets.MNIST('../data', train=False,transform=transforms.ToTensor(), download=True)\n",
        "\n",
        "print('number of training data: ', len(train_dset))\n",
        "print('number of test data ', len(test_dset))"
      ],
      "metadata": {
        "pycharm": {
          "name": "#%%\n"
        },
        "colab": {
          "base_uri": "https://localhost:8080/",
          "height": 466,
          "referenced_widgets": [
            "65e07976fac24d51935b777989a7e057",
            "b5325d264f38455ba875f9581d135210",
            "83eea63caa0e4d9f87b3acca6344c145",
            "cb90db08754f4f20a853ac211ba4e504",
            "129a409f222b427fa91953132052bfe0",
            "bee3d5f58522429ca294b5c1db1d23b1",
            "13d5f51feb0a4cf2907807aea652ae54",
            "e33583c83b8246f48fd22d278eb8d52c",
            "71c131a6b50e432c824515f41f7b8bbb",
            "1ad3a5b4604e4e5899b832a224da7240",
            "4f4f3f7dfba24e55b367b18e635dcf8d",
            "947fc70866c04eeabe37ede13777c79f",
            "5030689cc06d4bcba0a30f0956a1a0e6",
            "81d0ae0a57734fc085ce565596fae775",
            "1397b21265ad4419a799f7075bad98e9",
            "b7de350c0df542049d964fac77a2d430",
            "3a72272e08b244a39b2035b71e804c65",
            "5d6b6ef2bb8d44798bee4fffa2f08705",
            "819f0d4d514c4e9e8bca19620c1ea596",
            "393a91a44dca4861b432e32ef94450ec",
            "8eb85fdf4abb4193b02e84bd267fb403",
            "5b345a273a3e485bb3b9acb6aca71320",
            "793ab888f7a440b6b45745ad2c3c3df2",
            "190e108e476149bb8089ff08401421cf",
            "353425cba10b48ab9040100ee23a0c80",
            "ce62ee33633246ef8559f24e6c079acd",
            "d40b8505e8534fdb829d31f1c9f2dc85",
            "7803ae7f39414135b76d9c99a5dbd5a9",
            "f4b0348e546b48d389901f854cce8d9c",
            "48dbb0810ac648da8cac84267680ad67",
            "257d37b333c04512aa023de688397ec5",
            "5754dac766d2440cb2dad751d98f17d8",
            "344a25fce495438082d7e4bba85f7702",
            "31721d8e0cf543dbaaa33b59f6ce4ea0",
            "8eb14290f8044c47b9ceaca3f3122db9",
            "4c19c7cee45641389bb7f92e17e90b8e",
            "2c3ab96cbed14763a4e684228193c7a4",
            "cdfb05c774c9477d9a63363f4070ca8e",
            "04f9c2769d3945b69fe235bdb717e0c1",
            "573f99984c1945618ad37de6aa689a89",
            "4419578921664505ae7b8ad6a98d2ca5",
            "c00c96f390fd4746901e1493d12e76b7",
            "060dff3c5a26423d8818f021571e068c",
            "fa66ae5ec75c423593df3ce11168aa04"
          ]
        },
        "id": "OcW2cr4L3wQB",
        "outputId": "d8729c03-d3cb-4522-edad-8dabcbdff9b5"
      }
    },
    {
      "cell_type": "code",
      "execution_count": 3,
      "outputs": [
        {
          "output_type": "stream",
          "name": "stdout",
          "text": [
            "Image\n",
            "=========================================\n",
            "Shape of image\t:  torch.Size([1, 28, 28])\n",
            "10'th row of this image\t: tensor([0.0000, 0.0000, 0.0000, 0.0000, 0.0000, 0.0000, 0.0000, 0.0000, 0.0000,\n",
            "        0.0157, 0.2235, 0.9490, 0.9882, 0.7451, 0.2549, 0.0196, 0.0471, 0.7137,\n",
            "        0.9882, 0.9922, 0.4549, 0.0000, 0.0000, 0.0000, 0.0000, 0.0000, 0.0000,\n",
            "        0.0000])\n",
            "Label\n",
            "=========================================\n",
            "label:  9\n"
          ]
        },
        {
          "output_type": "execute_result",
          "data": {
            "text/plain": [
              "<function matplotlib.pyplot.show(*args, **kw)>"
            ]
          },
          "metadata": {},
          "execution_count": 3
        },
        {
          "output_type": "display_data",
          "data": {
            "text/plain": [
              "<Figure size 432x288 with 1 Axes>"
            ],
            "image/png": "[encoded data removed]"
          },
          "metadata": {
            "needs_background": "light"
          }
        }
      ],
      "source": [
        "#데이터 확인\n",
        "\n",
        "\"\"\"\n",
        "\n",
        "TODO: train_dset[*] 의 숫자값을 바꾸어 데이터를 다른 걸 출력해보자.\n",
        "-> train_dset[4]\n",
        "\"\"\"\n",
        "image, label = train_dset[4]\n",
        "\n",
        "print('Image')\n",
        "print('=========================================')\n",
        "print('Shape of image\\t: ', image.shape)\n",
        "print('10\\'th row of this image\\t:', image[0][9])\n",
        "\n",
        "print('Label')\n",
        "print('=========================================')\n",
        "print('label: ', label)\n",
        "\n",
        "from matplotlib import pyplot as plt\n",
        "# pytorch에서 불러오는 MNIST 데이터의 경우 [1, 28, 28]로 구성된다.\n",
        "# 따라서 1을 없애야 이미지를 그릴 수 있다.\n",
        "plt.imshow(image.squeeze().numpy(), cmap='gray')\n",
        "plt.show"
      ],
      "metadata": {
        "pycharm": {
          "name": "#%%\n"
        },
        "colab": {
          "base_uri": "https://localhost:8080/",
          "height": 461
        },
        "id": "t6Hgee3m3wQC",
        "outputId": "b496ccc5-1079-454c-a0c5-1f4c1715b0ae"
      }
    },
    {
      "cell_type": "markdown",
      "source": [
        "2. Training and Test"
      ],
      "metadata": {
        "collapsed": false,
        "pycharm": {
          "name": "#%% md\n"
        },
        "id": "_0N4FBzg3wQC"
      }
    },
    {
      "cell_type": "code",
      "execution_count": 4,
      "outputs": [],
      "source": [
        "\"\"\"\n",
        "TODO: batch_size 를 바꾸어보자\n",
        "\n",
        "->  train_loader의 크기는 600(60000/100), test_loader의 크기는 100(10000/100)\n",
        "\"\"\"\n",
        "#shuffle하는 이유는 데이터의 순서를 학습하지 못하게 하는 것\n",
        "train_loader = torch.utils.data.DataLoader(train_dset, batch_size = 100, shuffle=True)\n",
        "test_loader = torch.utils.data.DataLoader(test_dset, batch_size = 100, shuffle=False)"
      ],
      "metadata": {
        "pycharm": {
          "name": "#%%\n"
        },
        "id": "OI5PIIDy3wQD"
      }
    },
    {
      "cell_type": "code",
      "execution_count": 5,
      "outputs": [],
      "source": [
        "#Training\n",
        "def train(model, train_loader, optimizer, i_epoch, device):\n",
        "    model.train()\n",
        "    for i, (image, target) in enumerate(train_loader):\n",
        "        image = image.to(device)\n",
        "        output = model(image) #model 에 image를 넣어 MLP거치게함\n",
        "        loss = F.cross_entropy(output, target) #비용함수정의\n",
        "        # F.cross_entropy 비용함수에 소프트맥스 함수까지 포함하고 있음\n",
        "\n",
        "        model.zero_grad()\n",
        "        loss.backward() # Backpropagation 을 통해 계산된 Gradient 값을 할당\n",
        "        optimizer.step() # 한 step씩 움직인다\n",
        "\n",
        "\n",
        "         #러닝 커브 그리기\n",
        "        loss_value.append(loss.detach().numpy())\n",
        "\n",
        "        #100번쨰 마다 loss 출력\n",
        "        if i%100==0: \n",
        "            print(\"epoch: {}, iteration: {}, loss: {}\".format(i_epoch, i, loss.item()))"
      ],
      "metadata": {
        "pycharm": {
          "name": "#%%\n"
        },
        "id": "RyfNhmMX3wQD"
      }
    },
    {
      "cell_type": "code",
      "execution_count": 6,
      "outputs": [],
      "source": [
        "#Test\n",
        "def test(model, test_loader, i_epoch, device):\n",
        "    model.eval()\n",
        "    accurate = 0\n",
        "    test_loss = 0\n",
        "\n",
        "    with torch.no_grad(): #backward propagation 을 진행하기 때문에 torch 자체적인 gradient tracking 작업하는 것을 끄며 메모리 아낌\n",
        "        for i, (image, target) in enumerate(test_loader):\n",
        "            image = image.to(device)\n",
        "            output = model(image)\n",
        "            test_loss += F.nll_loss(output, target, reduction='sum').item()\n",
        "            prediction = torch.argmax(output, dim=1) #dim=1 : 0번째 인덱스는 type 호출\n",
        "            accurate += prediction.eq(target.view_as(prediction)).sum().item() # dict 형태에서 맞은 값 저장\n",
        "\n",
        "\n",
        "    accuracy = accurate / len(test_loader.dataset)\n",
        "    #러닝커브 그리기\n",
        "    accuracy_value.append(accuracy)\n",
        "    print(\"epoch: {}, accuracy: {}\".format(i_epoch, accuracy))\n"
      ],
      "metadata": {
        "pycharm": {
          "name": "#%%\n"
        },
        "id": "YMAPOI_d3wQD"
      }
    },
    {
      "cell_type": "markdown",
      "source": [
        "3. Model"
      ],
      "metadata": {
        "collapsed": false,
        "pycharm": {
          "name": "#%% md\n"
        },
        "id": "Dpwp2v_T3wQE"
      }
    },
    {
      "cell_type": "code",
      "execution_count": 29,
      "outputs": [],
      "source": [
        "\"\"\"\n",
        "TODO: 모델 Customization! 레이어 개수나 레이어 차원, 활성화 함수를 바꾸어보자.\n",
        "\n",
        "데이터의 형태를 주의하면서 바꾸어 볼 것~\n",
        "\n",
        "\n",
        "\"\"\"\n",
        "# Using nn.Sequential\n",
        "\n",
        "class net(nn.Module):\n",
        "    def __init__(self):\n",
        "        super(net, self).__init__() #net 내의 메소드 상속받아 사용가능\n",
        "\n",
        "        self.fc = nn.Sequential( \n",
        "            nn.Linear(28 * 28, 512),  #nn.Linear : 선형회귀\n",
        "            # 1X 784 product 784 X 512 -> 1 X 512 에서 가중치 정보를 담는 열벡터 생성 wx + b 의 값\n",
        "            nn.ReLU(), # sigmoid통과\n",
        "            nn.Linear(512, 256), \n",
        "            nn.ReLU(),\n",
        "            nn.Linear(256,10)\n",
        "           )\n",
        "\n",
        "    def forward(self, x):\n",
        "        x = x.view(-1, 28 * 28) # x vector 의 size를 [1, 28*28]의 열벡터로 변환\n",
        "        return self.fc(x)"
      ],
      "metadata": {
        "pycharm": {
          "name": "#%%\n"
        },
        "id": "b5YjPiyF3wQE"
      }
    },
    {
      "cell_type": "code",
      "source": [
        "#else\n",
        "\n",
        "'''\n",
        "class net(nn.Module):\n",
        "    def __init__(self):\n",
        "        super(net,self).__init__() \n",
        "        self.fc1 = nn.Linear(28*28,512) \n",
        "        self.fc2 = nn.Linear(512, 256) \n",
        "        self.fc3 = nn.Linear(256,10)\n",
        "\n",
        "    def forward(self,x): # train 안의 forward 를 override  \n",
        "        x = x.view(-1,28*28) # x Vector 의 size 를 [1,28*28] 의 열벡터로 변환\n",
        "        x = self.fc1(x) # 1X 784 product 784 x 512 -> 1 X 512 에서 가중치 정보를 담는 열벡터 생성. wx + b 의 값\n",
        "        x = F.sigmoid(x) \n",
        "        x = self.fc2(x) \n",
        "        x = F.sigmoid(x)\n",
        "        x = self.fc3(x)\n",
        "        return x\n",
        "'''"
      ],
      "metadata": {
        "colab": {
          "base_uri": "https://localhost:8080/",
          "height": 89
        },
        "id": "cZ03FC-a5vgE",
        "outputId": "1ca5e1ea-9145-49f9-e888-b7c91fab7c29"
      },
      "execution_count": 30,
      "outputs": [
        {
          "output_type": "execute_result",
          "data": {
            "text/plain": [
              "'\\nclass net(nn.Module):\\n    def __init__(self):\\n        super(net,self).__init__() \\n        self.fc1 = nn.Linear(28*28,512) \\n        self.fc2 = nn.Linear(512, 256) \\n        self.fc3 = nn.Linear(256,10)\\n\\n    def forward(self,x): # train 안의 forward 를 override  \\n        x = x.view(-1,28*28) # x Vector 의 size 를 [1,28*28] 의 열벡터로 변환\\n        x = self.fc1(x) # 1X 784 product 784 x 512 -> 1 X 512 에서 가중치 정보를 담는 열벡터 생성. wx + b 의 값\\n        x = F.sigmoid(x) \\n        x = self.fc2(x) \\n        x = F.sigmoid(x)\\n        x = self.fc3(x)\\n        return x\\n'"
            ],
            "application/vnd.google.colaboratory.intrinsic+json": {
              "type": "string"
            }
          },
          "metadata": {},
          "execution_count": 30
        }
      ]
    },
    {
      "cell_type": "markdown",
      "source": [
        "4. Evaluation"
      ],
      "metadata": {
        "collapsed": false,
        "pycharm": {
          "name": "#%% md\n"
        },
        "id": "HS7e3CF73wQE"
      }
    },
    {
      "cell_type": "code",
      "execution_count": 31,
      "outputs": [],
      "source": [
        "loss_value = []\n",
        "accuracy_value = []\n",
        "model = net()\n",
        "\n",
        "\"\"\"\n",
        "\n",
        "TODO: 학습률을 바꾸어보고, Optimizer 을 바꾸어보자 (선택)\n",
        "-> adam / learning_rate = 0.01\n",
        "\"\"\"\n",
        "\n",
        "# SGD + momentum / learning_rate = 0.01\n",
        "# momentum : 전역최소값에 도달하기 전에 지역 최소값에 먼저 도달해버리는 상황 방지\n",
        "# optimizer = torch.optim.SGD(model.parameters(), lr=1e-3, momentum = 0.5)\n",
        "\n",
        "# adam / learning_rate = 0.01\n",
        "optimizer = torch.optim.Adam(model.parameters(), lr=1e-3)\n",
        "\n",
        "# SGD / learning_rate = 0.001\n",
        "# optimizer = torch.optim.SGD(model.parameters(), lr=1e-3)"
      ],
      "metadata": {
        "pycharm": {
          "name": "#%%\n"
        },
        "id": "nbyYFpKP3wQF"
      }
    },
    {
      "cell_type": "code",
      "source": [
        "print(model)"
      ],
      "metadata": {
        "colab": {
          "base_uri": "https://localhost:8080/"
        },
        "id": "FMLCxW2u5ekK",
        "outputId": "fd513927-c771-4a97-9aa2-74672b1cfdd9"
      },
      "execution_count": 32,
      "outputs": [
        {
          "output_type": "stream",
          "name": "stdout",
          "text": [
            "net(\n",
            "  (fc): Sequential(\n",
            "    (0): Linear(in_features=784, out_features=512, bias=True)\n",
            "    (1): ReLU()\n",
            "    (2): Linear(in_features=512, out_features=256, bias=True)\n",
            "    (3): ReLU()\n",
            "    (4): Linear(in_features=256, out_features=10, bias=True)\n",
            "  )\n",
            ")\n"
          ]
        }
      ]
    },
    {
      "cell_type": "code",
      "execution_count": 33,
      "outputs": [
        {
          "output_type": "stream",
          "name": "stdout",
          "text": [
            "epoch: 0, iteration: 0, loss: 2.299551486968994\n",
            "epoch: 0, iteration: 100, loss: 0.32302677631378174\n",
            "epoch: 0, iteration: 200, loss: 0.11226184666156769\n",
            "epoch: 0, iteration: 300, loss: 0.18803271651268005\n",
            "epoch: 0, iteration: 400, loss: 0.28397369384765625\n",
            "epoch: 0, iteration: 500, loss: 0.20579281449317932\n",
            "epoch: 0, accuracy: 0.9608\n",
            "epoch: 1, iteration: 0, loss: 0.12592311203479767\n",
            "epoch: 1, iteration: 100, loss: 0.09908191859722137\n",
            "epoch: 1, iteration: 200, loss: 0.07514208555221558\n",
            "epoch: 1, iteration: 300, loss: 0.10656305402517319\n",
            "epoch: 1, iteration: 400, loss: 0.04727453738451004\n",
            "epoch: 1, iteration: 500, loss: 0.0557871088385582\n",
            "epoch: 1, accuracy: 0.9702\n",
            "epoch: 2, iteration: 0, loss: 0.0634821280837059\n",
            "epoch: 2, iteration: 100, loss: 0.009314033202826977\n",
            "epoch: 2, iteration: 200, loss: 0.11229546368122101\n",
            "epoch: 2, iteration: 300, loss: 0.03080136328935623\n",
            "epoch: 2, iteration: 400, loss: 0.06180562824010849\n",
            "epoch: 2, iteration: 500, loss: 0.09343495219945908\n",
            "epoch: 2, accuracy: 0.9764\n",
            "epoch: 3, iteration: 0, loss: 0.03565844148397446\n",
            "epoch: 3, iteration: 100, loss: 0.04983057081699371\n",
            "epoch: 3, iteration: 200, loss: 0.051182836294174194\n",
            "epoch: 3, iteration: 300, loss: 0.008577772416174412\n",
            "epoch: 3, iteration: 400, loss: 0.015234898775815964\n",
            "epoch: 3, iteration: 500, loss: 0.017839673906564713\n",
            "epoch: 3, accuracy: 0.9791\n",
            "epoch: 4, iteration: 0, loss: 0.01698921248316765\n",
            "epoch: 4, iteration: 100, loss: 0.03930896893143654\n",
            "epoch: 4, iteration: 200, loss: 0.022941425442695618\n",
            "epoch: 4, iteration: 300, loss: 0.011884781531989574\n",
            "epoch: 4, iteration: 400, loss: 0.05446498841047287\n",
            "epoch: 4, iteration: 500, loss: 0.03654217720031738\n",
            "epoch: 4, accuracy: 0.9761\n",
            "epoch: 5, iteration: 0, loss: 0.021874792873859406\n",
            "epoch: 5, iteration: 100, loss: 0.00896722823381424\n",
            "epoch: 5, iteration: 200, loss: 0.02132018655538559\n",
            "epoch: 5, iteration: 300, loss: 0.011922474019229412\n",
            "epoch: 5, iteration: 400, loss: 0.010374349541962147\n",
            "epoch: 5, iteration: 500, loss: 0.03494374081492424\n",
            "epoch: 5, accuracy: 0.9801\n",
            "epoch: 6, iteration: 0, loss: 0.012910814024508\n",
            "epoch: 6, iteration: 100, loss: 0.01166839525103569\n",
            "epoch: 6, iteration: 200, loss: 0.015272067859768867\n",
            "epoch: 6, iteration: 300, loss: 0.05997135117650032\n",
            "epoch: 6, iteration: 400, loss: 0.0010557468049228191\n",
            "epoch: 6, iteration: 500, loss: 0.004432241898030043\n",
            "epoch: 6, accuracy: 0.9805\n",
            "epoch: 7, iteration: 0, loss: 0.005707601085305214\n",
            "epoch: 7, iteration: 100, loss: 0.030484415590763092\n",
            "epoch: 7, iteration: 200, loss: 0.001701281638815999\n",
            "epoch: 7, iteration: 300, loss: 0.009490596130490303\n",
            "epoch: 7, iteration: 400, loss: 0.056968167424201965\n",
            "epoch: 7, iteration: 500, loss: 0.02434353344142437\n",
            "epoch: 7, accuracy: 0.9767\n",
            "epoch: 8, iteration: 0, loss: 0.010858549736440182\n",
            "epoch: 8, iteration: 100, loss: 0.015206822194159031\n",
            "epoch: 8, iteration: 200, loss: 0.004211340099573135\n",
            "epoch: 8, iteration: 300, loss: 0.005770490970462561\n",
            "epoch: 8, iteration: 400, loss: 0.004292162135243416\n",
            "epoch: 8, iteration: 500, loss: 0.0007855736184865236\n",
            "epoch: 8, accuracy: 0.9832\n",
            "epoch: 9, iteration: 0, loss: 0.0020938024390488863\n",
            "epoch: 9, iteration: 100, loss: 0.0012076027924194932\n",
            "epoch: 9, iteration: 200, loss: 0.016706233844161034\n",
            "epoch: 9, iteration: 300, loss: 0.028795471414923668\n",
            "epoch: 9, iteration: 400, loss: 0.014334852807223797\n",
            "epoch: 9, iteration: 500, loss: 0.015558471903204918\n",
            "epoch: 9, accuracy: 0.9805\n",
            "epoch: 10, iteration: 0, loss: 0.007509837858378887\n",
            "epoch: 10, iteration: 100, loss: 0.00040507144876755774\n",
            "epoch: 10, iteration: 200, loss: 0.002618062775582075\n",
            "epoch: 10, iteration: 300, loss: 0.00214227638207376\n",
            "epoch: 10, iteration: 400, loss: 0.0050366707146167755\n",
            "epoch: 10, iteration: 500, loss: 0.037088245153427124\n",
            "epoch: 10, accuracy: 0.9791\n",
            "epoch: 11, iteration: 0, loss: 0.002569574164226651\n",
            "epoch: 11, iteration: 100, loss: 0.009720418602228165\n",
            "epoch: 11, iteration: 200, loss: 0.0023835229221731424\n",
            "epoch: 11, iteration: 300, loss: 0.02137988992035389\n",
            "epoch: 11, iteration: 400, loss: 0.024416035041213036\n",
            "epoch: 11, iteration: 500, loss: 0.004274146631360054\n",
            "epoch: 11, accuracy: 0.9798\n",
            "epoch: 12, iteration: 0, loss: 0.01005470659583807\n",
            "epoch: 12, iteration: 100, loss: 0.0005957154207862914\n",
            "epoch: 12, iteration: 200, loss: 0.0015178510220721364\n",
            "epoch: 12, iteration: 300, loss: 0.0017760166665539145\n",
            "epoch: 12, iteration: 400, loss: 0.025969738140702248\n",
            "epoch: 12, iteration: 500, loss: 0.061680685728788376\n",
            "epoch: 12, accuracy: 0.9821\n",
            "epoch: 13, iteration: 0, loss: 0.0016001753974705935\n",
            "epoch: 13, iteration: 100, loss: 0.0006450099754147232\n",
            "epoch: 13, iteration: 200, loss: 0.06679069250822067\n",
            "epoch: 13, iteration: 300, loss: 0.008927101269364357\n",
            "epoch: 13, iteration: 400, loss: 0.0009315779898315668\n",
            "epoch: 13, iteration: 500, loss: 0.00016550804139114916\n",
            "epoch: 13, accuracy: 0.9834\n",
            "epoch: 14, iteration: 0, loss: 0.00326358200982213\n",
            "epoch: 14, iteration: 100, loss: 0.00027975530247204006\n",
            "epoch: 14, iteration: 200, loss: 0.0007447022362612188\n",
            "epoch: 14, iteration: 300, loss: 0.02029162086546421\n",
            "epoch: 14, iteration: 400, loss: 0.001963499002158642\n",
            "epoch: 14, iteration: 500, loss: 0.0036538487765938044\n",
            "epoch: 14, accuracy: 0.9802\n",
            "epoch: 15, iteration: 0, loss: 0.008506308309733868\n",
            "epoch: 15, iteration: 100, loss: 0.022348100319504738\n",
            "epoch: 15, iteration: 200, loss: 0.00037659532972611487\n",
            "epoch: 15, iteration: 300, loss: 0.000349860405549407\n",
            "epoch: 15, iteration: 400, loss: 9.651496657170355e-05\n",
            "epoch: 15, iteration: 500, loss: 0.0055055320262908936\n",
            "epoch: 15, accuracy: 0.9799\n",
            "epoch: 16, iteration: 0, loss: 0.00043872572132386267\n",
            "epoch: 16, iteration: 100, loss: 0.0001572079345351085\n",
            "epoch: 16, iteration: 200, loss: 0.0014434016775339842\n",
            "epoch: 16, iteration: 300, loss: 0.0005168186035007238\n",
            "epoch: 16, iteration: 400, loss: 0.0018610487459227443\n",
            "epoch: 16, iteration: 500, loss: 0.007111585233360529\n",
            "epoch: 16, accuracy: 0.9803\n",
            "epoch: 17, iteration: 0, loss: 0.0016592575702816248\n",
            "epoch: 17, iteration: 100, loss: 0.0002436513314023614\n",
            "epoch: 17, iteration: 200, loss: 2.9568047466455027e-05\n",
            "epoch: 17, iteration: 300, loss: 0.0010392421390861273\n",
            "epoch: 17, iteration: 400, loss: 0.0016642427071928978\n",
            "epoch: 17, iteration: 500, loss: 0.005653800442814827\n",
            "epoch: 17, accuracy: 0.9818\n",
            "epoch: 18, iteration: 0, loss: 0.0015296174678951502\n",
            "epoch: 18, iteration: 100, loss: 0.01147044450044632\n",
            "epoch: 18, iteration: 200, loss: 0.006865369156002998\n",
            "epoch: 18, iteration: 300, loss: 0.00011425742559367791\n",
            "epoch: 18, iteration: 400, loss: 0.013463166542351246\n",
            "epoch: 18, iteration: 500, loss: 0.007534341886639595\n",
            "epoch: 18, accuracy: 0.9795\n",
            "epoch: 19, iteration: 0, loss: 0.0017404604004696012\n",
            "epoch: 19, iteration: 100, loss: 0.002682429738342762\n",
            "epoch: 19, iteration: 200, loss: 0.0004822372575290501\n",
            "epoch: 19, iteration: 300, loss: 0.00031891613616608083\n",
            "epoch: 19, iteration: 400, loss: 0.011800204403698444\n",
            "epoch: 19, iteration: 500, loss: 0.0012111288961023092\n",
            "epoch: 19, accuracy: 0.9809\n"
          ]
        },
        {
          "output_type": "execute_result",
          "data": {
            "text/plain": [
              "'\\n print(\\'=========================================\\')\\n    print(\"Model\\'s state_dict for epoch :\", i_epoch)\\n    for param_tensor in model.state_dict():\\n     print(param_tensor, \"\\t\", model.state_dict()[param_tensor].size())\\n\\n    print(\"Optimizer\\'s state_dict:\")\\n     for var_name in optimizer.state_dict():\\n      print(var_name, \"\\t\", optimizer.state_dict()[var_name])\\n\\n    print(\\'=========================================\\')\\n'"
            ],
            "application/vnd.google.colaboratory.intrinsic+json": {
              "type": "string"
            }
          },
          "metadata": {},
          "execution_count": 33
        }
      ],
      "source": [
        "device = torch.device('cuda' if torch.cuda.is_available() else 'cpu')\n",
        "\n",
        "\"\"\"\n",
        "TODO: 학습횟수를 자유자재로 바꾸어보자.\n",
        "-> epoch 20\n",
        "\"\"\"\n",
        "\n",
        "for i_epoch in range(20):\n",
        "    train(model, train_loader, optimizer, i_epoch, device)\n",
        "    test(model, test_loader, i_epoch, device)\n",
        "    torch.save(model.state_dict(), \"mnist_test.pt\")\n",
        "\n",
        "\"\"\"\n",
        " print('=========================================')\n",
        "    print(\"Model's state_dict for epoch :\", i_epoch)\n",
        "    for param_tensor in model.state_dict():\n",
        "     print(param_tensor, \"\\t\", model.state_dict()[param_tensor].size())\n",
        "\n",
        "    print(\"Optimizer's state_dict:\")\n",
        "     for var_name in optimizer.state_dict():\n",
        "      print(var_name, \"\\t\", optimizer.state_dict()[var_name])\n",
        "\n",
        "    print('=========================================')\n",
        "\"\"\""
      ],
      "metadata": {
        "pycharm": {
          "name": "#%%\n",
          "is_executing": true
        },
        "colab": {
          "base_uri": "https://localhost:8080/",
          "height": 1000
        },
        "id": "JbU6B7rX3wQF",
        "outputId": "60797168-31f6-46d4-f73f-1c89136b503b"
      }
    },
    {
      "cell_type": "code",
      "execution_count": 34,
      "outputs": [
        {
          "output_type": "execute_result",
          "data": {
            "text/plain": [
              "<matplotlib.legend.Legend at 0x7fbb594da910>"
            ]
          },
          "metadata": {},
          "execution_count": 34
        },
        {
          "output_type": "display_data",
          "data": {
            "text/plain": [
              "<Figure size 432x288 with 1 Axes>"
            ],
            "image/png": "[encoded data removed]"
          },
          "metadata": {
            "needs_background": "light"
          }
        }
      ],
      "source": [
        "#그래프 확인\n",
        "plt.plot(loss_value, label='Training Loss')\n",
        "plt.title('Training Loss')\n",
        "plt.legend()"
      ],
      "metadata": {
        "pycharm": {
          "name": "#%%\n"
        },
        "colab": {
          "base_uri": "https://localhost:8080/",
          "height": 299
        },
        "id": "G868PrBf3wQF",
        "outputId": "679b6ba2-a00d-4303-81c9-de03baa9c55a"
      }
    },
    {
      "cell_type": "code",
      "execution_count": 35,
      "outputs": [
        {
          "output_type": "execute_result",
          "data": {
            "text/plain": [
              "Text(0.5, 0, 'Epoch')"
            ]
          },
          "metadata": {},
          "execution_count": 35
        },
        {
          "output_type": "display_data",
          "data": {
            "text/plain": [
              "<Figure size 432x288 with 1 Axes>"
            ],
            "image/png": "[encoded data removed]"
          },
          "metadata": {
            "needs_background": "light"
          }
        }
      ],
      "source": [
        "plt.plot(accuracy_value, label='Accuracy')\n",
        "plt.title('Accuracy')\n",
        "plt.xlabel('Epoch')"
      ],
      "metadata": {
        "pycharm": {
          "name": "#%%\n"
        },
        "colab": {
          "base_uri": "https://localhost:8080/",
          "height": 313
        },
        "id": "l6kiwPc23wQG",
        "outputId": "55a55a19-b7a3-4967-ff9f-a16efedb2749"
      }
    }
  ],
  "metadata": {
    "kernelspec": {
      "display_name": "Python 3",
      "language": "python",
      "name": "python3"
    },
    "language_info": {
      "codemirror_mode": {
        "name": "ipython",
        "version": 2
      },
      "file_extension": ".py",
      "mimetype": "text/x-python",
      "name": "python",
      "nbconvert_exporter": "python",
      "pygments_lexer": "ipython2",
      "version": "2.7.6"
    },
    "colab": {
      "provenance": [],
      "collapsed_sections": []
    },
    "widgets": {
      "application/vnd.jupyter.widget-state+json": {
        "65e07976fac24d51935b777989a7e057": {
          "model_module": "@jupyter-widgets/controls",
          "model_name": "HBoxModel",
          "model_module_version": "1.5.0",
          "state": {
            "_dom_classes": [],
            "_model_module": "@jupyter-widgets/controls",
            "_model_module_version": "1.5.0",
            "_model_name": "HBoxModel",
            "_view_count": null,
            "_view_module": "@jupyter-widgets/controls",
            "_view_module_version": "1.5.0",
            "_view_name": "HBoxView",
            "box_style": "",
            "children": [
              "IPY_MODEL_b5325d264f38455ba875f9581d135210",
              "IPY_MODEL_83eea63caa0e4d9f87b3acca6344c145",
              "IPY_MODEL_cb90db08754f4f20a853ac211ba4e504"
            ],
            "layout": "IPY_MODEL_129a409f222b427fa91953132052bfe0"
          }
        },
        "b5325d264f38455ba875f9581d135210": {
          "model_module": "@jupyter-widgets/controls",
          "model_name": "HTMLModel",
          "model_module_version": "1.5.0",
          "state": {
            "_dom_classes": [],
            "_model_module": "@jupyter-widgets/controls",
            "_model_module_version": "1.5.0",
            "_model_name": "HTMLModel",
            "_view_count": null,
            "_view_module": "@jupyter-widgets/controls",
            "_view_module_version": "1.5.0",
            "_view_name": "HTMLView",
            "description": "",
            "description_tooltip": null,
            "layout": "IPY_MODEL_bee3d5f58522429ca294b5c1db1d23b1",
            "placeholder": "​",
            "style": "IPY_MODEL_13d5f51feb0a4cf2907807aea652ae54",
            "value": "100%"
          }
        },
        "83eea63caa0e4d9f87b3acca6344c145": {
          "model_module": "@jupyter-widgets/controls",
          "model_name": "FloatProgressModel",
          "model_module_version": "1.5.0",
          "state": {
            "_dom_classes": [],
            "_model_module": "@jupyter-widgets/controls",
            "_model_module_version": "1.5.0",
            "_model_name": "FloatProgressModel",
            "_view_count": null,
            "_view_module": "@jupyter-widgets/controls",
            "_view_module_version": "1.5.0",
            "_view_name": "ProgressView",
            "bar_style": "success",
            "description": "",
            "description_tooltip": null,
            "layout": "IPY_MODEL_e33583c83b8246f48fd22d278eb8d52c",
            "max": 9912422,
            "min": 0,
            "orientation": "horizontal",
            "style": "IPY_MODEL_71c131a6b50e432c824515f41f7b8bbb",
            "value": 9912422
          }
        },
        "cb90db08754f4f20a853ac211ba4e504": {
          "model_module": "@jupyter-widgets/controls",
          "model_name": "HTMLModel",
          "model_module_version": "1.5.0",
          "state": {
            "_dom_classes": [],
            "_model_module": "@jupyter-widgets/controls",
            "_model_module_version": "1.5.0",
            "_model_name": "HTMLModel",
            "_view_count": null,
            "_view_module": "@jupyter-widgets/controls",
            "_view_module_version": "1.5.0",
            "_view_name": "HTMLView",
            "description": "",
            "description_tooltip": null,
            "layout": "IPY_MODEL_1ad3a5b4604e4e5899b832a224da7240",
            "placeholder": "​",
            "style": "IPY_MODEL_4f4f3f7dfba24e55b367b18e635dcf8d",
            "value": " 9912422/9912422 [00:00&lt;00:00, 13095972.13it/s]"
          }
        },
        "129a409f222b427fa91953132052bfe0": {
          "model_module": "@jupyter-widgets/base",
          "model_name": "LayoutModel",
          "model_module_version": "1.2.0",
          "state": {
            "_model_module": "@jupyter-widgets/base",
            "_model_module_version": "1.2.0",
            "_model_name": "LayoutModel",
            "_view_count": null,
            "_view_module": "@jupyter-widgets/base",
            "_view_module_version": "1.2.0",
            "_view_name": "LayoutView",
            "align_content": null,
            "align_items": null,
            "align_self": null,
            "border": null,
            "bottom": null,
            "display": null,
            "flex": null,
            "flex_flow": null,
            "grid_area": null,
            "grid_auto_columns": null,
            "grid_auto_flow": null,
            "grid_auto_rows": null,
            "grid_column": null,
            "grid_gap": null,
            "grid_row": null,
            "grid_template_areas": null,
            "grid_template_columns": null,
            "grid_template_rows": null,
            "height": null,
            "justify_content": null,
            "justify_items": null,
            "left": null,
            "margin": null,
            "max_height": null,
            "max_width": null,
            "min_height": null,
            "min_width": null,
            "object_fit": null,
            "object_position": null,
            "order": null,
            "overflow": null,
            "overflow_x": null,
            "overflow_y": null,
            "padding": null,
            "right": null,
            "top": null,
            "visibility": null,
            "width": null
          }
        },
        "bee3d5f58522429ca294b5c1db1d23b1": {
          "model_module": "@jupyter-widgets/base",
          "model_name": "LayoutModel",
          "model_module_version": "1.2.0",
          "state": {
            "_model_module": "@jupyter-widgets/base",
            "_model_module_version": "1.2.0",
            "_model_name": "LayoutModel",
            "_view_count": null,
            "_view_module": "@jupyter-widgets/base",
            "_view_module_version": "1.2.0",
            "_view_name": "LayoutView",
            "align_content": null,
            "align_items": null,
            "align_self": null,
            "border": null,
            "bottom": null,
            "display": null,
            "flex": null,
            "flex_flow": null,
            "grid_area": null,
            "grid_auto_columns": null,
            "grid_auto_flow": null,
            "grid_auto_rows": null,
            "grid_column": null,
            "grid_gap": null,
            "grid_row": null,
            "grid_template_areas": null,
            "grid_template_columns": null,
            "grid_template_rows": null,
            "height": null,
            "justify_content": null,
            "justify_items": null,
            "left": null,
            "margin": null,
            "max_height": null,
            "max_width": null,
            "min_height": null,
            "min_width": null,
            "object_fit": null,
            "object_position": null,
            "order": null,
            "overflow": null,
            "overflow_x": null,
            "overflow_y": null,
            "padding": null,
            "right": null,
            "top": null,
            "visibility": null,
            "width": null
          }
        },
        "13d5f51feb0a4cf2907807aea652ae54": {
          "model_module": "@jupyter-widgets/controls",
          "model_name": "DescriptionStyleModel",
          "model_module_version": "1.5.0",
          "state": {
            "_model_module": "@jupyter-widgets/controls",
            "_model_module_version": "1.5.0",
            "_model_name": "DescriptionStyleModel",
            "_view_count": null,
            "_view_module": "@jupyter-widgets/base",
            "_view_module_version": "1.2.0",
            "_view_name": "StyleView",
            "description_width": ""
          }
        },
        "e33583c83b8246f48fd22d278eb8d52c": {
          "model_module": "@jupyter-widgets/base",
          "model_name": "LayoutModel",
          "model_module_version": "1.2.0",
          "state": {
            "_model_module": "@jupyter-widgets/base",
            "_model_module_version": "1.2.0",
            "_model_name": "LayoutModel",
            "_view_count": null,
            "_view_module": "@jupyter-widgets/base",
            "_view_module_version": "1.2.0",
            "_view_name": "LayoutView",
            "align_content": null,
            "align_items": null,
            "align_self": null,
            "border": null,
            "bottom": null,
            "display": null,
            "flex": null,
            "flex_flow": null,
            "grid_area": null,
            "grid_auto_columns": null,
            "grid_auto_flow": null,
            "grid_auto_rows": null,
            "grid_column": null,
            "grid_gap": null,
            "grid_row": null,
            "grid_template_areas": null,
            "grid_template_columns": null,
            "grid_template_rows": null,
            "height": null,
            "justify_content": null,
            "justify_items": null,
            "left": null,
            "margin": null,
            "max_height": null,
            "max_width": null,
            "min_height": null,
            "min_width": null,
            "object_fit": null,
            "object_position": null,
            "order": null,
            "overflow": null,
            "overflow_x": null,
            "overflow_y": null,
            "padding": null,
            "right": null,
            "top": null,
            "visibility": null,
            "width": null
          }
        },
        "71c131a6b50e432c824515f41f7b8bbb": {
          "model_module": "@jupyter-widgets/controls",
          "model_name": "ProgressStyleModel",
          "model_module_version": "1.5.0",
          "state": {
            "_model_module": "@jupyter-widgets/controls",
            "_model_module_version": "1.5.0",
            "_model_name": "ProgressStyleModel",
            "_view_count": null,
            "_view_module": "@jupyter-widgets/base",
            "_view_module_version": "1.2.0",
            "_view_name": "StyleView",
            "bar_color": null,
            "description_width": ""
          }
        },
        "1ad3a5b4604e4e5899b832a224da7240": {
          "model_module": "@jupyter-widgets/base",
          "model_name": "LayoutModel",
          "model_module_version": "1.2.0",
          "state": {
            "_model_module": "@jupyter-widgets/base",
            "_model_module_version": "1.2.0",
            "_model_name": "LayoutModel",
            "_view_count": null,
            "_view_module": "@jupyter-widgets/base",
            "_view_module_version": "1.2.0",
            "_view_name": "LayoutView",
            "align_content": null,
            "align_items": null,
            "align_self": null,
            "border": null,
            "bottom": null,
            "display": null,
            "flex": null,
            "flex_flow": null,
            "grid_area": null,
            "grid_auto_columns": null,
            "grid_auto_flow": null,
            "grid_auto_rows": null,
            "grid_column": null,
            "grid_gap": null,
            "grid_row": null,
            "grid_template_areas": null,
            "grid_template_columns": null,
            "grid_template_rows": null,
            "height": null,
            "justify_content": null,
            "justify_items": null,
            "left": null,
            "margin": null,
            "max_height": null,
            "max_width": null,
            "min_height": null,
            "min_width": null,
            "object_fit": null,
            "object_position": null,
            "order": null,
            "overflow": null,
            "overflow_x": null,
            "overflow_y": null,
            "padding": null,
            "right": null,
            "top": null,
            "visibility": null,
            "width": null
          }
        },
        "4f4f3f7dfba24e55b367b18e635dcf8d": {
          "model_module": "@jupyter-widgets/controls",
          "model_name": "DescriptionStyleModel",
          "model_module_version": "1.5.0",
          "state": {
            "_model_module": "@jupyter-widgets/controls",
            "_model_module_version": "1.5.0",
            "_model_name": "DescriptionStyleModel",
            "_view_count": null,
            "_view_module": "@jupyter-widgets/base",
            "_view_module_version": "1.2.0",
            "_view_name": "StyleView",
            "description_width": ""
          }
        },
        "947fc70866c04eeabe37ede13777c79f": {
          "model_module": "@jupyter-widgets/controls",
          "model_name": "HBoxModel",
          "model_module_version": "1.5.0",
          "state": {
            "_dom_classes": [],
            "_model_module": "@jupyter-widgets/controls",
            "_model_module_version": "1.5.0",
            "_model_name": "HBoxModel",
            "_view_count": null,
            "_view_module": "@jupyter-widgets/controls",
            "_view_module_version": "1.5.0",
            "_view_name": "HBoxView",
            "box_style": "",
            "children": [
              "IPY_MODEL_5030689cc06d4bcba0a30f0956a1a0e6",
              "IPY_MODEL_81d0ae0a57734fc085ce565596fae775",
              "IPY_MODEL_1397b21265ad4419a799f7075bad98e9"
            ],
            "layout": "IPY_MODEL_b7de350c0df542049d964fac77a2d430"
          }
        },
        "5030689cc06d4bcba0a30f0956a1a0e6": {
          "model_module": "@jupyter-widgets/controls",
          "model_name": "HTMLModel",
          "model_module_version": "1.5.0",
          "state": {
            "_dom_classes": [],
            "_model_module": "@jupyter-widgets/controls",
            "_model_module_version": "1.5.0",
            "_model_name": "HTMLModel",
            "_view_count": null,
            "_view_module": "@jupyter-widgets/controls",
            "_view_module_version": "1.5.0",
            "_view_name": "HTMLView",
            "description": "",
            "description_tooltip": null,
            "layout": "IPY_MODEL_3a72272e08b244a39b2035b71e804c65",
            "placeholder": "​",
            "style": "IPY_MODEL_5d6b6ef2bb8d44798bee4fffa2f08705",
            "value": "100%"
          }
        },
        "81d0ae0a57734fc085ce565596fae775": {
          "model_module": "@jupyter-widgets/controls",
          "model_name": "FloatProgressModel",
          "model_module_version": "1.5.0",
          "state": {
            "_dom_classes": [],
            "_model_module": "@jupyter-widgets/controls",
            "_model_module_version": "1.5.0",
            "_model_name": "FloatProgressModel",
            "_view_count": null,
            "_view_module": "@jupyter-widgets/controls",
            "_view_module_version": "1.5.0",
            "_view_name": "ProgressView",
            "bar_style": "success",
            "description": "",
            "description_tooltip": null,
            "layout": "IPY_MODEL_819f0d4d514c4e9e8bca19620c1ea596",
            "max": 28881,
            "min": 0,
            "orientation": "horizontal",
            "style": "IPY_MODEL_393a91a44dca4861b432e32ef94450ec",
            "value": 28881
          }
        },
        "1397b21265ad4419a799f7075bad98e9": {
          "model_module": "@jupyter-widgets/controls",
          "model_name": "HTMLModel",
          "model_module_version": "1.5.0",
          "state": {
            "_dom_classes": [],
            "_model_module": "@jupyter-widgets/controls",
            "_model_module_version": "1.5.0",
            "_model_name": "HTMLModel",
            "_view_count": null,
            "_view_module": "@jupyter-widgets/controls",
            "_view_module_version": "1.5.0",
            "_view_name": "HTMLView",
            "description": "",
            "description_tooltip": null,
            "layout": "IPY_MODEL_8eb85fdf4abb4193b02e84bd267fb403",
            "placeholder": "​",
            "style": "IPY_MODEL_5b345a273a3e485bb3b9acb6aca71320",
            "value": " 28881/28881 [00:00&lt;00:00, 291725.23it/s]"
          }
        },
        "b7de350c0df542049d964fac77a2d430": {
          "model_module": "@jupyter-widgets/base",
          "model_name": "LayoutModel",
          "model_module_version": "1.2.0",
          "state": {
            "_model_module": "@jupyter-widgets/base",
            "_model_module_version": "1.2.0",
            "_model_name": "LayoutModel",
            "_view_count": null,
            "_view_module": "@jupyter-widgets/base",
            "_view_module_version": "1.2.0",
            "_view_name": "LayoutView",
            "align_content": null,
            "align_items": null,
            "align_self": null,
            "border": null,
            "bottom": null,
            "display": null,
            "flex": null,
            "flex_flow": null,
            "grid_area": null,
            "grid_auto_columns": null,
            "grid_auto_flow": null,
            "grid_auto_rows": null,
            "grid_column": null,
            "grid_gap": null,
            "grid_row": null,
            "grid_template_areas": null,
            "grid_template_columns": null,
            "grid_template_rows": null,
            "height": null,
            "justify_content": null,
            "justify_items": null,
            "left": null,
            "margin": null,
            "max_height": null,
            "max_width": null,
            "min_height": null,
            "min_width": null,
            "object_fit": null,
            "object_position": null,
            "order": null,
            "overflow": null,
            "overflow_x": null,
            "overflow_y": null,
            "padding": null,
            "right": null,
            "top": null,
            "visibility": null,
            "width": null
          }
        },
        "3a72272e08b244a39b2035b71e804c65": {
          "model_module": "@jupyter-widgets/base",
          "model_name": "LayoutModel",
          "model_module_version": "1.2.0",
          "state": {
            "_model_module": "@jupyter-widgets/base",
            "_model_module_version": "1.2.0",
            "_model_name": "LayoutModel",
            "_view_count": null,
            "_view_module": "@jupyter-widgets/base",
            "_view_module_version": "1.2.0",
            "_view_name": "LayoutView",
            "align_content": null,
            "align_items": null,
            "align_self": null,
            "border": null,
            "bottom": null,
            "display": null,
            "flex": null,
            "flex_flow": null,
            "grid_area": null,
            "grid_auto_columns": null,
            "grid_auto_flow": null,
            "grid_auto_rows": null,
            "grid_column": null,
            "grid_gap": null,
            "grid_row": null,
            "grid_template_areas": null,
            "grid_template_columns": null,
            "grid_template_rows": null,
            "height": null,
            "justify_content": null,
            "justify_items": null,
            "left": null,
            "margin": null,
            "max_height": null,
            "max_width": null,
            "min_height": null,
            "min_width": null,
            "object_fit": null,
            "object_position": null,
            "order": null,
            "overflow": null,
            "overflow_x": null,
            "overflow_y": null,
            "padding": null,
            "right": null,
            "top": null,
            "visibility": null,
            "width": null
          }
        },
        "5d6b6ef2bb8d44798bee4fffa2f08705": {
          "model_module": "@jupyter-widgets/controls",
          "model_name": "DescriptionStyleModel",
          "model_module_version": "1.5.0",
          "state": {
            "_model_module": "@jupyter-widgets/controls",
            "_model_module_version": "1.5.0",
            "_model_name": "DescriptionStyleModel",
            "_view_count": null,
            "_view_module": "@jupyter-widgets/base",
            "_view_module_version": "1.2.0",
            "_view_name": "StyleView",
            "description_width": ""
          }
        },
        "819f0d4d514c4e9e8bca19620c1ea596": {
          "model_module": "@jupyter-widgets/base",
          "model_name": "LayoutModel",
          "model_module_version": "1.2.0",
          "state": {
            "_model_module": "@jupyter-widgets/base",
            "_model_module_version": "1.2.0",
            "_model_name": "LayoutModel",
            "_view_count": null,
            "_view_module": "@jupyter-widgets/base",
            "_view_module_version": "1.2.0",
            "_view_name": "LayoutView",
            "align_content": null,
            "align_items": null,
            "align_self": null,
            "border": null,
            "bottom": null,
            "display": null,
            "flex": null,
            "flex_flow": null,
            "grid_area": null,
            "grid_auto_columns": null,
            "grid_auto_flow": null,
            "grid_auto_rows": null,
            "grid_column": null,
            "grid_gap": null,
            "grid_row": null,
            "grid_template_areas": null,
            "grid_template_columns": null,
            "grid_template_rows": null,
            "height": null,
            "justify_content": null,
            "justify_items": null,
            "left": null,
            "margin": null,
            "max_height": null,
            "max_width": null,
            "min_height": null,
            "min_width": null,
            "object_fit": null,
            "object_position": null,
            "order": null,
            "overflow": null,
            "overflow_x": null,
            "overflow_y": null,
            "padding": null,
            "right": null,
            "top": null,
            "visibility": null,
            "width": null
          }
        },
        "393a91a44dca4861b432e32ef94450ec": {
          "model_module": "@jupyter-widgets/controls",
          "model_name": "ProgressStyleModel",
          "model_module_version": "1.5.0",
          "state": {
            "_model_module": "@jupyter-widgets/controls",
            "_model_module_version": "1.5.0",
            "_model_name": "ProgressStyleModel",
            "_view_count": null,
            "_view_module": "@jupyter-widgets/base",
            "_view_module_version": "1.2.0",
            "_view_name": "StyleView",
            "bar_color": null,
            "description_width": ""
          }
        },
        "8eb85fdf4abb4193b02e84bd267fb403": {
          "model_module": "@jupyter-widgets/base",
          "model_name": "LayoutModel",
          "model_module_version": "1.2.0",
          "state": {
            "_model_module": "@jupyter-widgets/base",
            "_model_module_version": "1.2.0",
            "_model_name": "LayoutModel",
            "_view_count": null,
            "_view_module": "@jupyter-widgets/base",
            "_view_module_version": "1.2.0",
            "_view_name": "LayoutView",
            "align_content": null,
            "align_items": null,
            "align_self": null,
            "border": null,
            "bottom": null,
            "display": null,
            "flex": null,
            "flex_flow": null,
            "grid_area": null,
            "grid_auto_columns": null,
            "grid_auto_flow": null,
            "grid_auto_rows": null,
            "grid_column": null,
            "grid_gap": null,
            "grid_row": null,
            "grid_template_areas": null,
            "grid_template_columns": null,
            "grid_template_rows": null,
            "height": null,
            "justify_content": null,
            "justify_items": null,
            "left": null,
            "margin": null,
            "max_height": null,
            "max_width": null,
            "min_height": null,
            "min_width": null,
            "object_fit": null,
            "object_position": null,
            "order": null,
            "overflow": null,
            "overflow_x": null,
            "overflow_y": null,
            "padding": null,
            "right": null,
            "top": null,
            "visibility": null,
            "width": null
          }
        },
        "5b345a273a3e485bb3b9acb6aca71320": {
          "model_module": "@jupyter-widgets/controls",
          "model_name": "DescriptionStyleModel",
          "model_module_version": "1.5.0",
          "state": {
            "_model_module": "@jupyter-widgets/controls",
            "_model_module_version": "1.5.0",
            "_model_name": "DescriptionStyleModel",
            "_view_count": null,
            "_view_module": "@jupyter-widgets/base",
            "_view_module_version": "1.2.0",
            "_view_name": "StyleView",
            "description_width": ""
          }
        },
        "793ab888f7a440b6b45745ad2c3c3df2": {
          "model_module": "@jupyter-widgets/controls",
          "model_name": "HBoxModel",
          "model_module_version": "1.5.0",
          "state": {
            "_dom_classes": [],
            "_model_module": "@jupyter-widgets/controls",
            "_model_module_version": "1.5.0",
            "_model_name": "HBoxModel",
            "_view_count": null,
            "_view_module": "@jupyter-widgets/controls",
            "_view_module_version": "1.5.0",
            "_view_name": "HBoxView",
            "box_style": "",
            "children": [
              "IPY_MODEL_190e108e476149bb8089ff08401421cf",
              "IPY_MODEL_353425cba10b48ab9040100ee23a0c80",
              "IPY_MODEL_ce62ee33633246ef8559f24e6c079acd"
            ],
            "layout": "IPY_MODEL_d40b8505e8534fdb829d31f1c9f2dc85"
          }
        },
        "190e108e476149bb8089ff08401421cf": {
          "model_module": "@jupyter-widgets/controls",
          "model_name": "HTMLModel",
          "model_module_version": "1.5.0",
          "state": {
            "_dom_classes": [],
            "_model_module": "@jupyter-widgets/controls",
            "_model_module_version": "1.5.0",
            "_model_name": "HTMLModel",
            "_view_count": null,
            "_view_module": "@jupyter-widgets/controls",
            "_view_module_version": "1.5.0",
            "_view_name": "HTMLView",
            "description": "",
            "description_tooltip": null,
            "layout": "IPY_MODEL_7803ae7f39414135b76d9c99a5dbd5a9",
            "placeholder": "​",
            "style": "IPY_MODEL_f4b0348e546b48d389901f854cce8d9c",
            "value": "100%"
          }
        },
        "353425cba10b48ab9040100ee23a0c80": {
          "model_module": "@jupyter-widgets/controls",
          "model_name": "FloatProgressModel",
          "model_module_version": "1.5.0",
          "state": {
            "_dom_classes": [],
            "_model_module": "@jupyter-widgets/controls",
            "_model_module_version": "1.5.0",
            "_model_name": "FloatProgressModel",
            "_view_count": null,
            "_view_module": "@jupyter-widgets/controls",
            "_view_module_version": "1.5.0",
            "_view_name": "ProgressView",
            "bar_style": "success",
            "description": "",
            "description_tooltip": null,
            "layout": "IPY_MODEL_48dbb0810ac648da8cac84267680ad67",
            "max": 1648877,
            "min": 0,
            "orientation": "horizontal",
            "style": "IPY_MODEL_257d37b333c04512aa023de688397ec5",
            "value": 1648877
          }
        },
        "ce62ee33633246ef8559f24e6c079acd": {
          "model_module": "@jupyter-widgets/controls",
          "model_name": "HTMLModel",
          "model_module_version": "1.5.0",
          "state": {
            "_dom_classes": [],
            "_model_module": "@jupyter-widgets/controls",
            "_model_module_version": "1.5.0",
            "_model_name": "HTMLModel",
            "_view_count": null,
            "_view_module": "@jupyter-widgets/controls",
            "_view_module_version": "1.5.0",
            "_view_name": "HTMLView",
            "description": "",
            "description_tooltip": null,
            "layout": "IPY_MODEL_5754dac766d2440cb2dad751d98f17d8",
            "placeholder": "​",
            "style": "IPY_MODEL_344a25fce495438082d7e4bba85f7702",
            "value": " 1648877/1648877 [00:00&lt;00:00, 310795.27it/s]"
          }
        },
        "d40b8505e8534fdb829d31f1c9f2dc85": {
          "model_module": "@jupyter-widgets/base",
          "model_name": "LayoutModel",
          "model_module_version": "1.2.0",
          "state": {
            "_model_module": "@jupyter-widgets/base",
            "_model_module_version": "1.2.0",
            "_model_name": "LayoutModel",
            "_view_count": null,
            "_view_module": "@jupyter-widgets/base",
            "_view_module_version": "1.2.0",
            "_view_name": "LayoutView",
            "align_content": null,
            "align_items": null,
            "align_self": null,
            "border": null,
            "bottom": null,
            "display": null,
            "flex": null,
            "flex_flow": null,
            "grid_area": null,
            "grid_auto_columns": null,
            "grid_auto_flow": null,
            "grid_auto_rows": null,
            "grid_column": null,
            "grid_gap": null,
            "grid_row": null,
            "grid_template_areas": null,
            "grid_template_columns": null,
            "grid_template_rows": null,
            "height": null,
            "justify_content": null,
            "justify_items": null,
            "left": null,
            "margin": null,
            "max_height": null,
            "max_width": null,
            "min_height": null,
            "min_width": null,
            "object_fit": null,
            "object_position": null,
            "order": null,
            "overflow": null,
            "overflow_x": null,
            "overflow_y": null,
            "padding": null,
            "right": null,
            "top": null,
            "visibility": null,
            "width": null
          }
        },
        "7803ae7f39414135b76d9c99a5dbd5a9": {
          "model_module": "@jupyter-widgets/base",
          "model_name": "LayoutModel",
          "model_module_version": "1.2.0",
          "state": {
            "_model_module": "@jupyter-widgets/base",
            "_model_module_version": "1.2.0",
            "_model_name": "LayoutModel",
            "_view_count": null,
            "_view_module": "@jupyter-widgets/base",
            "_view_module_version": "1.2.0",
            "_view_name": "LayoutView",
            "align_content": null,
            "align_items": null,
            "align_self": null,
            "border": null,
            "bottom": null,
            "display": null,
            "flex": null,
            "flex_flow": null,
            "grid_area": null,
            "grid_auto_columns": null,
            "grid_auto_flow": null,
            "grid_auto_rows": null,
            "grid_column": null,
            "grid_gap": null,
            "grid_row": null,
            "grid_template_areas": null,
            "grid_template_columns": null,
            "grid_template_rows": null,
            "height": null,
            "justify_content": null,
            "justify_items": null,
            "left": null,
            "margin": null,
            "max_height": null,
            "max_width": null,
            "min_height": null,
            "min_width": null,
            "object_fit": null,
            "object_position": null,
            "order": null,
            "overflow": null,
            "overflow_x": null,
            "overflow_y": null,
            "padding": null,
            "right": null,
            "top": null,
            "visibility": null,
            "width": null
          }
        },
        "f4b0348e546b48d389901f854cce8d9c": {
          "model_module": "@jupyter-widgets/controls",
          "model_name": "DescriptionStyleModel",
          "model_module_version": "1.5.0",
          "state": {
            "_model_module": "@jupyter-widgets/controls",
            "_model_module_version": "1.5.0",
            "_model_name": "DescriptionStyleModel",
            "_view_count": null,
            "_view_module": "@jupyter-widgets/base",
            "_view_module_version": "1.2.0",
            "_view_name": "StyleView",
            "description_width": ""
          }
        },
        "48dbb0810ac648da8cac84267680ad67": {
          "model_module": "@jupyter-widgets/base",
          "model_name": "LayoutModel",
          "model_module_version": "1.2.0",
          "state": {
            "_model_module": "@jupyter-widgets/base",
            "_model_module_version": "1.2.0",
            "_model_name": "LayoutModel",
            "_view_count": null,
            "_view_module": "@jupyter-widgets/base",
            "_view_module_version": "1.2.0",
            "_view_name": "LayoutView",
            "align_content": null,
            "align_items": null,
            "align_self": null,
            "border": null,
            "bottom": null,
            "display": null,
            "flex": null,
            "flex_flow": null,
            "grid_area": null,
            "grid_auto_columns": null,
            "grid_auto_flow": null,
            "grid_auto_rows": null,
            "grid_column": null,
            "grid_gap": null,
            "grid_row": null,
            "grid_template_areas": null,
            "grid_template_columns": null,
            "grid_template_rows": null,
            "height": null,
            "justify_content": null,
            "justify_items": null,
            "left": null,
            "margin": null,
            "max_height": null,
            "max_width": null,
            "min_height": null,
            "min_width": null,
            "object_fit": null,
            "object_position": null,
            "order": null,
            "overflow": null,
            "overflow_x": null,
            "overflow_y": null,
            "padding": null,
            "right": null,
            "top": null,
            "visibility": null,
            "width": null
          }
        },
        "257d37b333c04512aa023de688397ec5": {
          "model_module": "@jupyter-widgets/controls",
          "model_name": "ProgressStyleModel",
          "model_module_version": "1.5.0",
          "state": {
            "_model_module": "@jupyter-widgets/controls",
            "_model_module_version": "1.5.0",
            "_model_name": "ProgressStyleModel",
            "_view_count": null,
            "_view_module": "@jupyter-widgets/base",
            "_view_module_version": "1.2.0",
            "_view_name": "StyleView",
            "bar_color": null,
            "description_width": ""
          }
        },
        "5754dac766d2440cb2dad751d98f17d8": {
          "model_module": "@jupyter-widgets/base",
          "model_name": "LayoutModel",
          "model_module_version": "1.2.0",
          "state": {
            "_model_module": "@jupyter-widgets/base",
            "_model_module_version": "1.2.0",
            "_model_name": "LayoutModel",
            "_view_count": null,
            "_view_module": "@jupyter-widgets/base",
            "_view_module_version": "1.2.0",
            "_view_name": "LayoutView",
            "align_content": null,
            "align_items": null,
            "align_self": null,
            "border": null,
            "bottom": null,
            "display": null,
            "flex": null,
            "flex_flow": null,
            "grid_area": null,
            "grid_auto_columns": null,
            "grid_auto_flow": null,
            "grid_auto_rows": null,
            "grid_column": null,
            "grid_gap": null,
            "grid_row": null,
            "grid_template_areas": null,
            "grid_template_columns": null,
            "grid_template_rows": null,
            "height": null,
            "justify_content": null,
            "justify_items": null,
            "left": null,
            "margin": null,
            "max_height": null,
            "max_width": null,
            "min_height": null,
            "min_width": null,
            "object_fit": null,
            "object_position": null,
            "order": null,
            "overflow": null,
            "overflow_x": null,
            "overflow_y": null,
            "padding": null,
            "right": null,
            "top": null,
            "visibility": null,
            "width": null
          }
        },
        "344a25fce495438082d7e4bba85f7702": {
          "model_module": "@jupyter-widgets/controls",
          "model_name": "DescriptionStyleModel",
          "model_module_version": "1.5.0",
          "state": {
            "_model_module": "@jupyter-widgets/controls",
            "_model_module_version": "1.5.0",
            "_model_name": "DescriptionStyleModel",
            "_view_count": null,
            "_view_module": "@jupyter-widgets/base",
            "_view_module_version": "1.2.0",
            "_view_name": "StyleView",
            "description_width": ""
          }
        },
        "31721d8e0cf543dbaaa33b59f6ce4ea0": {
          "model_module": "@jupyter-widgets/controls",
          "model_name": "HBoxModel",
          "model_module_version": "1.5.0",
          "state": {
            "_dom_classes": [],
            "_model_module": "@jupyter-widgets/controls",
            "_model_module_version": "1.5.0",
            "_model_name": "HBoxModel",
            "_view_count": null,
            "_view_module": "@jupyter-widgets/controls",
            "_view_module_version": "1.5.0",
            "_view_name": "HBoxView",
            "box_style": "",
            "children": [
              "IPY_MODEL_8eb14290f8044c47b9ceaca3f3122db9",
              "IPY_MODEL_4c19c7cee45641389bb7f92e17e90b8e",
              "IPY_MODEL_2c3ab96cbed14763a4e684228193c7a4"
            ],
            "layout": "IPY_MODEL_cdfb05c774c9477d9a63363f4070ca8e"
          }
        },
        "8eb14290f8044c47b9ceaca3f3122db9": {
          "model_module": "@jupyter-widgets/controls",
          "model_name": "HTMLModel",
          "model_module_version": "1.5.0",
          "state": {
            "_dom_classes": [],
            "_model_module": "@jupyter-widgets/controls",
            "_model_module_version": "1.5.0",
            "_model_name": "HTMLModel",
            "_view_count": null,
            "_view_module": "@jupyter-widgets/controls",
            "_view_module_version": "1.5.0",
            "_view_name": "HTMLView",
            "description": "",
            "description_tooltip": null,
            "layout": "IPY_MODEL_04f9c2769d3945b69fe235bdb717e0c1",
            "placeholder": "​",
            "style": "IPY_MODEL_573f99984c1945618ad37de6aa689a89",
            "value": "100%"
          }
        },
        "4c19c7cee45641389bb7f92e17e90b8e": {
          "model_module": "@jupyter-widgets/controls",
          "model_name": "FloatProgressModel",
          "model_module_version": "1.5.0",
          "state": {
            "_dom_classes": [],
            "_model_module": "@jupyter-widgets/controls",
            "_model_module_version": "1.5.0",
            "_model_name": "FloatProgressModel",
            "_view_count": null,
            "_view_module": "@jupyter-widgets/controls",
            "_view_module_version": "1.5.0",
            "_view_name": "ProgressView",
            "bar_style": "success",
            "description": "",
            "description_tooltip": null,
            "layout": "IPY_MODEL_4419578921664505ae7b8ad6a98d2ca5",
            "max": 4542,
            "min": 0,
            "orientation": "horizontal",
            "style": "IPY_MODEL_c00c96f390fd4746901e1493d12e76b7",
            "value": 4542
          }
        },
        "2c3ab96cbed14763a4e684228193c7a4": {
          "model_module": "@jupyter-widgets/controls",
          "model_name": "HTMLModel",
          "model_module_version": "1.5.0",
          "state": {
            "_dom_classes": [],
            "_model_module": "@jupyter-widgets/controls",
            "_model_module_version": "1.5.0",
            "_model_name": "HTMLModel",
            "_view_count": null,
            "_view_module": "@jupyter-widgets/controls",
            "_view_module_version": "1.5.0",
            "_view_name": "HTMLView",
            "description": "",
            "description_tooltip": null,
            "layout": "IPY_MODEL_060dff3c5a26423d8818f021571e068c",
            "placeholder": "​",
            "style": "IPY_MODEL_fa66ae5ec75c423593df3ce11168aa04",
            "value": " 4542/4542 [00:00&lt;00:00, 38347.25it/s]"
          }
        },
        "cdfb05c774c9477d9a63363f4070ca8e": {
          "model_module": "@jupyter-widgets/base",
          "model_name": "LayoutModel",
          "model_module_version": "1.2.0",
          "state": {
            "_model_module": "@jupyter-widgets/base",
            "_model_module_version": "1.2.0",
            "_model_name": "LayoutModel",
            "_view_count": null,
            "_view_module": "@jupyter-widgets/base",
            "_view_module_version": "1.2.0",
            "_view_name": "LayoutView",
            "align_content": null,
            "align_items": null,
            "align_self": null,
            "border": null,
            "bottom": null,
            "display": null,
            "flex": null,
            "flex_flow": null,
            "grid_area": null,
            "grid_auto_columns": null,
            "grid_auto_flow": null,
            "grid_auto_rows": null,
            "grid_column": null,
            "grid_gap": null,
            "grid_row": null,
            "grid_template_areas": null,
            "grid_template_columns": null,
            "grid_template_rows": null,
            "height": null,
            "justify_content": null,
            "justify_items": null,
            "left": null,
            "margin": null,
            "max_height": null,
            "max_width": null,
            "min_height": null,
            "min_width": null,
            "object_fit": null,
            "object_position": null,
            "order": null,
            "overflow": null,
            "overflow_x": null,
            "overflow_y": null,
            "padding": null,
            "right": null,
            "top": null,
            "visibility": null,
            "width": null
          }
        },
        "04f9c2769d3945b69fe235bdb717e0c1": {
          "model_module": "@jupyter-widgets/base",
          "model_name": "LayoutModel",
          "model_module_version": "1.2.0",
          "state": {
            "_model_module": "@jupyter-widgets/base",
            "_model_module_version": "1.2.0",
            "_model_name": "LayoutModel",
            "_view_count": null,
            "_view_module": "@jupyter-widgets/base",
            "_view_module_version": "1.2.0",
            "_view_name": "LayoutView",
            "align_content": null,
            "align_items": null,
            "align_self": null,
            "border": null,
            "bottom": null,
            "display": null,
            "flex": null,
            "flex_flow": null,
            "grid_area": null,
            "grid_auto_columns": null,
            "grid_auto_flow": null,
            "grid_auto_rows": null,
            "grid_column": null,
            "grid_gap": null,
            "grid_row": null,
            "grid_template_areas": null,
            "grid_template_columns": null,
            "grid_template_rows": null,
            "height": null,
            "justify_content": null,
            "justify_items": null,
            "left": null,
            "margin": null,
            "max_height": null,
            "max_width": null,
            "min_height": null,
            "min_width": null,
            "object_fit": null,
            "object_position": null,
            "order": null,
            "overflow": null,
            "overflow_x": null,
            "overflow_y": null,
            "padding": null,
            "right": null,
            "top": null,
            "visibility": null,
            "width": null
          }
        },
        "573f99984c1945618ad37de6aa689a89": {
          "model_module": "@jupyter-widgets/controls",
          "model_name": "DescriptionStyleModel",
          "model_module_version": "1.5.0",
          "state": {
            "_model_module": "@jupyter-widgets/controls",
            "_model_module_version": "1.5.0",
            "_model_name": "DescriptionStyleModel",
            "_view_count": null,
            "_view_module": "@jupyter-widgets/base",
            "_view_module_version": "1.2.0",
            "_view_name": "StyleView",
            "description_width": ""
          }
        },
        "4419578921664505ae7b8ad6a98d2ca5": {
          "model_module": "@jupyter-widgets/base",
          "model_name": "LayoutModel",
          "model_module_version": "1.2.0",
          "state": {
            "_model_module": "@jupyter-widgets/base",
            "_model_module_version": "1.2.0",
            "_model_name": "LayoutModel",
            "_view_count": null,
            "_view_module": "@jupyter-widgets/base",
            "_view_module_version": "1.2.0",
            "_view_name": "LayoutView",
            "align_content": null,
            "align_items": null,
            "align_self": null,
            "border": null,
            "bottom": null,
            "display": null,
            "flex": null,
            "flex_flow": null,
            "grid_area": null,
            "grid_auto_columns": null,
            "grid_auto_flow": null,
            "grid_auto_rows": null,
            "grid_column": null,
            "grid_gap": null,
            "grid_row": null,
            "grid_template_areas": null,
            "grid_template_columns": null,
            "grid_template_rows": null,
            "height": null,
            "justify_content": null,
            "justify_items": null,
            "left": null,
            "margin": null,
            "max_height": null,
            "max_width": null,
            "min_height": null,
            "min_width": null,
            "object_fit": null,
            "object_position": null,
            "order": null,
            "overflow": null,
            "overflow_x": null,
            "overflow_y": null,
            "padding": null,
            "right": null,
            "top": null,
            "visibility": null,
            "width": null
          }
        },
        "c00c96f390fd4746901e1493d12e76b7": {
          "model_module": "@jupyter-widgets/controls",
          "model_name": "ProgressStyleModel",
          "model_module_version": "1.5.0",
          "state": {
            "_model_module": "@jupyter-widgets/controls",
            "_model_module_version": "1.5.0",
            "_model_name": "ProgressStyleModel",
            "_view_count": null,
            "_view_module": "@jupyter-widgets/base",
            "_view_module_version": "1.2.0",
            "_view_name": "StyleView",
            "bar_color": null,
            "description_width": ""
          }
        },
        "060dff3c5a26423d8818f021571e068c": {
          "model_module": "@jupyter-widgets/base",
          "model_name": "LayoutModel",
          "model_module_version": "1.2.0",
          "state": {
            "_model_module": "@jupyter-widgets/base",
            "_model_module_version": "1.2.0",
            "_model_name": "LayoutModel",
            "_view_count": null,
            "_view_module": "@jupyter-widgets/base",
            "_view_module_version": "1.2.0",
            "_view_name": "LayoutView",
            "align_content": null,
            "align_items": null,
            "align_self": null,
            "border": null,
            "bottom": null,
            "display": null,
            "flex": null,
            "flex_flow": null,
            "grid_area": null,
            "grid_auto_columns": null,
            "grid_auto_flow": null,
            "grid_auto_rows": null,
            "grid_column": null,
            "grid_gap": null,
            "grid_row": null,
            "grid_template_areas": null,
            "grid_template_columns": null,
            "grid_template_rows": null,
            "height": null,
            "justify_content": null,
            "justify_items": null,
            "left": null,
            "margin": null,
            "max_height": null,
            "max_width": null,
            "min_height": null,
            "min_width": null,
            "object_fit": null,
            "object_position": null,
            "order": null,
            "overflow": null,
            "overflow_x": null,
            "overflow_y": null,
            "padding": null,
            "right": null,
            "top": null,
            "visibility": null,
            "width": null
          }
        },
        "fa66ae5ec75c423593df3ce11168aa04": {
          "model_module": "@jupyter-widgets/controls",
          "model_name": "DescriptionStyleModel",
          "model_module_version": "1.5.0",
          "state": {
            "_model_module": "@jupyter-widgets/controls",
            "_model_module_version": "1.5.0",
            "_model_name": "DescriptionStyleModel",
            "_view_count": null,
            "_view_module": "@jupyter-widgets/base",
            "_view_module_version": "1.2.0",
            "_view_name": "StyleView",
            "description_width": ""
          }
        }
      }
    }
  },
  "nbformat": 4,
  "nbformat_minor": 0
}